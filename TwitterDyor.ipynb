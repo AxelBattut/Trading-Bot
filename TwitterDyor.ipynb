{
  "nbformat": 4,
  "nbformat_minor": 0,
  "metadata": {
    "colab": {
      "name": "TwitterDyor.ipynb",
      "provenance": [],
      "collapsed_sections": [],
      "include_colab_link": true
    },
    "kernelspec": {
      "name": "python3",
      "display_name": "Python 3"
    },
    "language_info": {
      "name": "python"
    }
  },
  "cells": [
    {
      "cell_type": "markdown",
      "metadata": {
        "id": "view-in-github",
        "colab_type": "text"
      },
      "source": [
        "<a href=\"https://colab.research.google.com/github/AxelBattut/Trading-Bot/blob/main/TwitterDyor.ipynb\" target=\"_parent\"><img src=\"https://colab.research.google.com/assets/colab-badge.svg\" alt=\"Open In Colab\"/></a>"
      ]
    },
    {
      "cell_type": "markdown",
      "source": [
        "Notre objectif initial est de développer un bot de trading en y implémentant une analyse technique (fournie par un bot sur twitter ainsi que notre propre calcul, à voir plus tard) et une analyse de tendance (de la même manière fournie par un bot sur twitter et ajustée avec nos paramètres).\n",
        "\n",
        "\n",
        "Nous commencons donc par installer les librairies dont nous avons besoin, cad les libraires twitter, binance, requests (pour utiliser des get sur coingecko) textblob pour des utilisations de graphiques."
      ],
      "metadata": {
        "id": "3xIjYNqu3VXM"
      }
    },
    {
      "cell_type": "code",
      "source": [
        "!pip install twitter\n",
        "!pip install requests\n",
        "!pip install python-binance\n",
        "!pip install tweepy\n",
        "!pip install textblob\n",
        "!pip install pycoingecko\n"
      ],
      "metadata": {
        "colab": {
          "base_uri": "https://localhost:8080/"
        },
        "id": "47di9JwLWnl6",
        "outputId": "909de470-c0ac-41eb-a741-c97ff768b7ad"
      },
      "execution_count": null,
      "outputs": [
        {
          "output_type": "stream",
          "name": "stdout",
          "text": [
            "Requirement already satisfied: twitter in /usr/local/lib/python3.7/dist-packages (1.19.3)\n",
            "Requirement already satisfied: requests in /usr/local/lib/python3.7/dist-packages (2.23.0)\n",
            "Requirement already satisfied: idna<3,>=2.5 in /usr/local/lib/python3.7/dist-packages (from requests) (2.10)\n",
            "Requirement already satisfied: certifi>=2017.4.17 in /usr/local/lib/python3.7/dist-packages (from requests) (2021.10.8)\n",
            "Requirement already satisfied: urllib3!=1.25.0,!=1.25.1,<1.26,>=1.21.1 in /usr/local/lib/python3.7/dist-packages (from requests) (1.24.3)\n",
            "Requirement already satisfied: chardet<4,>=3.0.2 in /usr/local/lib/python3.7/dist-packages (from requests) (3.0.4)\n",
            "Requirement already satisfied: python-binance in /usr/local/lib/python3.7/dist-packages (1.0.15)\n",
            "Requirement already satisfied: websockets==9.1 in /usr/local/lib/python3.7/dist-packages (from python-binance) (9.1)\n",
            "Requirement already satisfied: ujson in /usr/local/lib/python3.7/dist-packages (from python-binance) (5.1.0)\n",
            "Requirement already satisfied: dateparser in /usr/local/lib/python3.7/dist-packages (from python-binance) (1.1.0)\n",
            "Requirement already satisfied: requests in /usr/local/lib/python3.7/dist-packages (from python-binance) (2.23.0)\n",
            "Requirement already satisfied: aiohttp in /usr/local/lib/python3.7/dist-packages (from python-binance) (3.8.1)\n",
            "Requirement already satisfied: six in /usr/local/lib/python3.7/dist-packages (from python-binance) (1.15.0)\n",
            "Requirement already satisfied: multidict<7.0,>=4.5 in /usr/local/lib/python3.7/dist-packages (from aiohttp->python-binance) (5.2.0)\n",
            "Requirement already satisfied: asynctest==0.13.0 in /usr/local/lib/python3.7/dist-packages (from aiohttp->python-binance) (0.13.0)\n",
            "Requirement already satisfied: typing-extensions>=3.7.4 in /usr/local/lib/python3.7/dist-packages (from aiohttp->python-binance) (3.10.0.2)\n",
            "Requirement already satisfied: attrs>=17.3.0 in /usr/local/lib/python3.7/dist-packages (from aiohttp->python-binance) (21.2.0)\n",
            "Requirement already satisfied: aiosignal>=1.1.2 in /usr/local/lib/python3.7/dist-packages (from aiohttp->python-binance) (1.2.0)\n",
            "Requirement already satisfied: frozenlist>=1.1.1 in /usr/local/lib/python3.7/dist-packages (from aiohttp->python-binance) (1.2.0)\n",
            "Requirement already satisfied: async-timeout<5.0,>=4.0.0a3 in /usr/local/lib/python3.7/dist-packages (from aiohttp->python-binance) (4.0.2)\n",
            "Requirement already satisfied: yarl<2.0,>=1.0 in /usr/local/lib/python3.7/dist-packages (from aiohttp->python-binance) (1.7.2)\n",
            "Requirement already satisfied: charset-normalizer<3.0,>=2.0 in /usr/local/lib/python3.7/dist-packages (from aiohttp->python-binance) (2.0.9)\n",
            "Requirement already satisfied: idna>=2.0 in /usr/local/lib/python3.7/dist-packages (from yarl<2.0,>=1.0->aiohttp->python-binance) (2.10)\n",
            "Requirement already satisfied: tzlocal in /usr/local/lib/python3.7/dist-packages (from dateparser->python-binance) (1.5.1)\n",
            "Requirement already satisfied: regex!=2019.02.19,!=2021.8.27 in /usr/local/lib/python3.7/dist-packages (from dateparser->python-binance) (2019.12.20)\n",
            "Requirement already satisfied: pytz in /usr/local/lib/python3.7/dist-packages (from dateparser->python-binance) (2018.9)\n",
            "Requirement already satisfied: python-dateutil in /usr/local/lib/python3.7/dist-packages (from dateparser->python-binance) (2.8.2)\n",
            "Requirement already satisfied: chardet<4,>=3.0.2 in /usr/local/lib/python3.7/dist-packages (from requests->python-binance) (3.0.4)\n",
            "Requirement already satisfied: certifi>=2017.4.17 in /usr/local/lib/python3.7/dist-packages (from requests->python-binance) (2021.10.8)\n",
            "Requirement already satisfied: urllib3!=1.25.0,!=1.25.1,<1.26,>=1.21.1 in /usr/local/lib/python3.7/dist-packages (from requests->python-binance) (1.24.3)\n",
            "Requirement already satisfied: tweepy in /usr/local/lib/python3.7/dist-packages (3.10.0)\n",
            "Requirement already satisfied: requests-oauthlib>=0.7.0 in /usr/local/lib/python3.7/dist-packages (from tweepy) (1.3.0)\n",
            "Requirement already satisfied: requests[socks]>=2.11.1 in /usr/local/lib/python3.7/dist-packages (from tweepy) (2.23.0)\n",
            "Requirement already satisfied: six>=1.10.0 in /usr/local/lib/python3.7/dist-packages (from tweepy) (1.15.0)\n",
            "Requirement already satisfied: oauthlib>=3.0.0 in /usr/local/lib/python3.7/dist-packages (from requests-oauthlib>=0.7.0->tweepy) (3.1.1)\n",
            "Requirement already satisfied: idna<3,>=2.5 in /usr/local/lib/python3.7/dist-packages (from requests[socks]>=2.11.1->tweepy) (2.10)\n",
            "Requirement already satisfied: urllib3!=1.25.0,!=1.25.1,<1.26,>=1.21.1 in /usr/local/lib/python3.7/dist-packages (from requests[socks]>=2.11.1->tweepy) (1.24.3)\n",
            "Requirement already satisfied: certifi>=2017.4.17 in /usr/local/lib/python3.7/dist-packages (from requests[socks]>=2.11.1->tweepy) (2021.10.8)\n",
            "Requirement already satisfied: chardet<4,>=3.0.2 in /usr/local/lib/python3.7/dist-packages (from requests[socks]>=2.11.1->tweepy) (3.0.4)\n",
            "Requirement already satisfied: PySocks!=1.5.7,>=1.5.6 in /usr/local/lib/python3.7/dist-packages (from requests[socks]>=2.11.1->tweepy) (1.7.1)\n",
            "Requirement already satisfied: textblob in /usr/local/lib/python3.7/dist-packages (0.15.3)\n",
            "Requirement already satisfied: nltk>=3.1 in /usr/local/lib/python3.7/dist-packages (from textblob) (3.2.5)\n",
            "Requirement already satisfied: six in /usr/local/lib/python3.7/dist-packages (from nltk>=3.1->textblob) (1.15.0)\n",
            "Requirement already satisfied: pycoingecko in /usr/local/lib/python3.7/dist-packages (2.2.0)\n",
            "Requirement already satisfied: requests in /usr/local/lib/python3.7/dist-packages (from pycoingecko) (2.23.0)\n",
            "Requirement already satisfied: urllib3!=1.25.0,!=1.25.1,<1.26,>=1.21.1 in /usr/local/lib/python3.7/dist-packages (from requests->pycoingecko) (1.24.3)\n",
            "Requirement already satisfied: idna<3,>=2.5 in /usr/local/lib/python3.7/dist-packages (from requests->pycoingecko) (2.10)\n",
            "Requirement already satisfied: certifi>=2017.4.17 in /usr/local/lib/python3.7/dist-packages (from requests->pycoingecko) (2021.10.8)\n",
            "Requirement already satisfied: chardet<4,>=3.0.2 in /usr/local/lib/python3.7/dist-packages (from requests->pycoingecko) (3.0.4)\n"
          ]
        }
      ]
    },
    {
      "cell_type": "markdown",
      "source": [
        "Notre objectif initial est de récupérer les informations données par @DYORCryptoBot. Ce bot sur twitter est un bot non-open source qui s'appuie (selon sa doc) sur ses propres indicateurs techniques et de tendance pour proposer 5 tokens bullish et 5 tokens en tendance renversement bullish (etaient bearish, ont un potentiel bullish) toutes les 15 minutes. Un token se dit bullish s'il voit son cours être apprécié (positif). Un token se dit bearish s'il voit son cours être déprécié (négatif). Nous partons de l'hypothèse que ces résultats sont cohérents et nous verrons plus tard comment nous allons confirmer ou infirmer ces tendances. Nous avons délibérement fait le choix de ne pas faire notre propre analyse de tous les tokens listés sur une plateforme étant donné que l'api de twitter accepte un nombre de requêtes limitées tout comme binance. On a donc dans ce cas un problème : \n",
        "1. de nombre de requêtes trop multiples\n",
        "2. de traitement d'un trop grand nombre de données donc d'une attente trop longue pour obtenir des résultats et \"timer\" notre trading sur les coins en question.\n",
        "\n",
        "En résumé, nous allons acheter des tokens qui nous sont indiqués comme bullish par notre bot, nous allons les revendre en espèrant avoir fait un profit, et nous allons répéter cette manoeuvre indéfiniment (toutes les 15 minutes en question).\n",
        "\n",
        "Juste avant de rentrer dans le dur du sujet, faisons un exemple de ce qui peut être fait avec l'API de Twitter. On déclare d'abord notre API."
      ],
      "metadata": {
        "id": "T7LI4XFo7VPy"
      }
    },
    {
      "cell_type": "code",
      "source": [
        "import tweepy \n",
        "import pandas as pd\n",
        "\n",
        "\n",
        "consumer_key = \"xxx\"\n",
        "consumer_secret = \"xxx\"\n",
        "access_token = \"xxx\"\n",
        "access_token_secret = \"xxx\"\n",
        "\n",
        "auth = tweepy.OAuthHandler(consumer_key, consumer_secret)\n",
        "auth.set_access_token(access_token,access_token_secret)\n",
        "api = tweepy.API(auth)"
      ],
      "metadata": {
        "id": "WP4JZHHzZLNT"
      },
      "execution_count": null,
      "outputs": []
    },
    {
      "cell_type": "markdown",
      "source": [
        "Si vous voulez pouvoir run vous même ces lignes, vous avez besoin d'avoir créer une API Twitter, pour ce faire vous pouvez vous rendre sur https://developer.twitter.com/apps et cliquer sur le bouton \"Create an app\". Vous obtiendrez ensuite vos keys que vous pouvez renseigner juste en haut."
      ],
      "metadata": {
        "id": "Gz_vzwfZZwpk"
      }
    },
    {
      "cell_type": "markdown",
      "source": [
        "On peut ensuite utiliser l'API de twitter pour toute sorte de requêtes, ici on voit que l'on peut retourner le texte du dernier tweet du compte @0xJokeIsHere"
      ],
      "metadata": {
        "id": "DSX__Nau9NmQ"
      }
    },
    {
      "cell_type": "code",
      "source": [
        "cursor = tweepy.Cursor(api.user_timeline, id='0xJokeIsHere', tweet_mode=\"extended\").items(1)\n",
        "for i in cursor:\n",
        "  #print(dir(i))\n",
        "  print(i.full_text)"
      ],
      "metadata": {
        "colab": {
          "base_uri": "https://localhost:8080/"
        },
        "id": "aIWEK8HQagGP",
        "outputId": "1fc27267-7767-4539-8918-831430c30dd7"
      },
      "execution_count": null,
      "outputs": [
        {
          "output_type": "stream",
          "name": "stdout",
          "text": [
            "@Apedignio Évitez @crypto_futur @CryptoMatrix2 vous êtes débutants, vous gagnerez du temps\n"
          ]
        }
      ]
    },
    {
      "cell_type": "markdown",
      "source": [
        "Fini la démonstration, on peut maintenant commencer à s'intéresser à notre cas d'étude. On importe ici toutes les librairies que l'on utilisera par la suite et on redéclare notre API."
      ],
      "metadata": {
        "id": "tUNGJpWYSvpw"
      }
    },
    {
      "cell_type": "code",
      "source": [
        "import tweepy \n",
        "import pandas as pd\n",
        "import csv\n",
        "from datetime import datetime\n",
        "from datetime import date, timedelta\n",
        "import numpy as np\n",
        "import requests\n",
        "import json\n",
        "from textblob import TextBlob\n",
        "\n",
        "\n",
        "#Renseignez vos keys ici\n",
        "consumer_key = \"xxx\"\n",
        "consumer_secret = \"xxx\"\n",
        "access_token = \"xxx\"\n",
        "access_token_secret = \"xxx\"\n",
        "\n",
        "auth = tweepy.OAuthHandler(consumer_key, consumer_secret)\n",
        "auth.set_access_token(access_token,access_token_secret)\n",
        "api = tweepy.API(auth)\n",
        "#api = tweepy.API(auth, wait_on_rate_limit=True)\n",
        "\n",
        "api = tweepy.API(auth, wait_on_rate_limit=True, wait_on_rate_limit_notify=True) #pour empecher que l'erreur 429 se produise, attention ce n'est pas optimal, le programme va simplement se lancer lorsque mon api aura des crédits donc autant limiter directement son nombre de requetes"
      ],
      "metadata": {
        "id": "p_eW07vGWf-O"
      },
      "execution_count": null,
      "outputs": []
    },
    {
      "cell_type": "markdown",
      "source": [
        "On récupère donc les 15 derniers tweets du bot twitter. Pourquoi ca ? Je vous rappelle que notre objectif est d'acheter les tokens proposés par le bot de twitter de les revendre au bout de 15 minutes et d'acheter la nouvelle liste proposée."
      ],
      "metadata": {
        "id": "kbckZQUK_HOd"
      }
    },
    {
      "cell_type": "code",
      "source": [
        "\n",
        "\n",
        "\n",
        "number_of_tweets = 15 \n",
        "#attention, ici on peut etre tenté d'en mettre un seul parce que l'on veut accèder\n",
        "# seulement à un seul tweet (binance usdt pair) mais cela ne veut pas dire que ce tweet est forcement celui souhaité\n",
        "#on en prend donc 15 pour se hedge\n",
        "tweets = []\n",
        "likes = []\n",
        "time=[]\n",
        "\n",
        "for i in tweepy.Cursor(api.user_timeline, id=\"DYORCryptoBot\", tweet_mode=\"extended\").items(number_of_tweets):\n",
        "  tweets.append(i.full_text)\n",
        "  likes.append(i.favorite_count)\n",
        "  time.append(i.created_at)\n",
        "  \n",
        "\n",
        "df = pd.DataFrame({'tweets':tweets, 'likes':likes, 'time':time})\n",
        "\n",
        "#Voila l'utilité d'avoir récupéré 15 tweets, ici nous supprimons tous les tweets qui concernent des tendances bullish sur des\n",
        "#plateformes différents de binance et sur une paire différente que USDT\n",
        "df = df[~df.tweets.str.contains(\"FTX\")]\n",
        "df = df[~df.tweets.str.contains(\"KuCoin\")]\n",
        "df = df[~df.tweets.str.contains(\"#BTC\")]\n",
        "df = df[~df.tweets.str.contains(\"#Bitcoin\")]\n",
        "df = df[~df.tweets.str.contains(\"4h\")]\n",
        "df = df.reset_index(drop=True)\n",
        "\n",
        "df\n",
        "\n",
        "\n",
        "\n",
        "\n"
      ],
      "metadata": {
        "id": "4PGKG7JOS524",
        "colab": {
          "base_uri": "https://localhost:8080/",
          "height": 112
        },
        "outputId": "5b84a694-6704-47f6-a0b1-9dd625d30409"
      },
      "execution_count": null,
      "outputs": [
        {
          "output_type": "execute_result",
          "data": {
            "text/html": [
              "\n",
              "  <div id=\"df-2c9af7fa-24ae-475c-a68d-f3ec2588498e\">\n",
              "    <div class=\"colab-df-container\">\n",
              "      <div>\n",
              "<style scoped>\n",
              "    .dataframe tbody tr th:only-of-type {\n",
              "        vertical-align: middle;\n",
              "    }\n",
              "\n",
              "    .dataframe tbody tr th {\n",
              "        vertical-align: top;\n",
              "    }\n",
              "\n",
              "    .dataframe thead th {\n",
              "        text-align: right;\n",
              "    }\n",
              "</style>\n",
              "<table border=\"1\" class=\"dataframe\">\n",
              "  <thead>\n",
              "    <tr style=\"text-align: right;\">\n",
              "      <th></th>\n",
              "      <th>tweets</th>\n",
              "      <th>likes</th>\n",
              "      <th>time</th>\n",
              "    </tr>\n",
              "  </thead>\n",
              "  <tbody>\n",
              "    <tr>\n",
              "      <th>0</th>\n",
              "      <td>[SCAN RESULTS - 15m - #USDT PAIR]\\n\\nExchange:...</td>\n",
              "      <td>0</td>\n",
              "      <td>2022-01-07 12:15:59</td>\n",
              "    </tr>\n",
              "    <tr>\n",
              "      <th>1</th>\n",
              "      <td>[SCAN RESULTS - 15m - #USDT PAIR]\\n\\nExchange:...</td>\n",
              "      <td>1</td>\n",
              "      <td>2022-01-07 11:45:59</td>\n",
              "    </tr>\n",
              "  </tbody>\n",
              "</table>\n",
              "</div>\n",
              "      <button class=\"colab-df-convert\" onclick=\"convertToInteractive('df-2c9af7fa-24ae-475c-a68d-f3ec2588498e')\"\n",
              "              title=\"Convert this dataframe to an interactive table.\"\n",
              "              style=\"display:none;\">\n",
              "        \n",
              "  <svg xmlns=\"http://www.w3.org/2000/svg\" height=\"24px\"viewBox=\"0 0 24 24\"\n",
              "       width=\"24px\">\n",
              "    <path d=\"M0 0h24v24H0V0z\" fill=\"none\"/>\n",
              "    <path d=\"M18.56 5.44l.94 2.06.94-2.06 2.06-.94-2.06-.94-.94-2.06-.94 2.06-2.06.94zm-11 1L8.5 8.5l.94-2.06 2.06-.94-2.06-.94L8.5 2.5l-.94 2.06-2.06.94zm10 10l.94 2.06.94-2.06 2.06-.94-2.06-.94-.94-2.06-.94 2.06-2.06.94z\"/><path d=\"M17.41 7.96l-1.37-1.37c-.4-.4-.92-.59-1.43-.59-.52 0-1.04.2-1.43.59L10.3 9.45l-7.72 7.72c-.78.78-.78 2.05 0 2.83L4 21.41c.39.39.9.59 1.41.59.51 0 1.02-.2 1.41-.59l7.78-7.78 2.81-2.81c.8-.78.8-2.07 0-2.86zM5.41 20L4 18.59l7.72-7.72 1.47 1.35L5.41 20z\"/>\n",
              "  </svg>\n",
              "      </button>\n",
              "      \n",
              "  <style>\n",
              "    .colab-df-container {\n",
              "      display:flex;\n",
              "      flex-wrap:wrap;\n",
              "      gap: 12px;\n",
              "    }\n",
              "\n",
              "    .colab-df-convert {\n",
              "      background-color: #E8F0FE;\n",
              "      border: none;\n",
              "      border-radius: 50%;\n",
              "      cursor: pointer;\n",
              "      display: none;\n",
              "      fill: #1967D2;\n",
              "      height: 32px;\n",
              "      padding: 0 0 0 0;\n",
              "      width: 32px;\n",
              "    }\n",
              "\n",
              "    .colab-df-convert:hover {\n",
              "      background-color: #E2EBFA;\n",
              "      box-shadow: 0px 1px 2px rgba(60, 64, 67, 0.3), 0px 1px 3px 1px rgba(60, 64, 67, 0.15);\n",
              "      fill: #174EA6;\n",
              "    }\n",
              "\n",
              "    [theme=dark] .colab-df-convert {\n",
              "      background-color: #3B4455;\n",
              "      fill: #D2E3FC;\n",
              "    }\n",
              "\n",
              "    [theme=dark] .colab-df-convert:hover {\n",
              "      background-color: #434B5C;\n",
              "      box-shadow: 0px 1px 3px 1px rgba(0, 0, 0, 0.15);\n",
              "      filter: drop-shadow(0px 1px 2px rgba(0, 0, 0, 0.3));\n",
              "      fill: #FFFFFF;\n",
              "    }\n",
              "  </style>\n",
              "\n",
              "      <script>\n",
              "        const buttonEl =\n",
              "          document.querySelector('#df-2c9af7fa-24ae-475c-a68d-f3ec2588498e button.colab-df-convert');\n",
              "        buttonEl.style.display =\n",
              "          google.colab.kernel.accessAllowed ? 'block' : 'none';\n",
              "\n",
              "        async function convertToInteractive(key) {\n",
              "          const element = document.querySelector('#df-2c9af7fa-24ae-475c-a68d-f3ec2588498e');\n",
              "          const dataTable =\n",
              "            await google.colab.kernel.invokeFunction('convertToInteractive',\n",
              "                                                     [key], {});\n",
              "          if (!dataTable) return;\n",
              "\n",
              "          const docLinkHtml = 'Like what you see? Visit the ' +\n",
              "            '<a target=\"_blank\" href=https://colab.research.google.com/notebooks/data_table.ipynb>data table notebook</a>'\n",
              "            + ' to learn more about interactive tables.';\n",
              "          element.innerHTML = '';\n",
              "          dataTable['output_type'] = 'display_data';\n",
              "          await google.colab.output.renderOutput(dataTable, element);\n",
              "          const docLink = document.createElement('div');\n",
              "          docLink.innerHTML = docLinkHtml;\n",
              "          element.appendChild(docLink);\n",
              "        }\n",
              "      </script>\n",
              "    </div>\n",
              "  </div>\n",
              "  "
            ],
            "text/plain": [
              "                                              tweets  likes                time\n",
              "0  [SCAN RESULTS - 15m - #USDT PAIR]\\n\\nExchange:...      0 2022-01-07 12:15:59\n",
              "1  [SCAN RESULTS - 15m - #USDT PAIR]\\n\\nExchange:...      1 2022-01-07 11:45:59"
            ]
          },
          "metadata": {},
          "execution_count": 9
        }
      ]
    },
    {
      "cell_type": "markdown",
      "source": [
        "On a donc récupéré 2 tweets correspondant à notre recherche. On ne se servira que du dernier. On en profite pour afficher le tweet le plus liké."
      ],
      "metadata": {
        "id": "79dbyreuBAP_"
      }
    },
    {
      "cell_type": "code",
      "source": [
        "mostlike =df.loc[df.likes.nlargest(5).index]\n",
        "mostlike"
      ],
      "metadata": {
        "colab": {
          "base_uri": "https://localhost:8080/",
          "height": 112
        },
        "id": "4rUhyioofhQC",
        "outputId": "b40984d8-e28f-40cf-9720-b4594d8ada29"
      },
      "execution_count": null,
      "outputs": [
        {
          "output_type": "execute_result",
          "data": {
            "text/html": [
              "\n",
              "  <div id=\"df-030e3bd5-0303-4a85-b3e9-38c60ecb5488\">\n",
              "    <div class=\"colab-df-container\">\n",
              "      <div>\n",
              "<style scoped>\n",
              "    .dataframe tbody tr th:only-of-type {\n",
              "        vertical-align: middle;\n",
              "    }\n",
              "\n",
              "    .dataframe tbody tr th {\n",
              "        vertical-align: top;\n",
              "    }\n",
              "\n",
              "    .dataframe thead th {\n",
              "        text-align: right;\n",
              "    }\n",
              "</style>\n",
              "<table border=\"1\" class=\"dataframe\">\n",
              "  <thead>\n",
              "    <tr style=\"text-align: right;\">\n",
              "      <th></th>\n",
              "      <th>tweets</th>\n",
              "      <th>likes</th>\n",
              "      <th>time</th>\n",
              "    </tr>\n",
              "  </thead>\n",
              "  <tbody>\n",
              "    <tr>\n",
              "      <th>1</th>\n",
              "      <td>[SCAN RESULTS - 15m - #USDT PAIR]\\n\\nExchange:...</td>\n",
              "      <td>1</td>\n",
              "      <td>2022-01-07 11:45:59</td>\n",
              "    </tr>\n",
              "    <tr>\n",
              "      <th>0</th>\n",
              "      <td>[SCAN RESULTS - 15m - #USDT PAIR]\\n\\nExchange:...</td>\n",
              "      <td>0</td>\n",
              "      <td>2022-01-07 12:15:59</td>\n",
              "    </tr>\n",
              "  </tbody>\n",
              "</table>\n",
              "</div>\n",
              "      <button class=\"colab-df-convert\" onclick=\"convertToInteractive('df-030e3bd5-0303-4a85-b3e9-38c60ecb5488')\"\n",
              "              title=\"Convert this dataframe to an interactive table.\"\n",
              "              style=\"display:none;\">\n",
              "        \n",
              "  <svg xmlns=\"http://www.w3.org/2000/svg\" height=\"24px\"viewBox=\"0 0 24 24\"\n",
              "       width=\"24px\">\n",
              "    <path d=\"M0 0h24v24H0V0z\" fill=\"none\"/>\n",
              "    <path d=\"M18.56 5.44l.94 2.06.94-2.06 2.06-.94-2.06-.94-.94-2.06-.94 2.06-2.06.94zm-11 1L8.5 8.5l.94-2.06 2.06-.94-2.06-.94L8.5 2.5l-.94 2.06-2.06.94zm10 10l.94 2.06.94-2.06 2.06-.94-2.06-.94-.94-2.06-.94 2.06-2.06.94z\"/><path d=\"M17.41 7.96l-1.37-1.37c-.4-.4-.92-.59-1.43-.59-.52 0-1.04.2-1.43.59L10.3 9.45l-7.72 7.72c-.78.78-.78 2.05 0 2.83L4 21.41c.39.39.9.59 1.41.59.51 0 1.02-.2 1.41-.59l7.78-7.78 2.81-2.81c.8-.78.8-2.07 0-2.86zM5.41 20L4 18.59l7.72-7.72 1.47 1.35L5.41 20z\"/>\n",
              "  </svg>\n",
              "      </button>\n",
              "      \n",
              "  <style>\n",
              "    .colab-df-container {\n",
              "      display:flex;\n",
              "      flex-wrap:wrap;\n",
              "      gap: 12px;\n",
              "    }\n",
              "\n",
              "    .colab-df-convert {\n",
              "      background-color: #E8F0FE;\n",
              "      border: none;\n",
              "      border-radius: 50%;\n",
              "      cursor: pointer;\n",
              "      display: none;\n",
              "      fill: #1967D2;\n",
              "      height: 32px;\n",
              "      padding: 0 0 0 0;\n",
              "      width: 32px;\n",
              "    }\n",
              "\n",
              "    .colab-df-convert:hover {\n",
              "      background-color: #E2EBFA;\n",
              "      box-shadow: 0px 1px 2px rgba(60, 64, 67, 0.3), 0px 1px 3px 1px rgba(60, 64, 67, 0.15);\n",
              "      fill: #174EA6;\n",
              "    }\n",
              "\n",
              "    [theme=dark] .colab-df-convert {\n",
              "      background-color: #3B4455;\n",
              "      fill: #D2E3FC;\n",
              "    }\n",
              "\n",
              "    [theme=dark] .colab-df-convert:hover {\n",
              "      background-color: #434B5C;\n",
              "      box-shadow: 0px 1px 3px 1px rgba(0, 0, 0, 0.15);\n",
              "      filter: drop-shadow(0px 1px 2px rgba(0, 0, 0, 0.3));\n",
              "      fill: #FFFFFF;\n",
              "    }\n",
              "  </style>\n",
              "\n",
              "      <script>\n",
              "        const buttonEl =\n",
              "          document.querySelector('#df-030e3bd5-0303-4a85-b3e9-38c60ecb5488 button.colab-df-convert');\n",
              "        buttonEl.style.display =\n",
              "          google.colab.kernel.accessAllowed ? 'block' : 'none';\n",
              "\n",
              "        async function convertToInteractive(key) {\n",
              "          const element = document.querySelector('#df-030e3bd5-0303-4a85-b3e9-38c60ecb5488');\n",
              "          const dataTable =\n",
              "            await google.colab.kernel.invokeFunction('convertToInteractive',\n",
              "                                                     [key], {});\n",
              "          if (!dataTable) return;\n",
              "\n",
              "          const docLinkHtml = 'Like what you see? Visit the ' +\n",
              "            '<a target=\"_blank\" href=https://colab.research.google.com/notebooks/data_table.ipynb>data table notebook</a>'\n",
              "            + ' to learn more about interactive tables.';\n",
              "          element.innerHTML = '';\n",
              "          dataTable['output_type'] = 'display_data';\n",
              "          await google.colab.output.renderOutput(dataTable, element);\n",
              "          const docLink = document.createElement('div');\n",
              "          docLink.innerHTML = docLinkHtml;\n",
              "          element.appendChild(docLink);\n",
              "        }\n",
              "      </script>\n",
              "    </div>\n",
              "  </div>\n",
              "  "
            ],
            "text/plain": [
              "                                              tweets  likes                time\n",
              "1  [SCAN RESULTS - 15m - #USDT PAIR]\\n\\nExchange:...      1 2022-01-07 11:45:59\n",
              "0  [SCAN RESULTS - 15m - #USDT PAIR]\\n\\nExchange:...      0 2022-01-07 12:15:59"
            ]
          },
          "metadata": {},
          "execution_count": 10
        }
      ]
    },
    {
      "cell_type": "markdown",
      "source": [
        "On récupère maintenant les assets mentionnés dans la liste results"
      ],
      "metadata": {
        "id": "lzKV8kWiBOrJ"
      }
    },
    {
      "cell_type": "code",
      "source": [
        "import re \n",
        "line_of_sentences = [sentence for sentence in df.tweets]\n",
        "\n",
        "lines = []\n",
        "for sentence in line_of_sentences:\n",
        "  words =sentence.split()\n",
        "  for w in words:\n",
        "    lines.append(w)\n",
        "#j'ai split mes elements de df en une liste de words \n",
        "#print(lines[1:])\n",
        "results = []\n",
        "for element in lines:\n",
        "    for x in element:\n",
        "        if x == '$':\n",
        "            x =  element.index('$')\n",
        "            results.append(element[x+1:])\n",
        "results\n",
        "#results est bel et bien la liste de mot que pourrai utiliser par la suite (pour index pas tant que ca mais surtout pour mon csv a renseigner pour binance)"
      ],
      "metadata": {
        "colab": {
          "base_uri": "https://localhost:8080/"
        },
        "id": "GNPcvqkef55c",
        "outputId": "ea8b1bb3-6914-4bfa-ed83-53832b2807cd"
      },
      "execution_count": null,
      "outputs": [
        {
          "output_type": "execute_result",
          "data": {
            "text/plain": [
              "['FXS',\n",
              " 'C98',\n",
              " 'IRIS',\n",
              " 'ATOM',\n",
              " 'ONE',\n",
              " 'REQ',\n",
              " 'ZRX',\n",
              " 'XTZ',\n",
              " 'LIT',\n",
              " 'DYDX',\n",
              " 'UTK',\n",
              " 'ATOM',\n",
              " 'FXS',\n",
              " 'ONE',\n",
              " 'IRIS',\n",
              " 'PAXG',\n",
              " 'IRIS',\n",
              " 'NMR',\n",
              " 'KP3R',\n",
              " 'PORTO']"
            ]
          },
          "metadata": {},
          "execution_count": 11
        }
      ]
    },
    {
      "cell_type": "markdown",
      "source": [
        "On a maintenant une liste de tous les tokens mentionnés. On utilisera uniquement les 10 derniers car ce sont les 10 mentionnés dans le dernier tweet."
      ],
      "metadata": {
        "id": "cqdbCrtOBVMW"
      }
    },
    {
      "cell_type": "markdown",
      "source": [
        "Un peu de ML maintenant, on cherche maintenant à partir de nos tokens à savoir lequel est le plus mentionné sur twitter dans les derniers moments. On associera alors un index de tendance sur chacun des tokens en fonction de leur nombre d'apparitions respectives.\n",
        "En résultat on affiche respectivement le nombre d'apparition respective, le token en question, le pourcentage d'apparition global."
      ],
      "metadata": {
        "id": "yL_KDZxIiMTI"
      }
    },
    {
      "cell_type": "code",
      "source": [
        "\n",
        "nombre_apparition_token = []\n",
        "tokens = []\n",
        "entropytoken = []\n",
        "for w in range(10):\n",
        "\n",
        "  number_of_tweets = 40 \n",
        "  tweets = []\n",
        "  likes = []\n",
        "  time=[]\n",
        "\n",
        "  for i in tweepy.Cursor(api.search, q=results[w], tweet_mode=\"extended\").items(number_of_tweets):\n",
        "    tweets.append(i.full_text)\n",
        "    likes.append(i.favorite_count)\n",
        "    time.append(i.created_at)\n",
        "\n",
        "\n",
        "\n",
        "  df = pd.DataFrame({'tweets':tweets, 'likes':likes, 'time':time})\n",
        "\n",
        "  now = datetime.now()\n",
        "\n",
        "  #yesterday = now - datetime.timedelta(days=1)\n",
        "\n",
        "  dt_string = (now- timedelta(0.002)).strftime(\"%Y-%m-%d %H:%M:%S\") #0.04 = 1h\n",
        "  #print(\"date and time =\", dt_string)\n",
        "  df = df[~(df['time'] < dt_string)]\n",
        "\n",
        "  df = df[~df.tweets.str.contains(\"RT\")]\n",
        "  df = df.reset_index(drop=True)\n",
        "\n",
        "  #df\n",
        "\n",
        "  #total_rows = df.count\n",
        "  #print(total_rows)\n",
        "  #print(len(df.index))\n",
        "\n",
        "  nombre_apparition_token.append(len(df.index))\n",
        "  tokens.append(results[w])\n",
        "\n",
        "\n",
        "print(nombre_apparition_token)\n",
        "print(tokens)\n",
        "\n",
        "\n",
        "somme_apparition_tokens = 0\n",
        "for f in range(9):\n",
        "  somme_apparition_tokens = somme_apparition_tokens + nombre_apparition_token[f]\n",
        "\n",
        "print(\"Les 10 assets ont été mentionnés un total de \", somme_apparition_tokens)\n",
        "\n",
        "for h in range(10):\n",
        "  nb_non_weighted = nombre_apparition_token[h] / somme_apparition_tokens\n",
        "  entropytoken.append(nb_non_weighted)\n",
        "print(entropytoken)\n",
        "\n",
        "\n",
        "\n",
        "\n"
      ],
      "metadata": {
        "colab": {
          "base_uri": "https://localhost:8080/"
        },
        "id": "nv-ZhK43iLpa",
        "outputId": "23491d22-414a-4b58-bf37-d34ba5717184"
      },
      "execution_count": null,
      "outputs": [
        {
          "output_type": "stream",
          "name": "stdout",
          "text": [
            "[1, 0, 32, 15, 12, 33, 0, 11, 21, 1]\n",
            "['FXS', 'C98', 'IRIS', 'ATOM', 'ONE', 'REQ', 'ZRX', 'XTZ', 'LIT', 'DYDX']\n",
            "Les 10 assets ont été mentionnés un total de  125\n",
            "[0.008, 0.0, 0.256, 0.12, 0.096, 0.264, 0.0, 0.088, 0.168, 0.008]\n"
          ]
        }
      ]
    },
    {
      "cell_type": "markdown",
      "source": [
        "Ici notre majeur problème a été l'erreur 429, trop de requêtes pour l'api. Le contourner ? Faire un echantillon sur une période plus courte : 3 minutes et rechercher moins de tweets maximum : 100. Pb : peut etre moins représentatif de la tendance generale. Pour autant le plus important est d'avoir un bot fonctionnel 24/24 donc concession prise"
      ],
      "metadata": {
        "id": "sNMz7nwVjaJI"
      }
    },
    {
      "cell_type": "markdown",
      "source": [
        "On souhaite maintenant créer un index pour chaque token. On va tout simplement normaliser son pourcentage d'apparition pour que le coefficient multiplicateur soit compris entre 0,5 et 1.5 (choisi arbitrairement). Liste en question : entropytoken_around_one"
      ],
      "metadata": {
        "id": "f3Vyygj9C9VR"
      }
    },
    {
      "cell_type": "code",
      "source": [
        "entropytoken_around_one = []\n",
        "for u in range(len(entropytoken)):\n",
        "  entropytoken_around_one.append( (entropytoken[u] - np.min(entropytoken)) / (np.max(entropytoken) - np.min(entropytoken)) + 0.5) #on a centré nos valeurs entre 0.5 et 1.5\n",
        "\n",
        "print(entropytoken_around_one)\n",
        "for y in range(len(entropytoken_around_one)):\n",
        "  if(entropytoken_around_one[y] <1):\n",
        "    entropytoken_around_one[y] = entropytoken_around_one[y] + entropytoken_around_one[y] * 0.2\n",
        "  else:\n",
        "    entropytoken_around_one[y] = entropytoken_around_one[y] - entropytoken_around_one[y] * 0.2\n",
        "\n",
        "#on a davantage centré nos valeurs autour de 1\n",
        "print(entropytoken_around_one)\n",
        "\n",
        "#moyenne = np.mean(entropytoken)\n",
        "#def NormalizeData(data):\n",
        "#    return (data - np.min(data)) / (np.max(data) - np.min(data))"
      ],
      "metadata": {
        "colab": {
          "base_uri": "https://localhost:8080/"
        },
        "id": "G2UQ7FyEnrGW",
        "outputId": "de138d96-e93e-4917-f4c6-5d6db752658c"
      },
      "execution_count": null,
      "outputs": [
        {
          "output_type": "stream",
          "name": "stdout",
          "text": [
            "[0.5303030303030303, 0.5, 1.4696969696969697, 0.9545454545454546, 0.8636363636363636, 1.5, 0.5, 0.8333333333333333, 1.1363636363636362, 0.5303030303030303]\n",
            "[0.6363636363636364, 0.6, 1.1757575757575758, 1.1454545454545455, 1.0363636363636364, 1.2, 0.6, 0.9999999999999999, 0.909090909090909, 0.6363636363636364]\n"
          ]
        }
      ]
    },
    {
      "cell_type": "markdown",
      "source": [
        "On visualise nos données "
      ],
      "metadata": {
        "id": "a2bDa8lkDsVc"
      }
    },
    {
      "cell_type": "code",
      "source": [
        "import plotly.express as px\n",
        "import numpy\n",
        " \n",
        "fig = px.pie(values=nombre_apparition_token, names=tokens, color_discrete_sequence=px.colors.sequential.RdBu, title=\"Répartition du nombre de tweets citant un token dans les dernières 3 minutes\")\n",
        "fig.show()"
      ],
      "metadata": {
        "colab": {
          "base_uri": "https://localhost:8080/",
          "height": 542
        },
        "id": "FEvu82hMll-K",
        "outputId": "d467655e-e8ca-4a32-ee1a-c9b7e07feae1"
      },
      "execution_count": 124,
      "outputs": [
        {
          "output_type": "display_data",
          "data": {
            "text/html": [
              "<html>\n",
              "<head><meta charset=\"utf-8\" /></head>\n",
              "<body>\n",
              "    <div>\n",
              "            <script src=\"https://cdnjs.cloudflare.com/ajax/libs/mathjax/2.7.5/MathJax.js?config=TeX-AMS-MML_SVG\"></script><script type=\"text/javascript\">if (window.MathJax) {MathJax.Hub.Config({SVG: {font: \"STIX-Web\"}});}</script>\n",
              "                <script type=\"text/javascript\">window.PlotlyConfig = {MathJaxConfig: 'local'};</script>\n",
              "        <script src=\"https://cdn.plot.ly/plotly-latest.min.js\"></script>    \n",
              "            <div id=\"8b00b8c7-29de-4774-a355-7b7d24031725\" class=\"plotly-graph-div\" style=\"height:525px; width:100%;\"></div>\n",
              "            <script type=\"text/javascript\">\n",
              "                \n",
              "                    window.PLOTLYENV=window.PLOTLYENV || {};\n",
              "                    \n",
              "                if (document.getElementById(\"8b00b8c7-29de-4774-a355-7b7d24031725\")) {\n",
              "                    Plotly.newPlot(\n",
              "                        '8b00b8c7-29de-4774-a355-7b7d24031725',\n",
              "                        [{\"domain\": {\"x\": [0.0, 1.0], \"y\": [0.0, 1.0]}, \"hoverlabel\": {\"namelength\": 0}, \"hovertemplate\": \"label=%{label}<br>value=%{value}\", \"labels\": [\"FXS\", \"C98\", \"IRIS\", \"ATOM\", \"ONE\", \"REQ\", \"ZRX\", \"XTZ\", \"LIT\", \"DYDX\"], \"legendgroup\": \"\", \"name\": \"\", \"showlegend\": true, \"type\": \"pie\", \"values\": [1, 0, 32, 15, 12, 33, 0, 11, 21, 1]}],\n",
              "                        {\"legend\": {\"tracegroupgap\": 0}, \"piecolorway\": [\"rgb(103,0,31)\", \"rgb(178,24,43)\", \"rgb(214,96,77)\", \"rgb(244,165,130)\", \"rgb(253,219,199)\", \"rgb(247,247,247)\", \"rgb(209,229,240)\", \"rgb(146,197,222)\", \"rgb(67,147,195)\", \"rgb(33,102,172)\", \"rgb(5,48,97)\"], \"template\": {\"data\": {\"bar\": [{\"error_x\": {\"color\": \"#2a3f5f\"}, \"error_y\": {\"color\": \"#2a3f5f\"}, \"marker\": {\"line\": {\"color\": \"#E5ECF6\", \"width\": 0.5}}, \"type\": \"bar\"}], \"barpolar\": [{\"marker\": {\"line\": {\"color\": \"#E5ECF6\", \"width\": 0.5}}, \"type\": \"barpolar\"}], \"carpet\": [{\"aaxis\": {\"endlinecolor\": \"#2a3f5f\", \"gridcolor\": \"white\", \"linecolor\": \"white\", \"minorgridcolor\": \"white\", \"startlinecolor\": \"#2a3f5f\"}, \"baxis\": {\"endlinecolor\": \"#2a3f5f\", \"gridcolor\": \"white\", \"linecolor\": \"white\", \"minorgridcolor\": \"white\", \"startlinecolor\": \"#2a3f5f\"}, \"type\": \"carpet\"}], \"choropleth\": [{\"colorbar\": {\"outlinewidth\": 0, \"ticks\": \"\"}, \"type\": \"choropleth\"}], \"contour\": [{\"colorbar\": {\"outlinewidth\": 0, \"ticks\": \"\"}, \"colorscale\": [[0.0, \"#0d0887\"], [0.1111111111111111, \"#46039f\"], [0.2222222222222222, \"#7201a8\"], [0.3333333333333333, \"#9c179e\"], [0.4444444444444444, \"#bd3786\"], [0.5555555555555556, \"#d8576b\"], [0.6666666666666666, \"#ed7953\"], [0.7777777777777778, \"#fb9f3a\"], [0.8888888888888888, \"#fdca26\"], [1.0, \"#f0f921\"]], \"type\": \"contour\"}], \"contourcarpet\": [{\"colorbar\": {\"outlinewidth\": 0, \"ticks\": \"\"}, \"type\": \"contourcarpet\"}], \"heatmap\": [{\"colorbar\": {\"outlinewidth\": 0, \"ticks\": \"\"}, \"colorscale\": [[0.0, \"#0d0887\"], [0.1111111111111111, \"#46039f\"], [0.2222222222222222, \"#7201a8\"], [0.3333333333333333, \"#9c179e\"], [0.4444444444444444, \"#bd3786\"], [0.5555555555555556, \"#d8576b\"], [0.6666666666666666, \"#ed7953\"], [0.7777777777777778, \"#fb9f3a\"], [0.8888888888888888, \"#fdca26\"], [1.0, \"#f0f921\"]], \"type\": \"heatmap\"}], \"heatmapgl\": [{\"colorbar\": {\"outlinewidth\": 0, \"ticks\": \"\"}, \"colorscale\": [[0.0, \"#0d0887\"], [0.1111111111111111, \"#46039f\"], [0.2222222222222222, \"#7201a8\"], [0.3333333333333333, \"#9c179e\"], [0.4444444444444444, \"#bd3786\"], [0.5555555555555556, \"#d8576b\"], [0.6666666666666666, \"#ed7953\"], [0.7777777777777778, \"#fb9f3a\"], [0.8888888888888888, \"#fdca26\"], [1.0, \"#f0f921\"]], \"type\": \"heatmapgl\"}], \"histogram\": [{\"marker\": {\"colorbar\": {\"outlinewidth\": 0, \"ticks\": \"\"}}, \"type\": \"histogram\"}], \"histogram2d\": [{\"colorbar\": {\"outlinewidth\": 0, \"ticks\": \"\"}, \"colorscale\": [[0.0, \"#0d0887\"], [0.1111111111111111, \"#46039f\"], [0.2222222222222222, \"#7201a8\"], [0.3333333333333333, \"#9c179e\"], [0.4444444444444444, \"#bd3786\"], [0.5555555555555556, \"#d8576b\"], [0.6666666666666666, \"#ed7953\"], [0.7777777777777778, \"#fb9f3a\"], [0.8888888888888888, \"#fdca26\"], [1.0, \"#f0f921\"]], \"type\": \"histogram2d\"}], \"histogram2dcontour\": [{\"colorbar\": {\"outlinewidth\": 0, \"ticks\": \"\"}, \"colorscale\": [[0.0, \"#0d0887\"], [0.1111111111111111, \"#46039f\"], [0.2222222222222222, \"#7201a8\"], [0.3333333333333333, \"#9c179e\"], [0.4444444444444444, \"#bd3786\"], [0.5555555555555556, \"#d8576b\"], [0.6666666666666666, \"#ed7953\"], [0.7777777777777778, \"#fb9f3a\"], [0.8888888888888888, \"#fdca26\"], [1.0, \"#f0f921\"]], \"type\": \"histogram2dcontour\"}], \"mesh3d\": [{\"colorbar\": {\"outlinewidth\": 0, \"ticks\": \"\"}, \"type\": \"mesh3d\"}], \"parcoords\": [{\"line\": {\"colorbar\": {\"outlinewidth\": 0, \"ticks\": \"\"}}, \"type\": \"parcoords\"}], \"pie\": [{\"automargin\": true, \"type\": \"pie\"}], \"scatter\": [{\"marker\": {\"colorbar\": {\"outlinewidth\": 0, \"ticks\": \"\"}}, \"type\": \"scatter\"}], \"scatter3d\": [{\"line\": {\"colorbar\": {\"outlinewidth\": 0, \"ticks\": \"\"}}, \"marker\": {\"colorbar\": {\"outlinewidth\": 0, \"ticks\": \"\"}}, \"type\": \"scatter3d\"}], \"scattercarpet\": [{\"marker\": {\"colorbar\": {\"outlinewidth\": 0, \"ticks\": \"\"}}, \"type\": \"scattercarpet\"}], \"scattergeo\": [{\"marker\": {\"colorbar\": {\"outlinewidth\": 0, \"ticks\": \"\"}}, \"type\": \"scattergeo\"}], \"scattergl\": [{\"marker\": {\"colorbar\": {\"outlinewidth\": 0, \"ticks\": \"\"}}, \"type\": \"scattergl\"}], \"scattermapbox\": [{\"marker\": {\"colorbar\": {\"outlinewidth\": 0, \"ticks\": \"\"}}, \"type\": \"scattermapbox\"}], \"scatterpolar\": [{\"marker\": {\"colorbar\": {\"outlinewidth\": 0, \"ticks\": \"\"}}, \"type\": \"scatterpolar\"}], \"scatterpolargl\": [{\"marker\": {\"colorbar\": {\"outlinewidth\": 0, \"ticks\": \"\"}}, \"type\": \"scatterpolargl\"}], \"scatterternary\": [{\"marker\": {\"colorbar\": {\"outlinewidth\": 0, \"ticks\": \"\"}}, \"type\": \"scatterternary\"}], \"surface\": [{\"colorbar\": {\"outlinewidth\": 0, \"ticks\": \"\"}, \"colorscale\": [[0.0, \"#0d0887\"], [0.1111111111111111, \"#46039f\"], [0.2222222222222222, \"#7201a8\"], [0.3333333333333333, \"#9c179e\"], [0.4444444444444444, \"#bd3786\"], [0.5555555555555556, \"#d8576b\"], [0.6666666666666666, \"#ed7953\"], [0.7777777777777778, \"#fb9f3a\"], [0.8888888888888888, \"#fdca26\"], [1.0, \"#f0f921\"]], \"type\": \"surface\"}], \"table\": [{\"cells\": {\"fill\": {\"color\": \"#EBF0F8\"}, \"line\": {\"color\": \"white\"}}, \"header\": {\"fill\": {\"color\": \"#C8D4E3\"}, \"line\": {\"color\": \"white\"}}, \"type\": \"table\"}]}, \"layout\": {\"annotationdefaults\": {\"arrowcolor\": \"#2a3f5f\", \"arrowhead\": 0, \"arrowwidth\": 1}, \"coloraxis\": {\"colorbar\": {\"outlinewidth\": 0, \"ticks\": \"\"}}, \"colorscale\": {\"diverging\": [[0, \"#8e0152\"], [0.1, \"#c51b7d\"], [0.2, \"#de77ae\"], [0.3, \"#f1b6da\"], [0.4, \"#fde0ef\"], [0.5, \"#f7f7f7\"], [0.6, \"#e6f5d0\"], [0.7, \"#b8e186\"], [0.8, \"#7fbc41\"], [0.9, \"#4d9221\"], [1, \"#276419\"]], \"sequential\": [[0.0, \"#0d0887\"], [0.1111111111111111, \"#46039f\"], [0.2222222222222222, \"#7201a8\"], [0.3333333333333333, \"#9c179e\"], [0.4444444444444444, \"#bd3786\"], [0.5555555555555556, \"#d8576b\"], [0.6666666666666666, \"#ed7953\"], [0.7777777777777778, \"#fb9f3a\"], [0.8888888888888888, \"#fdca26\"], [1.0, \"#f0f921\"]], \"sequentialminus\": [[0.0, \"#0d0887\"], [0.1111111111111111, \"#46039f\"], [0.2222222222222222, \"#7201a8\"], [0.3333333333333333, \"#9c179e\"], [0.4444444444444444, \"#bd3786\"], [0.5555555555555556, \"#d8576b\"], [0.6666666666666666, \"#ed7953\"], [0.7777777777777778, \"#fb9f3a\"], [0.8888888888888888, \"#fdca26\"], [1.0, \"#f0f921\"]]}, \"colorway\": [\"#636efa\", \"#EF553B\", \"#00cc96\", \"#ab63fa\", \"#FFA15A\", \"#19d3f3\", \"#FF6692\", \"#B6E880\", \"#FF97FF\", \"#FECB52\"], \"font\": {\"color\": \"#2a3f5f\"}, \"geo\": {\"bgcolor\": \"white\", \"lakecolor\": \"white\", \"landcolor\": \"#E5ECF6\", \"showlakes\": true, \"showland\": true, \"subunitcolor\": \"white\"}, \"hoverlabel\": {\"align\": \"left\"}, \"hovermode\": \"closest\", \"mapbox\": {\"style\": \"light\"}, \"paper_bgcolor\": \"white\", \"plot_bgcolor\": \"#E5ECF6\", \"polar\": {\"angularaxis\": {\"gridcolor\": \"white\", \"linecolor\": \"white\", \"ticks\": \"\"}, \"bgcolor\": \"#E5ECF6\", \"radialaxis\": {\"gridcolor\": \"white\", \"linecolor\": \"white\", \"ticks\": \"\"}}, \"scene\": {\"xaxis\": {\"backgroundcolor\": \"#E5ECF6\", \"gridcolor\": \"white\", \"gridwidth\": 2, \"linecolor\": \"white\", \"showbackground\": true, \"ticks\": \"\", \"zerolinecolor\": \"white\"}, \"yaxis\": {\"backgroundcolor\": \"#E5ECF6\", \"gridcolor\": \"white\", \"gridwidth\": 2, \"linecolor\": \"white\", \"showbackground\": true, \"ticks\": \"\", \"zerolinecolor\": \"white\"}, \"zaxis\": {\"backgroundcolor\": \"#E5ECF6\", \"gridcolor\": \"white\", \"gridwidth\": 2, \"linecolor\": \"white\", \"showbackground\": true, \"ticks\": \"\", \"zerolinecolor\": \"white\"}}, \"shapedefaults\": {\"line\": {\"color\": \"#2a3f5f\"}}, \"ternary\": {\"aaxis\": {\"gridcolor\": \"white\", \"linecolor\": \"white\", \"ticks\": \"\"}, \"baxis\": {\"gridcolor\": \"white\", \"linecolor\": \"white\", \"ticks\": \"\"}, \"bgcolor\": \"#E5ECF6\", \"caxis\": {\"gridcolor\": \"white\", \"linecolor\": \"white\", \"ticks\": \"\"}}, \"title\": {\"x\": 0.05}, \"xaxis\": {\"automargin\": true, \"gridcolor\": \"white\", \"linecolor\": \"white\", \"ticks\": \"\", \"title\": {\"standoff\": 15}, \"zerolinecolor\": \"white\", \"zerolinewidth\": 2}, \"yaxis\": {\"automargin\": true, \"gridcolor\": \"white\", \"linecolor\": \"white\", \"ticks\": \"\", \"title\": {\"standoff\": 15}, \"zerolinecolor\": \"white\", \"zerolinewidth\": 2}}}, \"title\": {\"text\": \"R\\u00e9partition du nombre de tweets citant un token dans les derni\\u00e8res 3 minutes\"}},\n",
              "                        {\"responsive\": true}\n",
              "                    ).then(function(){\n",
              "                            \n",
              "var gd = document.getElementById('8b00b8c7-29de-4774-a355-7b7d24031725');\n",
              "var x = new MutationObserver(function (mutations, observer) {{\n",
              "        var display = window.getComputedStyle(gd).display;\n",
              "        if (!display || display === 'none') {{\n",
              "            console.log([gd, 'removed!']);\n",
              "            Plotly.purge(gd);\n",
              "            observer.disconnect();\n",
              "        }}\n",
              "}});\n",
              "\n",
              "// Listen for the removal of the full notebook cells\n",
              "var notebookContainer = gd.closest('#notebook-container');\n",
              "if (notebookContainer) {{\n",
              "    x.observe(notebookContainer, {childList: true});\n",
              "}}\n",
              "\n",
              "// Listen for the clearing of the current output cell\n",
              "var outputEl = gd.closest('.output');\n",
              "if (outputEl) {{\n",
              "    x.observe(outputEl, {childList: true});\n",
              "}}\n",
              "\n",
              "                        })\n",
              "                };\n",
              "                \n",
              "            </script>\n",
              "        </div>\n",
              "</body>\n",
              "</html>"
            ]
          },
          "metadata": {}
        }
      ]
    },
    {
      "cell_type": "markdown",
      "source": [
        "![Capture d’écran 2022-01-07 192627.png](data:image/png;base64,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)"
      ],
      "metadata": {
        "id": "T3Zp3KyayhjR"
      }
    },
    {
      "cell_type": "markdown",
      "source": [
        "On en profite pour faire un cas d'étude du top 3 des plus mentionnées de ces cryptos depuis 300j en résumant l'appréciation du token dans un graphique. "
      ],
      "metadata": {
        "id": "8dYIYRLoQayM"
      }
    },
    {
      "cell_type": "code",
      "source": [
        "\n",
        "from pycoingecko import CoinGeckoAPI\n",
        "\n",
        "#On récupère notre les 3 tokens les plus cités\n",
        "\n",
        "dict_from_list = dict(zip(tokens, nombre_apparition_token)) #On crée un dictionnaire avec les tokens comme clés, et le nombra d'apparition du token pour valeur\n",
        "dict_tokens=sorted(dict_from_list.items(), key=lambda t: t[1], reverse=True) #On trie notre dictionnaire par ordre decroissant\n",
        "lst=dict_tokens[:3] \n",
        "keys = [*dict(lst)]\n",
        "keys\n",
        "\n",
        "list = []\n",
        "for i in keys:\n",
        "\n",
        "  list.append(i.lower())\n",
        "\n",
        "print(list) #On passe la liste en minuscule\n",
        "\n",
        "#Sur CoinGecko chaque token a un ID bien specifique l'acronyme en majuscule n'est donc pas reconnue, \n",
        "#on replace donc les tokens de notre liste par leur ID equivalent dans l'API CoinGecko\n",
        "gecko_list = []\n",
        "for l in list :\n",
        "    for token in retour:\n",
        "        if token[\"symbol\"] == l:\n",
        "            l = token['id']\n",
        "            gecko_list.append(l)\n",
        "\n",
        "print(gecko_list)\n",
        "\n",
        "#On affiche alors l'evolution du prix en dollar 3 tokens selectionnés sur les derniers 300 jours\n",
        "cg = CoinGeckoAPI()\n",
        "timePeriod = 300\n",
        "\n",
        "data = {}\n",
        "for coin in gecko_list:\n",
        "    try:\n",
        "        nested_lists = cg.get_coin_market_chart_by_id(\n",
        "            id=coin, vs_currency=\"usd\", days=timePeriod\n",
        "        )[\"prices\"]\n",
        "        data[coin] = {}\n",
        "        data[coin][\"timestamps\"], data[coin][\"values\"] = zip(*nested_lists)\n",
        "\n",
        "    except Exception as e:\n",
        "        print(e)\n",
        "        print(\"coin: \" + coin)\n",
        "\n",
        "historique = [\n",
        "    pd.DataFrame(data[coin][\"values\"], index=data[coin][\"timestamps\"], columns=[coin])\n",
        "    for coin in gecko_list\n",
        "    if coin in data\n",
        "]\n",
        "print(historique)\n",
        "\n",
        "df_cryptocurrency = pd.concat(historique, axis=1).sort_index()\n",
        "df_cryptocurrency.plot(title=\"Aperçu de l'évolution en dollar des 3 monnaies les plus tweetées depuis 300 jours \")\n",
        "\n",
        "df_cryptocurrency[\"datetime\"] = pd.to_datetime(df_cryptocurrency.index, unit=\"ms\")\n",
        "df_cryptocurrency[\"date\"] = df_cryptocurrency[\"datetime\"].dt.date\n",
        "df_cryptocurrency[\"hour\"] = df_cryptocurrency[\"datetime\"].dt.hour\n",
        "\n",
        "df_cryptocurrency = df_cryptocurrency.melt(\n",
        "    id_vars=[\"datetime\", \"date\", \"hour\"], var_name=\"currency_name\"\n",
        ")\n",
        "df_cryptocurrency.head(-5)"
      ],
      "metadata": {
        "colab": {
          "base_uri": "https://localhost:8080/",
          "height": 1000
        },
        "id": "i4keyqEFHWAw",
        "outputId": "7e476352-b1e1-4c96-ea15-aa7f3eae5efa"
      },
      "execution_count": null,
      "outputs": [
        {
          "output_type": "stream",
          "name": "stdout",
          "text": [
            "['req', 'iris', 'lit']\n",
            "['request-network', 'iris-network', 'litentry']\n",
            "[               request-network\n",
            "1615680000000         0.115487\n",
            "1615766400000         0.114584\n",
            "1615852800000         0.121422\n",
            "1615939200000         0.123575\n",
            "1616025600000         0.148154\n",
            "...                        ...\n",
            "1641254400000         0.370057\n",
            "1641340800000         0.359523\n",
            "1641427200000         0.326624\n",
            "1641513600000         0.319080\n",
            "1641579377000         0.303292\n",
            "\n",
            "[301 rows x 1 columns],                iris-network\n",
            "1615680000000      0.175500\n",
            "1615766400000      0.167065\n",
            "1615852800000      0.196324\n",
            "1615939200000      0.213839\n",
            "1616025600000      0.239662\n",
            "...                     ...\n",
            "1641254400000      0.091272\n",
            "1641340800000      0.095373\n",
            "1641427200000      0.086571\n",
            "1641513600000      0.085807\n",
            "1641579328000      0.136123\n",
            "\n",
            "[301 rows x 1 columns],                 litentry\n",
            "1615680000000   9.949856\n",
            "1615766400000  11.222526\n",
            "1615852800000  10.342591\n",
            "1615939200000  11.487363\n",
            "1616025600000  10.882027\n",
            "...                  ...\n",
            "1641254400000   3.101675\n",
            "1641340800000   3.093065\n",
            "1641427200000   2.889603\n",
            "1641513600000   2.795964\n",
            "1641579153000   2.636331\n",
            "\n",
            "[301 rows x 1 columns]]\n"
          ]
        },
        {
          "output_type": "execute_result",
          "data": {
            "text/html": [
              "\n",
              "  <div id=\"df-97dd252d-b769-4609-8bc4-3734b4b47922\">\n",
              "    <div class=\"colab-df-container\">\n",
              "      <div>\n",
              "<style scoped>\n",
              "    .dataframe tbody tr th:only-of-type {\n",
              "        vertical-align: middle;\n",
              "    }\n",
              "\n",
              "    .dataframe tbody tr th {\n",
              "        vertical-align: top;\n",
              "    }\n",
              "\n",
              "    .dataframe thead th {\n",
              "        text-align: right;\n",
              "    }\n",
              "</style>\n",
              "<table border=\"1\" class=\"dataframe\">\n",
              "  <thead>\n",
              "    <tr style=\"text-align: right;\">\n",
              "      <th></th>\n",
              "      <th>datetime</th>\n",
              "      <th>date</th>\n",
              "      <th>hour</th>\n",
              "      <th>currency_name</th>\n",
              "      <th>value</th>\n",
              "    </tr>\n",
              "  </thead>\n",
              "  <tbody>\n",
              "    <tr>\n",
              "      <th>0</th>\n",
              "      <td>2021-03-14</td>\n",
              "      <td>2021-03-14</td>\n",
              "      <td>0</td>\n",
              "      <td>request-network</td>\n",
              "      <td>0.115487</td>\n",
              "    </tr>\n",
              "    <tr>\n",
              "      <th>1</th>\n",
              "      <td>2021-03-15</td>\n",
              "      <td>2021-03-15</td>\n",
              "      <td>0</td>\n",
              "      <td>request-network</td>\n",
              "      <td>0.114584</td>\n",
              "    </tr>\n",
              "    <tr>\n",
              "      <th>2</th>\n",
              "      <td>2021-03-16</td>\n",
              "      <td>2021-03-16</td>\n",
              "      <td>0</td>\n",
              "      <td>request-network</td>\n",
              "      <td>0.121422</td>\n",
              "    </tr>\n",
              "    <tr>\n",
              "      <th>3</th>\n",
              "      <td>2021-03-17</td>\n",
              "      <td>2021-03-17</td>\n",
              "      <td>0</td>\n",
              "      <td>request-network</td>\n",
              "      <td>0.123575</td>\n",
              "    </tr>\n",
              "    <tr>\n",
              "      <th>4</th>\n",
              "      <td>2021-03-18</td>\n",
              "      <td>2021-03-18</td>\n",
              "      <td>0</td>\n",
              "      <td>request-network</td>\n",
              "      <td>0.148154</td>\n",
              "    </tr>\n",
              "    <tr>\n",
              "      <th>...</th>\n",
              "      <td>...</td>\n",
              "      <td>...</td>\n",
              "      <td>...</td>\n",
              "      <td>...</td>\n",
              "      <td>...</td>\n",
              "    </tr>\n",
              "    <tr>\n",
              "      <th>899</th>\n",
              "      <td>2022-01-01</td>\n",
              "      <td>2022-01-01</td>\n",
              "      <td>0</td>\n",
              "      <td>litentry</td>\n",
              "      <td>2.962963</td>\n",
              "    </tr>\n",
              "    <tr>\n",
              "      <th>900</th>\n",
              "      <td>2022-01-02</td>\n",
              "      <td>2022-01-02</td>\n",
              "      <td>0</td>\n",
              "      <td>litentry</td>\n",
              "      <td>3.116728</td>\n",
              "    </tr>\n",
              "    <tr>\n",
              "      <th>901</th>\n",
              "      <td>2022-01-03</td>\n",
              "      <td>2022-01-03</td>\n",
              "      <td>0</td>\n",
              "      <td>litentry</td>\n",
              "      <td>3.186888</td>\n",
              "    </tr>\n",
              "    <tr>\n",
              "      <th>902</th>\n",
              "      <td>2022-01-04</td>\n",
              "      <td>2022-01-04</td>\n",
              "      <td>0</td>\n",
              "      <td>litentry</td>\n",
              "      <td>3.101675</td>\n",
              "    </tr>\n",
              "    <tr>\n",
              "      <th>903</th>\n",
              "      <td>2022-01-05</td>\n",
              "      <td>2022-01-05</td>\n",
              "      <td>0</td>\n",
              "      <td>litentry</td>\n",
              "      <td>3.093065</td>\n",
              "    </tr>\n",
              "  </tbody>\n",
              "</table>\n",
              "<p>904 rows × 5 columns</p>\n",
              "</div>\n",
              "      <button class=\"colab-df-convert\" onclick=\"convertToInteractive('df-97dd252d-b769-4609-8bc4-3734b4b47922')\"\n",
              "              title=\"Convert this dataframe to an interactive table.\"\n",
              "              style=\"display:none;\">\n",
              "        \n",
              "  <svg xmlns=\"http://www.w3.org/2000/svg\" height=\"24px\"viewBox=\"0 0 24 24\"\n",
              "       width=\"24px\">\n",
              "    <path d=\"M0 0h24v24H0V0z\" fill=\"none\"/>\n",
              "    <path d=\"M18.56 5.44l.94 2.06.94-2.06 2.06-.94-2.06-.94-.94-2.06-.94 2.06-2.06.94zm-11 1L8.5 8.5l.94-2.06 2.06-.94-2.06-.94L8.5 2.5l-.94 2.06-2.06.94zm10 10l.94 2.06.94-2.06 2.06-.94-2.06-.94-.94-2.06-.94 2.06-2.06.94z\"/><path d=\"M17.41 7.96l-1.37-1.37c-.4-.4-.92-.59-1.43-.59-.52 0-1.04.2-1.43.59L10.3 9.45l-7.72 7.72c-.78.78-.78 2.05 0 2.83L4 21.41c.39.39.9.59 1.41.59.51 0 1.02-.2 1.41-.59l7.78-7.78 2.81-2.81c.8-.78.8-2.07 0-2.86zM5.41 20L4 18.59l7.72-7.72 1.47 1.35L5.41 20z\"/>\n",
              "  </svg>\n",
              "      </button>\n",
              "      \n",
              "  <style>\n",
              "    .colab-df-container {\n",
              "      display:flex;\n",
              "      flex-wrap:wrap;\n",
              "      gap: 12px;\n",
              "    }\n",
              "\n",
              "    .colab-df-convert {\n",
              "      background-color: #E8F0FE;\n",
              "      border: none;\n",
              "      border-radius: 50%;\n",
              "      cursor: pointer;\n",
              "      display: none;\n",
              "      fill: #1967D2;\n",
              "      height: 32px;\n",
              "      padding: 0 0 0 0;\n",
              "      width: 32px;\n",
              "    }\n",
              "\n",
              "    .colab-df-convert:hover {\n",
              "      background-color: #E2EBFA;\n",
              "      box-shadow: 0px 1px 2px rgba(60, 64, 67, 0.3), 0px 1px 3px 1px rgba(60, 64, 67, 0.15);\n",
              "      fill: #174EA6;\n",
              "    }\n",
              "\n",
              "    [theme=dark] .colab-df-convert {\n",
              "      background-color: #3B4455;\n",
              "      fill: #D2E3FC;\n",
              "    }\n",
              "\n",
              "    [theme=dark] .colab-df-convert:hover {\n",
              "      background-color: #434B5C;\n",
              "      box-shadow: 0px 1px 3px 1px rgba(0, 0, 0, 0.15);\n",
              "      filter: drop-shadow(0px 1px 2px rgba(0, 0, 0, 0.3));\n",
              "      fill: #FFFFFF;\n",
              "    }\n",
              "  </style>\n",
              "\n",
              "      <script>\n",
              "        const buttonEl =\n",
              "          document.querySelector('#df-97dd252d-b769-4609-8bc4-3734b4b47922 button.colab-df-convert');\n",
              "        buttonEl.style.display =\n",
              "          google.colab.kernel.accessAllowed ? 'block' : 'none';\n",
              "\n",
              "        async function convertToInteractive(key) {\n",
              "          const element = document.querySelector('#df-97dd252d-b769-4609-8bc4-3734b4b47922');\n",
              "          const dataTable =\n",
              "            await google.colab.kernel.invokeFunction('convertToInteractive',\n",
              "                                                     [key], {});\n",
              "          if (!dataTable) return;\n",
              "\n",
              "          const docLinkHtml = 'Like what you see? Visit the ' +\n",
              "            '<a target=\"_blank\" href=https://colab.research.google.com/notebooks/data_table.ipynb>data table notebook</a>'\n",
              "            + ' to learn more about interactive tables.';\n",
              "          element.innerHTML = '';\n",
              "          dataTable['output_type'] = 'display_data';\n",
              "          await google.colab.output.renderOutput(dataTable, element);\n",
              "          const docLink = document.createElement('div');\n",
              "          docLink.innerHTML = docLinkHtml;\n",
              "          element.appendChild(docLink);\n",
              "        }\n",
              "      </script>\n",
              "    </div>\n",
              "  </div>\n",
              "  "
            ],
            "text/plain": [
              "      datetime        date  hour    currency_name     value\n",
              "0   2021-03-14  2021-03-14     0  request-network  0.115487\n",
              "1   2021-03-15  2021-03-15     0  request-network  0.114584\n",
              "2   2021-03-16  2021-03-16     0  request-network  0.121422\n",
              "3   2021-03-17  2021-03-17     0  request-network  0.123575\n",
              "4   2021-03-18  2021-03-18     0  request-network  0.148154\n",
              "..         ...         ...   ...              ...       ...\n",
              "899 2022-01-01  2022-01-01     0         litentry  2.962963\n",
              "900 2022-01-02  2022-01-02     0         litentry  3.116728\n",
              "901 2022-01-03  2022-01-03     0         litentry  3.186888\n",
              "902 2022-01-04  2022-01-04     0         litentry  3.101675\n",
              "903 2022-01-05  2022-01-05     0         litentry  3.093065\n",
              "\n",
              "[904 rows x 5 columns]"
            ]
          },
          "metadata": {},
          "execution_count": 121
        },
        {
          "output_type": "display_data",
          "data": {
            "image/png": "[encoded data removed]",
            "text/plain": [
              "<Figure size 432x288 with 1 Axes>"
            ]
          },
          "metadata": {}
        }
      ]
    },
    {
      "cell_type": "markdown",
      "source": [
        "Maintenant que l'on a un index correspondant à une performance d'apparition dans twitter, on veut s'assurer que cette tendance est positive. Pour ce faire on utilise la bibliothèque TextBlob qui, à partir d'un texte définit si ce texte est plutot positif ou négatif."
      ],
      "metadata": {
        "id": "zaPINnxeDySv"
      }
    },
    {
      "cell_type": "code",
      "source": [
        "def get_related_tweets(key_word):\n",
        "    twitter_users = []\n",
        "    tweet_time = []\n",
        "    tweet_string = [] \n",
        "    for tweet in tweepy.Cursor(api.search,q=key_word, count=100).items(100):\n",
        "            if (not tweet.retweeted) and ('RT @' not in tweet.text):\n",
        "                if tweet.lang == \"en\":\n",
        "                    twitter_users.append(tweet.user.name)\n",
        "                    tweet_time.append(tweet.created_at)\n",
        "                    tweet_string.append(tweet.text)\n",
        "                    #print([tweet.user.name,tweet.created_at,tweet.text])\n",
        "    df = pd.DataFrame({'name':twitter_users, 'time': tweet_time, 'tweet': tweet_string})\n",
        "    \n",
        "    return df\n",
        "\n",
        "#get_related_tweets(\"Dragon\")"
      ],
      "metadata": {
        "id": "NEKzwUpnnIu5"
      },
      "execution_count": null,
      "outputs": []
    },
    {
      "cell_type": "code",
      "source": [
        "\n",
        "\n",
        "\n",
        "import seaborn as sns\n",
        "import matplotlib.pyplot as plt\n",
        "def get_sentiment(key_word):\n",
        "    df = get_related_tweets(key_word)\n",
        "    df['sentiment'] = df['tweet'].apply(lambda tweet: TextBlob(tweet).sentiment.polarity)\n",
        "    df_pos = df[df['sentiment'] > 0.0]\n",
        "    df_neg = df[df['sentiment'] < 0.0]\n",
        "    \n",
        "    print(\"Number of Positive Tweets about {}\".format(key_word), len(df_pos))\n",
        "    print(\"Number of Negative Tweets about {}\".format(key_word), len(df_neg))\n",
        "    sns.set()\n",
        "    labels = ['Positive', 'Negative']\n",
        "    heights = [len(df_pos), len(df_neg)]\n",
        "    plt.bar(labels, heights, color = 'navy')\n",
        "    plt.title(key_word)\n",
        "    return (len(df_pos)/(len(df_neg)+1))\n",
        "    \n",
        "\n",
        "#get_sentiment(\"$BTC\")\n",
        "#return (len(df_pos)/len(df_neg))\n",
        "list_index_humeur_asset = []\n",
        "\n",
        "for i in range(1,11):\n",
        "  \n",
        "  plt.subplot(2, 5, i) \n",
        "  plt.subplots_adjust(left=0.125,\n",
        "                    bottom=0.1, \n",
        "                    right=1.6, \n",
        "                    top=1.2, \n",
        "                    wspace=0.2, \n",
        "                    hspace=0.35)\n",
        "  list_index_humeur_asset.append(get_sentiment(results[i]))\n",
        "\n"
      ],
      "metadata": {
        "colab": {
          "base_uri": "https://localhost:8080/",
          "height": 746
        },
        "id": "kcdQ6oWCpQpu",
        "outputId": "8a04d257-06b5-47d8-cb23-8d455e1a18f2"
      },
      "execution_count": 123,
      "outputs": [
        {
          "output_type": "stream",
          "name": "stdout",
          "text": [
            "Number of Positive Tweets about C98 13\n",
            "Number of Negative Tweets about C98 3\n",
            "Number of Positive Tweets about IRIS 12\n",
            "Number of Negative Tweets about IRIS 1\n",
            "Number of Positive Tweets about ATOM 9\n",
            "Number of Negative Tweets about ATOM 3\n",
            "Number of Positive Tweets about ONE 11\n",
            "Number of Negative Tweets about ONE 4\n",
            "Number of Positive Tweets about REQ 17\n",
            "Number of Negative Tweets about REQ 1\n",
            "Number of Positive Tweets about ZRX 18\n",
            "Number of Negative Tweets about ZRX 3\n",
            "Number of Positive Tweets about XTZ 11\n",
            "Number of Negative Tweets about XTZ 1\n",
            "Number of Positive Tweets about LIT 8\n",
            "Number of Negative Tweets about LIT 5\n",
            "Number of Positive Tweets about DYDX 21\n",
            "Number of Negative Tweets about DYDX 1\n",
            "Number of Positive Tweets about UTK 1\n",
            "Number of Negative Tweets about UTK 0\n"
          ]
        },
        {
          "output_type": "display_data",
          "data": {
            "image/png": "[encoded data removed]",
            "text/plain": [
              "<Figure size 432x288 with 10 Axes>"
            ]
          },
          "metadata": {}
        }
      ]
    },
    {
      "cell_type": "markdown",
      "source": [
        "On affiche le graphe de dernier token mentionné, juste pour avoir une représentation graphique"
      ],
      "metadata": {
        "id": "axbdMTuc1Ajz"
      }
    },
    {
      "cell_type": "markdown",
      "source": [
        "On a finalement récupéré dans notre liste \"list_index_humeur_asset\" le rapport positif/negatif qui nous retourne un second indice de performance.\n"
      ],
      "metadata": {
        "id": "l3TZ8fSFKvsN"
      }
    },
    {
      "cell_type": "code",
      "source": [
        "print(list_index_humeur_asset)"
      ],
      "metadata": {
        "colab": {
          "base_uri": "https://localhost:8080/"
        },
        "id": "ZzVamRKNK9D6",
        "outputId": "c96ffe97-8050-4ed6-b6a8-bec402d7a847"
      },
      "execution_count": null,
      "outputs": [
        {
          "output_type": "stream",
          "name": "stdout",
          "text": [
            "[10.666666666666666, 3.5, 1.3333333333333333, 5.5, 3.3333333333333335, 1.6666666666666667, 0.8333333333333334, 9.666666666666666, 4.0, 0.8]\n"
          ]
        }
      ]
    },
    {
      "cell_type": "markdown",
      "source": [
        "Et je rappelle que l'on a aussi notre index de performance en fonction du nombre d'appartion du token sur twitter ((entropytoken_around_one)."
      ],
      "metadata": {
        "id": "lhjTvUMvLDpL"
      }
    },
    {
      "cell_type": "code",
      "source": [
        "print(entropytoken_around_one)"
      ],
      "metadata": {
        "colab": {
          "base_uri": "https://localhost:8080/"
        },
        "id": "bTRsBMcgLYOU",
        "outputId": "01e95695-4738-4f58-801d-bc4793cf9266"
      },
      "execution_count": null,
      "outputs": [
        {
          "output_type": "stream",
          "name": "stdout",
          "text": [
            "[0.6363636363636364, 0.6, 1.1757575757575758, 1.1454545454545455, 1.0363636363636364, 1.2, 0.6, 0.9999999999999999, 0.909090909090909, 0.6363636363636364]\n"
          ]
        }
      ]
    },
    {
      "cell_type": "markdown",
      "source": [
        "On en a finir pour la partie twitter. On recupere maintenant le prix actuel de notre asset pour savoir combien de cet asset va t'on acheter (attention de bien avoir un nombre rond). Pour ce faire on fait appel à l'api de coingecko qui nous retourne le prix d'un asset à un moment donné. Problème il faut renseigner le nom du token et non pas le symbole donc je dois d'abord associer le symbole au nom en faisant un premier appel sur coingecko. On obtient alors notre liste \"nb_assets_achat\" qui correspond au nombre de tokens respectifs que l'on va acheter pour chaque token. On a pris dans cet exemple qu'on allait acheter 20 USD de chaque token (minimum 10.3 USD pour un ordre d'achat sur binance)."
      ],
      "metadata": {
        "id": "Y1bn04FTwXN0"
      }
    },
    {
      "cell_type": "code",
      "source": [
        "import requests\n",
        "\n",
        "r = requests.get(\"https://api.coingecko.com/api/v3/coins/list\")\n",
        "retour = r.json()\n",
        "list1 =[\"btc\",\"eth\",\"link\",\"bch\",\"vet\",\"ada\",\"strax\",\"ada\",\"mbl\",'gxs']\n",
        "list2 = results[:10]\n",
        "\n",
        "list = []\n",
        "for i in list2:\n",
        "\n",
        "  list.append(i.lower())\n",
        "\n",
        "print(list)\n",
        "\n",
        "listId=[]\n",
        "for l in list :\n",
        "    for token in retour:\n",
        "        if token[\"symbol\"] == l:\n",
        "            l = token['id']\n",
        "            listId.append(l)\n",
        "\n",
        "print(listId)\n",
        "base_url = \"https://api.coingecko.com/api/v3\"\n",
        "liste_prix_assets = []\n",
        "for u in listId:\n",
        "\n",
        "  url = base_url + f\"/simple/price?ids={u}&vs_currencies=usd\"\n",
        "  r = requests.get(url)\n",
        "  #print(r.json())\n",
        "  #print(r.json()[ids]['usd']) #on affiche sa valeur \n",
        "  liste_prix_assets.append(r.json()[u]['usd'])\n",
        "\n",
        "print(liste_prix_assets)\n",
        "\n",
        "\n",
        "\n",
        "\n",
        "nb_assets_achat = []\n",
        "for d in liste_prix_assets:\n",
        "  nb_assets_achat.append(20/d) #on allocate 20 usd pour chacun des 10 tokens\n",
        "\n",
        "#print(nb_assets_achat)\n",
        "\n",
        "\n",
        "\n",
        "\n",
        "\n"
      ],
      "metadata": {
        "colab": {
          "base_uri": "https://localhost:8080/"
        },
        "id": "9kSgPkRjY90B",
        "outputId": "fcad5f09-dbfa-41ae-cd24-80875a00ebdc"
      },
      "execution_count": null,
      "outputs": [
        {
          "output_type": "stream",
          "name": "stdout",
          "text": [
            "['fxs', 'c98', 'iris', 'atom', 'one', 'req', 'zrx', 'xtz', 'lit', 'dydx']\n",
            "['frax-share', 'coin98', 'iris-network', 'cosmos', 'harmony', 'request-network', '0x', 'tezos', 'litentry', 'dydx']\n",
            "[37.99, 2.51, 0.120789, 43.57, 0.318749, 0.301463, 0.740034, 4.24, 2.6, 7.06]\n"
          ]
        }
      ]
    },
    {
      "cell_type": "markdown",
      "source": [
        "Pour autant, nous allons modifier cette quantité de 20 USD puisque nous avons justement défini des indexs de performance pour optimiser nos investissements en fonction de nos indices."
      ],
      "metadata": {
        "id": "j5On0h16MfM4"
      }
    },
    {
      "cell_type": "code",
      "source": [
        "nb_assets_achat_weighted = []\n",
        "for i in range(len(nb_assets_achat)):\n",
        "  nbr = nb_assets_achat[i] * 0.4 * list_index_humeur_asset[i]  *entropytoken_around_one[i]\n",
        "  nb_assets_achat_weighted.append(nbr)\n",
        "\n",
        "print(nb_assets_achat)\n",
        "print(nb_assets_achat_weighted)"
      ],
      "metadata": {
        "id": "ubzR0rfVNDYS",
        "colab": {
          "base_uri": "https://localhost:8080/"
        },
        "outputId": "8c6aa88d-a2cf-4044-f8ed-e4beff7a8e9a"
      },
      "execution_count": null,
      "outputs": [
        {
          "output_type": "stream",
          "name": "stdout",
          "text": [
            "[0.5264543300868649, 7.9681274900398416, 165.57799137338665, 0.4590314436538903, 62.74529488719965, 66.34313331984357, 27.025785301756407, 4.716981132075471, 7.692307692307692, 2.8328611898017]\n",
            "[1.429403271993427, 6.693227091633467, 103.829108125857, 1.1567592380078038, 86.70258929867589, 53.07450665587486, 5.405157060351282, 18.23899371069182, 11.188811188811187, 0.5768735513778008]\n"
          ]
        }
      ]
    },
    {
      "cell_type": "markdown",
      "source": [
        "Vous voyez que cette fois-ci on obtient une liste avec un nombre d'assets différents à acheter, ce nombre d'assets correspond au nombre optimal defini en fonction de nos indexs de tendance."
      ],
      "metadata": {
        "id": "uCs3XtCNPP_Q"
      }
    },
    {
      "cell_type": "markdown",
      "source": [
        "On peut maintenant renseigner l'ensemble des informations (le token à acheter et le nombre d'assets de ce token à acheter) dont on avait besoin pour faire fonctionner notre bot de trading sur binance dans un fichier csv."
      ],
      "metadata": {
        "id": "q5KvMJfxRFOD"
      }
    },
    {
      "cell_type": "code",
      "source": [
        "\n",
        "#ON ECRIT DANS NOTRE FICHIER CSV\n",
        "quantite_calculee = nb_assets_achat_weighted\n",
        "#quantite_calculee = retour_nb_assets_achat()\n",
        "#print(quantite_calculee)\n",
        "\n",
        "file = open(\"position.csv\", \"w\")\n",
        "writer = csv.writer(file)\n",
        "\n",
        "\n",
        "token = []\n",
        "usdtpair = \"USDT\"\n",
        "lastlistedtokens = results[:10] #nos 20 derniers resultats ouai on prend du large\n",
        "for x in range(len(lastlistedtokens)):\n",
        "  token.append(lastlistedtokens[x] + 'USDT') #on cree la paire qui doit etre respectee\n",
        "\n",
        "position = [0,0,0,0,0,0,0,0,0,0]\n",
        "quantite = []\n",
        "for c in quantite_calculee:\n",
        "  quantite.append(round(c, 8))\n",
        "\n",
        "print(quantite)\n",
        "\n",
        "colonne3 = ['quantity']\n",
        "colonne2 = ['position']\n",
        "colonne1 = ['Currency']\n",
        "for w in range(1):\n",
        "  writer.writerow([colonne1[w], colonne2[w],colonne3[w]])\n",
        "  #writer.writerow(['Currency'],['position'],['quantity'])\n",
        "#print(len(token))\n",
        "#print(len(position))\n",
        "#print(len(quantite))\n",
        "for w in range(len(token)):\n",
        "  \n",
        "  writer.writerow([token[w], position[w],round(quantite[w], 3)]) #on remplit direct le doc\n",
        "\n",
        "file.close()"
      ],
      "metadata": {
        "colab": {
          "base_uri": "https://localhost:8080/"
        },
        "id": "ZDsKT-z-MDZ4",
        "outputId": "29cc3cb8-d53d-4d76-8555-1b9327b1fca9"
      },
      "execution_count": null,
      "outputs": [
        {
          "output_type": "stream",
          "name": "stdout",
          "text": [
            "[1.42940327, 6.69322709, 103.82910813, 1.15675924, 86.7025893, 53.07450666, 5.40515706, 18.23899371, 11.18881119, 0.57687355]\n"
          ]
        }
      ]
    },
    {
      "cell_type": "markdown",
      "source": [
        "On peut maintenant passer à l'implémentation de notre bot binance qui nous permettra de market buy et market sell les tokens souhaités automatiquement. \n",
        "Pour ce faire, nous devons créer une API Binance, vous pouvez vous créer un compte et une API dans Profil->Gestion API et modifier les restrictions en cliquant sur \"Activer le trading au comptant et sur marge\". Attention, ces clés sont privées, ne les partagez à personne."
      ],
      "metadata": {
        "id": "HL15yBRTeV_X"
      }
    },
    {
      "cell_type": "code",
      "source": [
        "from binance.client import Client\n",
        "import pandas as pd\n",
        "client = Client('xxx','xxx')"
      ],
      "metadata": {
        "id": "418i4Z2df9SF"
      },
      "execution_count": null,
      "outputs": []
    },
    {
      "cell_type": "code",
      "source": [
        "import pandas as pd\n",
        "from google.colab import files\n",
        "#uploaded = files.upload()\n",
        "import io\n",
        "#posframe = pd.read_csv(io.BytesIO(uploaded['position.csv']))\n",
        "\n",
        "posframe = pd.read_csv('position.csv')\n",
        "\n",
        "\n",
        "#posframe = pd.read_csv('position')\n",
        "posframe"
      ],
      "metadata": {
        "colab": {
          "base_uri": "https://localhost:8080/",
          "height": 331
        },
        "id": "P1hJqxzbgJfe",
        "outputId": "90aadc1c-40f8-4218-dfbc-8328ea641761"
      },
      "execution_count": null,
      "outputs": [
        {
          "output_type": "execute_result",
          "data": {
            "text/html": [
              "\n",
              "  <div id=\"df-8928f20f-5947-4813-8d5b-30ed2b34a219\">\n",
              "    <div class=\"colab-df-container\">\n",
              "      <div>\n",
              "<style scoped>\n",
              "    .dataframe tbody tr th:only-of-type {\n",
              "        vertical-align: middle;\n",
              "    }\n",
              "\n",
              "    .dataframe tbody tr th {\n",
              "        vertical-align: top;\n",
              "    }\n",
              "\n",
              "    .dataframe thead th {\n",
              "        text-align: right;\n",
              "    }\n",
              "</style>\n",
              "<table border=\"1\" class=\"dataframe\">\n",
              "  <thead>\n",
              "    <tr style=\"text-align: right;\">\n",
              "      <th></th>\n",
              "      <th>Currency</th>\n",
              "      <th>position</th>\n",
              "      <th>quantity</th>\n",
              "    </tr>\n",
              "  </thead>\n",
              "  <tbody>\n",
              "    <tr>\n",
              "      <th>0</th>\n",
              "      <td>FXSUSDT</td>\n",
              "      <td>0</td>\n",
              "      <td>0.528</td>\n",
              "    </tr>\n",
              "    <tr>\n",
              "      <th>1</th>\n",
              "      <td>C98USDT</td>\n",
              "      <td>0</td>\n",
              "      <td>8.163</td>\n",
              "    </tr>\n",
              "    <tr>\n",
              "      <th>2</th>\n",
              "      <td>IRISUSDT</td>\n",
              "      <td>0</td>\n",
              "      <td>192.829</td>\n",
              "    </tr>\n",
              "    <tr>\n",
              "      <th>3</th>\n",
              "      <td>ATOMUSDT</td>\n",
              "      <td>0</td>\n",
              "      <td>0.472</td>\n",
              "    </tr>\n",
              "    <tr>\n",
              "      <th>4</th>\n",
              "      <td>ONEUSDT</td>\n",
              "      <td>0</td>\n",
              "      <td>63.821</td>\n",
              "    </tr>\n",
              "    <tr>\n",
              "      <th>5</th>\n",
              "      <td>REQUSDT</td>\n",
              "      <td>0</td>\n",
              "      <td>65.662</td>\n",
              "    </tr>\n",
              "    <tr>\n",
              "      <th>6</th>\n",
              "      <td>ZRXUSDT</td>\n",
              "      <td>0</td>\n",
              "      <td>27.125</td>\n",
              "    </tr>\n",
              "    <tr>\n",
              "      <th>7</th>\n",
              "      <td>XTZUSDT</td>\n",
              "      <td>0</td>\n",
              "      <td>4.773</td>\n",
              "    </tr>\n",
              "    <tr>\n",
              "      <th>8</th>\n",
              "      <td>LITUSDT</td>\n",
              "      <td>0</td>\n",
              "      <td>7.722</td>\n",
              "    </tr>\n",
              "  </tbody>\n",
              "</table>\n",
              "</div>\n",
              "      <button class=\"colab-df-convert\" onclick=\"convertToInteractive('df-8928f20f-5947-4813-8d5b-30ed2b34a219')\"\n",
              "              title=\"Convert this dataframe to an interactive table.\"\n",
              "              style=\"display:none;\">\n",
              "        \n",
              "  <svg xmlns=\"http://www.w3.org/2000/svg\" height=\"24px\"viewBox=\"0 0 24 24\"\n",
              "       width=\"24px\">\n",
              "    <path d=\"M0 0h24v24H0V0z\" fill=\"none\"/>\n",
              "    <path d=\"M18.56 5.44l.94 2.06.94-2.06 2.06-.94-2.06-.94-.94-2.06-.94 2.06-2.06.94zm-11 1L8.5 8.5l.94-2.06 2.06-.94-2.06-.94L8.5 2.5l-.94 2.06-2.06.94zm10 10l.94 2.06.94-2.06 2.06-.94-2.06-.94-.94-2.06-.94 2.06-2.06.94z\"/><path d=\"M17.41 7.96l-1.37-1.37c-.4-.4-.92-.59-1.43-.59-.52 0-1.04.2-1.43.59L10.3 9.45l-7.72 7.72c-.78.78-.78 2.05 0 2.83L4 21.41c.39.39.9.59 1.41.59.51 0 1.02-.2 1.41-.59l7.78-7.78 2.81-2.81c.8-.78.8-2.07 0-2.86zM5.41 20L4 18.59l7.72-7.72 1.47 1.35L5.41 20z\"/>\n",
              "  </svg>\n",
              "      </button>\n",
              "      \n",
              "  <style>\n",
              "    .colab-df-container {\n",
              "      display:flex;\n",
              "      flex-wrap:wrap;\n",
              "      gap: 12px;\n",
              "    }\n",
              "\n",
              "    .colab-df-convert {\n",
              "      background-color: #E8F0FE;\n",
              "      border: none;\n",
              "      border-radius: 50%;\n",
              "      cursor: pointer;\n",
              "      display: none;\n",
              "      fill: #1967D2;\n",
              "      height: 32px;\n",
              "      padding: 0 0 0 0;\n",
              "      width: 32px;\n",
              "    }\n",
              "\n",
              "    .colab-df-convert:hover {\n",
              "      background-color: #E2EBFA;\n",
              "      box-shadow: 0px 1px 2px rgba(60, 64, 67, 0.3), 0px 1px 3px 1px rgba(60, 64, 67, 0.15);\n",
              "      fill: #174EA6;\n",
              "    }\n",
              "\n",
              "    [theme=dark] .colab-df-convert {\n",
              "      background-color: #3B4455;\n",
              "      fill: #D2E3FC;\n",
              "    }\n",
              "\n",
              "    [theme=dark] .colab-df-convert:hover {\n",
              "      background-color: #434B5C;\n",
              "      box-shadow: 0px 1px 3px 1px rgba(0, 0, 0, 0.15);\n",
              "      filter: drop-shadow(0px 1px 2px rgba(0, 0, 0, 0.3));\n",
              "      fill: #FFFFFF;\n",
              "    }\n",
              "  </style>\n",
              "\n",
              "      <script>\n",
              "        const buttonEl =\n",
              "          document.querySelector('#df-8928f20f-5947-4813-8d5b-30ed2b34a219 button.colab-df-convert');\n",
              "        buttonEl.style.display =\n",
              "          google.colab.kernel.accessAllowed ? 'block' : 'none';\n",
              "\n",
              "        async function convertToInteractive(key) {\n",
              "          const element = document.querySelector('#df-8928f20f-5947-4813-8d5b-30ed2b34a219');\n",
              "          const dataTable =\n",
              "            await google.colab.kernel.invokeFunction('convertToInteractive',\n",
              "                                                     [key], {});\n",
              "          if (!dataTable) return;\n",
              "\n",
              "          const docLinkHtml = 'Like what you see? Visit the ' +\n",
              "            '<a target=\"_blank\" href=https://colab.research.google.com/notebooks/data_table.ipynb>data table notebook</a>'\n",
              "            + ' to learn more about interactive tables.';\n",
              "          element.innerHTML = '';\n",
              "          dataTable['output_type'] = 'display_data';\n",
              "          await google.colab.output.renderOutput(dataTable, element);\n",
              "          const docLink = document.createElement('div');\n",
              "          docLink.innerHTML = docLinkHtml;\n",
              "          element.appendChild(docLink);\n",
              "        }\n",
              "      </script>\n",
              "    </div>\n",
              "  </div>\n",
              "  "
            ],
            "text/plain": [
              "   Currency  position  quantity\n",
              "0   FXSUSDT         0     0.528\n",
              "1   C98USDT         0     8.163\n",
              "2  IRISUSDT         0   192.829\n",
              "3  ATOMUSDT         0     0.472\n",
              "4   ONEUSDT         0    63.821\n",
              "5   REQUSDT         0    65.662\n",
              "6   ZRXUSDT         0    27.125\n",
              "7   XTZUSDT         0     4.773\n",
              "8   LITUSDT         0     7.722"
            ]
          },
          "metadata": {},
          "execution_count": 94
        }
      ]
    },
    {
      "cell_type": "markdown",
      "source": [
        "On a affiché notre fichier avec la bibliotheque panda. Vous remarquez que l'on utilise une colonne position. Elle sert en cas de récurrence d'un token. Le 0 devient un 1 si l'on a market buy la paire à l'aide de la fonction ci-dessous."
      ],
      "metadata": {
        "id": "nMrJ3iFkTrm9"
      }
    },
    {
      "cell_type": "code",
      "source": [
        "def changepos(curr, buy=True):\n",
        "  if buy:\n",
        "    posframe.loc[posframe.Currency == curr, 'position'] =1 #positionnement achat ou non\n",
        "  else:\n",
        "    posframe.loc[posframe.Currency == curr, 'position'] =0\n",
        "\n",
        "  posframe.to_csv('position', index=False) #tjrs actualiser notre dataset en mettant l'index comme une non colonne"
      ],
      "metadata": {
        "id": "gyilrwSMkUAR"
      },
      "execution_count": null,
      "outputs": []
    },
    {
      "cell_type": "markdown",
      "source": [
        "On récupére les données utile d'un token a l'aide de la fonction ci-dessous"
      ],
      "metadata": {
        "id": "5sC9-zVTXZb0"
      }
    },
    {
      "cell_type": "code",
      "source": [
        "def gethourlydata(symbol):\n",
        "  #klines = client.get_historical_klines(symbol, Client.KLINE_INTERVAL_1MINUTE, \"1 day ago UTC\")\n",
        "  #framebis = client.get_historical_klines(symbol, '1 hour ago UTC', '25 hours ago UTC')\n",
        "  frame = pd.DataFrame(client.get_historical_klines(symbol, '1h', '25 hours ago UTC')) #1h for the fast sma, 25h for the slow sma\n",
        "\n",
        "  frame =frame.iloc[:,:5] #only the five first columns\n",
        "  frame.columns = ['Time','Open','High','Low','Close'] #rename it\n",
        "  frame[['Open','High','Low','Close']] = frame[['Open','High','Low','Close']].astype(float)\n",
        "  frame.Time = pd.to_datetime(frame.Time, unit='ms')\n",
        "\n",
        "  return frame"
      ],
      "metadata": {
        "id": "7c_sIaYHkXwI"
      },
      "execution_count": null,
      "outputs": []
    },
    {
      "cell_type": "markdown",
      "source": [
        "On définit maintenant les valeurs de Fast Moving Average et de Slow Moving Average."
      ],
      "metadata": {
        "id": "PssnNLzzXwX5"
      }
    },
    {
      "cell_type": "code",
      "source": [
        "df = gethourlydata(\"BTCUSDT\")\n",
        "\n",
        "def applytechnicals(df): #on cherche a savoir si Fastsma \n",
        "  df['FastSMA'] = df.Close.rolling(7).mean()\n",
        "  df['SlowSMA'] = df.Close.rolling(25).mean() #25 timesteps\n",
        "\n",
        "applytechnicals(df)\n",
        "df\n"
      ],
      "metadata": {
        "colab": {
          "base_uri": "https://localhost:8080/",
          "height": 1000
        },
        "id": "yJSBfCC_kcCL",
        "outputId": "3d92d383-dfa0-4e0f-c217-c7b98c6faea0"
      },
      "execution_count": null,
      "outputs": [
        {
          "output_type": "execute_result",
          "data": {
            "text/html": [
              "\n",
              "  <div id=\"df-034016a5-2b16-4df1-8c65-33c829a16e3b\">\n",
              "    <div class=\"colab-df-container\">\n",
              "      <div>\n",
              "<style scoped>\n",
              "    .dataframe tbody tr th:only-of-type {\n",
              "        vertical-align: middle;\n",
              "    }\n",
              "\n",
              "    .dataframe tbody tr th {\n",
              "        vertical-align: top;\n",
              "    }\n",
              "\n",
              "    .dataframe thead th {\n",
              "        text-align: right;\n",
              "    }\n",
              "</style>\n",
              "<table border=\"1\" class=\"dataframe\">\n",
              "  <thead>\n",
              "    <tr style=\"text-align: right;\">\n",
              "      <th></th>\n",
              "      <th>Time</th>\n",
              "      <th>Open</th>\n",
              "      <th>High</th>\n",
              "      <th>Low</th>\n",
              "      <th>Close</th>\n",
              "      <th>FastSMA</th>\n",
              "      <th>SlowSMA</th>\n",
              "    </tr>\n",
              "  </thead>\n",
              "  <tbody>\n",
              "    <tr>\n",
              "      <th>0</th>\n",
              "      <td>2022-01-06 12:00:00</td>\n",
              "      <td>42878.33</td>\n",
              "      <td>43077.00</td>\n",
              "      <td>42632.44</td>\n",
              "      <td>43062.76</td>\n",
              "      <td>NaN</td>\n",
              "      <td>NaN</td>\n",
              "    </tr>\n",
              "    <tr>\n",
              "      <th>1</th>\n",
              "      <td>2022-01-06 13:00:00</td>\n",
              "      <td>43062.77</td>\n",
              "      <td>43200.00</td>\n",
              "      <td>42900.00</td>\n",
              "      <td>43150.01</td>\n",
              "      <td>NaN</td>\n",
              "      <td>NaN</td>\n",
              "    </tr>\n",
              "    <tr>\n",
              "      <th>2</th>\n",
              "      <td>2022-01-06 14:00:00</td>\n",
              "      <td>43150.00</td>\n",
              "      <td>43267.09</td>\n",
              "      <td>42761.90</td>\n",
              "      <td>42805.50</td>\n",
              "      <td>NaN</td>\n",
              "      <td>NaN</td>\n",
              "    </tr>\n",
              "    <tr>\n",
              "      <th>3</th>\n",
              "      <td>2022-01-06 15:00:00</td>\n",
              "      <td>42805.50</td>\n",
              "      <td>43019.71</td>\n",
              "      <td>42666.00</td>\n",
              "      <td>42950.01</td>\n",
              "      <td>NaN</td>\n",
              "      <td>NaN</td>\n",
              "    </tr>\n",
              "    <tr>\n",
              "      <th>4</th>\n",
              "      <td>2022-01-06 16:00:00</td>\n",
              "      <td>42950.02</td>\n",
              "      <td>43131.76</td>\n",
              "      <td>42725.09</td>\n",
              "      <td>42882.22</td>\n",
              "      <td>NaN</td>\n",
              "      <td>NaN</td>\n",
              "    </tr>\n",
              "    <tr>\n",
              "      <th>5</th>\n",
              "      <td>2022-01-06 17:00:00</td>\n",
              "      <td>42882.23</td>\n",
              "      <td>43175.66</td>\n",
              "      <td>42790.89</td>\n",
              "      <td>43005.29</td>\n",
              "      <td>NaN</td>\n",
              "      <td>NaN</td>\n",
              "    </tr>\n",
              "    <tr>\n",
              "      <th>6</th>\n",
              "      <td>2022-01-06 18:00:00</td>\n",
              "      <td>43005.30</td>\n",
              "      <td>43400.00</td>\n",
              "      <td>42982.05</td>\n",
              "      <td>43369.04</td>\n",
              "      <td>43032.118571</td>\n",
              "      <td>NaN</td>\n",
              "    </tr>\n",
              "    <tr>\n",
              "      <th>7</th>\n",
              "      <td>2022-01-06 19:00:00</td>\n",
              "      <td>43369.04</td>\n",
              "      <td>43508.78</td>\n",
              "      <td>43224.73</td>\n",
              "      <td>43438.10</td>\n",
              "      <td>43085.738571</td>\n",
              "      <td>NaN</td>\n",
              "    </tr>\n",
              "    <tr>\n",
              "      <th>8</th>\n",
              "      <td>2022-01-06 20:00:00</td>\n",
              "      <td>43438.11</td>\n",
              "      <td>43581.30</td>\n",
              "      <td>43111.57</td>\n",
              "      <td>43221.50</td>\n",
              "      <td>43095.951429</td>\n",
              "      <td>NaN</td>\n",
              "    </tr>\n",
              "    <tr>\n",
              "      <th>9</th>\n",
              "      <td>2022-01-06 21:00:00</td>\n",
              "      <td>43221.50</td>\n",
              "      <td>43253.29</td>\n",
              "      <td>43066.04</td>\n",
              "      <td>43120.64</td>\n",
              "      <td>43140.971429</td>\n",
              "      <td>NaN</td>\n",
              "    </tr>\n",
              "    <tr>\n",
              "      <th>10</th>\n",
              "      <td>2022-01-06 22:00:00</td>\n",
              "      <td>43120.63</td>\n",
              "      <td>43236.73</td>\n",
              "      <td>43007.81</td>\n",
              "      <td>43180.97</td>\n",
              "      <td>43173.965714</td>\n",
              "      <td>NaN</td>\n",
              "    </tr>\n",
              "    <tr>\n",
              "      <th>11</th>\n",
              "      <td>2022-01-06 23:00:00</td>\n",
              "      <td>43180.96</td>\n",
              "      <td>43241.41</td>\n",
              "      <td>43053.94</td>\n",
              "      <td>43082.31</td>\n",
              "      <td>43202.550000</td>\n",
              "      <td>NaN</td>\n",
              "    </tr>\n",
              "    <tr>\n",
              "      <th>12</th>\n",
              "      <td>2022-01-07 00:00:00</td>\n",
              "      <td>43082.30</td>\n",
              "      <td>43145.83</td>\n",
              "      <td>42738.00</td>\n",
              "      <td>42788.15</td>\n",
              "      <td>43171.530000</td>\n",
              "      <td>NaN</td>\n",
              "    </tr>\n",
              "    <tr>\n",
              "      <th>13</th>\n",
              "      <td>2022-01-07 01:00:00</td>\n",
              "      <td>42788.15</td>\n",
              "      <td>43030.50</td>\n",
              "      <td>42785.56</td>\n",
              "      <td>43008.90</td>\n",
              "      <td>43120.081429</td>\n",
              "      <td>NaN</td>\n",
              "    </tr>\n",
              "    <tr>\n",
              "      <th>14</th>\n",
              "      <td>2022-01-07 02:00:00</td>\n",
              "      <td>43008.90</td>\n",
              "      <td>43030.00</td>\n",
              "      <td>42771.59</td>\n",
              "      <td>42799.13</td>\n",
              "      <td>43028.800000</td>\n",
              "      <td>NaN</td>\n",
              "    </tr>\n",
              "    <tr>\n",
              "      <th>15</th>\n",
              "      <td>2022-01-07 03:00:00</td>\n",
              "      <td>42799.12</td>\n",
              "      <td>42827.07</td>\n",
              "      <td>41577.77</td>\n",
              "      <td>41803.11</td>\n",
              "      <td>42826.172857</td>\n",
              "      <td>NaN</td>\n",
              "    </tr>\n",
              "    <tr>\n",
              "      <th>16</th>\n",
              "      <td>2022-01-07 04:00:00</td>\n",
              "      <td>41803.11</td>\n",
              "      <td>41909.23</td>\n",
              "      <td>41000.00</td>\n",
              "      <td>41700.33</td>\n",
              "      <td>42623.271429</td>\n",
              "      <td>NaN</td>\n",
              "    </tr>\n",
              "    <tr>\n",
              "      <th>17</th>\n",
              "      <td>2022-01-07 05:00:00</td>\n",
              "      <td>41700.33</td>\n",
              "      <td>41950.00</td>\n",
              "      <td>41524.94</td>\n",
              "      <td>41851.33</td>\n",
              "      <td>42433.322857</td>\n",
              "      <td>NaN</td>\n",
              "    </tr>\n",
              "    <tr>\n",
              "      <th>18</th>\n",
              "      <td>2022-01-07 06:00:00</td>\n",
              "      <td>41851.33</td>\n",
              "      <td>41853.19</td>\n",
              "      <td>41409.95</td>\n",
              "      <td>41529.14</td>\n",
              "      <td>42211.441429</td>\n",
              "      <td>NaN</td>\n",
              "    </tr>\n",
              "    <tr>\n",
              "      <th>19</th>\n",
              "      <td>2022-01-07 07:00:00</td>\n",
              "      <td>41529.15</td>\n",
              "      <td>41731.36</td>\n",
              "      <td>41206.90</td>\n",
              "      <td>41706.71</td>\n",
              "      <td>42056.950000</td>\n",
              "      <td>NaN</td>\n",
              "    </tr>\n",
              "    <tr>\n",
              "      <th>20</th>\n",
              "      <td>2022-01-07 08:00:00</td>\n",
              "      <td>41706.71</td>\n",
              "      <td>42883.47</td>\n",
              "      <td>41607.50</td>\n",
              "      <td>42088.61</td>\n",
              "      <td>41925.480000</td>\n",
              "      <td>NaN</td>\n",
              "    </tr>\n",
              "    <tr>\n",
              "      <th>21</th>\n",
              "      <td>2022-01-07 09:00:00</td>\n",
              "      <td>42088.61</td>\n",
              "      <td>42628.34</td>\n",
              "      <td>42060.00</td>\n",
              "      <td>42422.56</td>\n",
              "      <td>41871.684286</td>\n",
              "      <td>NaN</td>\n",
              "    </tr>\n",
              "    <tr>\n",
              "      <th>22</th>\n",
              "      <td>2022-01-07 10:00:00</td>\n",
              "      <td>42422.57</td>\n",
              "      <td>42533.43</td>\n",
              "      <td>42168.00</td>\n",
              "      <td>42172.83</td>\n",
              "      <td>41924.501429</td>\n",
              "      <td>NaN</td>\n",
              "    </tr>\n",
              "    <tr>\n",
              "      <th>23</th>\n",
              "      <td>2022-01-07 11:00:00</td>\n",
              "      <td>42172.84</td>\n",
              "      <td>42350.73</td>\n",
              "      <td>42161.00</td>\n",
              "      <td>42258.62</td>\n",
              "      <td>42004.257143</td>\n",
              "      <td>NaN</td>\n",
              "    </tr>\n",
              "    <tr>\n",
              "      <th>24</th>\n",
              "      <td>2022-01-07 12:00:00</td>\n",
              "      <td>42258.62</td>\n",
              "      <td>42497.88</td>\n",
              "      <td>42258.62</td>\n",
              "      <td>42436.41</td>\n",
              "      <td>42087.840000</td>\n",
              "      <td>42633.3672</td>\n",
              "    </tr>\n",
              "  </tbody>\n",
              "</table>\n",
              "</div>\n",
              "      <button class=\"colab-df-convert\" onclick=\"convertToInteractive('df-034016a5-2b16-4df1-8c65-33c829a16e3b')\"\n",
              "              title=\"Convert this dataframe to an interactive table.\"\n",
              "              style=\"display:none;\">\n",
              "        \n",
              "  <svg xmlns=\"http://www.w3.org/2000/svg\" height=\"24px\"viewBox=\"0 0 24 24\"\n",
              "       width=\"24px\">\n",
              "    <path d=\"M0 0h24v24H0V0z\" fill=\"none\"/>\n",
              "    <path d=\"M18.56 5.44l.94 2.06.94-2.06 2.06-.94-2.06-.94-.94-2.06-.94 2.06-2.06.94zm-11 1L8.5 8.5l.94-2.06 2.06-.94-2.06-.94L8.5 2.5l-.94 2.06-2.06.94zm10 10l.94 2.06.94-2.06 2.06-.94-2.06-.94-.94-2.06-.94 2.06-2.06.94z\"/><path d=\"M17.41 7.96l-1.37-1.37c-.4-.4-.92-.59-1.43-.59-.52 0-1.04.2-1.43.59L10.3 9.45l-7.72 7.72c-.78.78-.78 2.05 0 2.83L4 21.41c.39.39.9.59 1.41.59.51 0 1.02-.2 1.41-.59l7.78-7.78 2.81-2.81c.8-.78.8-2.07 0-2.86zM5.41 20L4 18.59l7.72-7.72 1.47 1.35L5.41 20z\"/>\n",
              "  </svg>\n",
              "      </button>\n",
              "      \n",
              "  <style>\n",
              "    .colab-df-container {\n",
              "      display:flex;\n",
              "      flex-wrap:wrap;\n",
              "      gap: 12px;\n",
              "    }\n",
              "\n",
              "    .colab-df-convert {\n",
              "      background-color: #E8F0FE;\n",
              "      border: none;\n",
              "      border-radius: 50%;\n",
              "      cursor: pointer;\n",
              "      display: none;\n",
              "      fill: #1967D2;\n",
              "      height: 32px;\n",
              "      padding: 0 0 0 0;\n",
              "      width: 32px;\n",
              "    }\n",
              "\n",
              "    .colab-df-convert:hover {\n",
              "      background-color: #E2EBFA;\n",
              "      box-shadow: 0px 1px 2px rgba(60, 64, 67, 0.3), 0px 1px 3px 1px rgba(60, 64, 67, 0.15);\n",
              "      fill: #174EA6;\n",
              "    }\n",
              "\n",
              "    [theme=dark] .colab-df-convert {\n",
              "      background-color: #3B4455;\n",
              "      fill: #D2E3FC;\n",
              "    }\n",
              "\n",
              "    [theme=dark] .colab-df-convert:hover {\n",
              "      background-color: #434B5C;\n",
              "      box-shadow: 0px 1px 3px 1px rgba(0, 0, 0, 0.15);\n",
              "      filter: drop-shadow(0px 1px 2px rgba(0, 0, 0, 0.3));\n",
              "      fill: #FFFFFF;\n",
              "    }\n",
              "  </style>\n",
              "\n",
              "      <script>\n",
              "        const buttonEl =\n",
              "          document.querySelector('#df-034016a5-2b16-4df1-8c65-33c829a16e3b button.colab-df-convert');\n",
              "        buttonEl.style.display =\n",
              "          google.colab.kernel.accessAllowed ? 'block' : 'none';\n",
              "\n",
              "        async function convertToInteractive(key) {\n",
              "          const element = document.querySelector('#df-034016a5-2b16-4df1-8c65-33c829a16e3b');\n",
              "          const dataTable =\n",
              "            await google.colab.kernel.invokeFunction('convertToInteractive',\n",
              "                                                     [key], {});\n",
              "          if (!dataTable) return;\n",
              "\n",
              "          const docLinkHtml = 'Like what you see? Visit the ' +\n",
              "            '<a target=\"_blank\" href=https://colab.research.google.com/notebooks/data_table.ipynb>data table notebook</a>'\n",
              "            + ' to learn more about interactive tables.';\n",
              "          element.innerHTML = '';\n",
              "          dataTable['output_type'] = 'display_data';\n",
              "          await google.colab.output.renderOutput(dataTable, element);\n",
              "          const docLink = document.createElement('div');\n",
              "          docLink.innerHTML = docLinkHtml;\n",
              "          element.appendChild(docLink);\n",
              "        }\n",
              "      </script>\n",
              "    </div>\n",
              "  </div>\n",
              "  "
            ],
            "text/plain": [
              "                  Time      Open      High  ...     Close       FastSMA     SlowSMA\n",
              "0  2022-01-06 12:00:00  42878.33  43077.00  ...  43062.76           NaN         NaN\n",
              "1  2022-01-06 13:00:00  43062.77  43200.00  ...  43150.01           NaN         NaN\n",
              "2  2022-01-06 14:00:00  43150.00  43267.09  ...  42805.50           NaN         NaN\n",
              "3  2022-01-06 15:00:00  42805.50  43019.71  ...  42950.01           NaN         NaN\n",
              "4  2022-01-06 16:00:00  42950.02  43131.76  ...  42882.22           NaN         NaN\n",
              "5  2022-01-06 17:00:00  42882.23  43175.66  ...  43005.29           NaN         NaN\n",
              "6  2022-01-06 18:00:00  43005.30  43400.00  ...  43369.04  43032.118571         NaN\n",
              "7  2022-01-06 19:00:00  43369.04  43508.78  ...  43438.10  43085.738571         NaN\n",
              "8  2022-01-06 20:00:00  43438.11  43581.30  ...  43221.50  43095.951429         NaN\n",
              "9  2022-01-06 21:00:00  43221.50  43253.29  ...  43120.64  43140.971429         NaN\n",
              "10 2022-01-06 22:00:00  43120.63  43236.73  ...  43180.97  43173.965714         NaN\n",
              "11 2022-01-06 23:00:00  43180.96  43241.41  ...  43082.31  43202.550000         NaN\n",
              "12 2022-01-07 00:00:00  43082.30  43145.83  ...  42788.15  43171.530000         NaN\n",
              "13 2022-01-07 01:00:00  42788.15  43030.50  ...  43008.90  43120.081429         NaN\n",
              "14 2022-01-07 02:00:00  43008.90  43030.00  ...  42799.13  43028.800000         NaN\n",
              "15 2022-01-07 03:00:00  42799.12  42827.07  ...  41803.11  42826.172857         NaN\n",
              "16 2022-01-07 04:00:00  41803.11  41909.23  ...  41700.33  42623.271429         NaN\n",
              "17 2022-01-07 05:00:00  41700.33  41950.00  ...  41851.33  42433.322857         NaN\n",
              "18 2022-01-07 06:00:00  41851.33  41853.19  ...  41529.14  42211.441429         NaN\n",
              "19 2022-01-07 07:00:00  41529.15  41731.36  ...  41706.71  42056.950000         NaN\n",
              "20 2022-01-07 08:00:00  41706.71  42883.47  ...  42088.61  41925.480000         NaN\n",
              "21 2022-01-07 09:00:00  42088.61  42628.34  ...  42422.56  41871.684286         NaN\n",
              "22 2022-01-07 10:00:00  42422.57  42533.43  ...  42172.83  41924.501429         NaN\n",
              "23 2022-01-07 11:00:00  42172.84  42350.73  ...  42258.62  42004.257143         NaN\n",
              "24 2022-01-07 12:00:00  42258.62  42497.88  ...  42436.41  42087.840000  42633.3672\n",
              "\n",
              "[25 rows x 7 columns]"
            ]
          },
          "metadata": {},
          "execution_count": 21
        }
      ]
    },
    {
      "cell_type": "markdown",
      "source": [
        "On rentre maintenant concrètement dans le coeur de notre fonction. L'indicateur technique est le suivant : si la fastSMA > à la slowSMA, alors on a un indicateur technique bullish et on confirme que l'on veut market buy l'asset. Si ce n'est pas le cas, on ne fait rien. \n",
        "Si on a déjà acheté l'asset, alors on le market sell tout simplement."
      ],
      "metadata": {
        "id": "AfxoBZ9kX6yU"
      }
    },
    {
      "cell_type": "code",
      "source": [
        "def trader(curr):\n",
        "  firstqty = posframe[posframe.Currency == curr].quantity.values[0] #on va selectionner la valeur que l'on veut investir \n",
        "  #qty = float(round(firstqty, 6))\n",
        "  #print(qty)\n",
        "\n",
        "\n",
        "  df = gethourlydata(curr)\n",
        "  applytechnicals(df)\n",
        "  lastrow = df.iloc[-1] #on ne s'interesse qu'a la last row\n",
        "  if not posframe[posframe.Currency == curr].position.values[0]: #si l'on est pas en position\n",
        "    if lastrow.FastSMA < lastrow.SlowSMA:\n",
        "      print(round(firstqty,0))\n",
        "      order = client.create_order(symbol=curr,side='BUY',type='MARKET',quantity= (round(firstqty,0)))\n",
        "\n",
        "      print(order)\n",
        "      changepos(curr, buy=True)\n",
        "     \n",
        "    else:\n",
        "      print(f'Not in position {curr} but condition not fulfilled')\n",
        "  else: #si l'on est deja en position\n",
        "    print(f'Already in {curr} position')\n",
        "    if lastrow.SlowSMA > lastrow.FastSMA:\n",
        "      print(round(firstqty,6))\n",
        "      order = client.create_order(symbol=curr,side='SELL',type='MARKET',quantity= (round(firstqty,6)))\n",
        "\n",
        "      print(order)\n",
        "      changepos(curr, buy=False)\n",
        "\n"
      ],
      "metadata": {
        "id": "4QYStSYFkiCE"
      },
      "execution_count": null,
      "outputs": []
    },
    {
      "cell_type": "markdown",
      "source": [
        "Il nous reste plus qu'à lancer notre fonction pour chaque token que l'on va potentiellement market buy ou market sell. \n",
        "Vous pouvez voir que certains orders sont 'FILLED'. Cela veut bel et bien dire que l'ordre est passé sur binance. Mission réussie."
      ],
      "metadata": {
        "id": "vdxEjKjRYY22"
      }
    },
    {
      "cell_type": "code",
      "source": [
        "for coin in posframe.Currency:\n",
        "  trader(coin)"
      ],
      "metadata": {
        "colab": {
          "base_uri": "https://localhost:8080/"
        },
        "id": "RoDim2x2koSO",
        "outputId": "b739a069-1cda-4445-f66d-c33c51ce2f3c"
      },
      "execution_count": null,
      "outputs": [
        {
          "output_type": "stream",
          "name": "stdout",
          "text": [
            "Not in position FXSUSDT but condition not fulfilled\n",
            "Not in position C98USDT but condition not fulfilled\n",
            "Not in position IRISUSDT but condition not fulfilled\n",
            "Not in position ATOMUSDT but condition not fulfilled\n",
            "Not in position ONEUSDT but condition not fulfilled\n",
            "65.0\n",
            "{'symbol': 'REQUSDT', 'orderId': 51518223, 'orderListId': -1, 'clientOrderId': 'JWuqH3IigMoyRK50cqMzNV', 'transactTime': 1641563233131, 'price': '0.00000000', 'origQty': '65.00000000', 'executedQty': '65.00000000', 'cummulativeQuoteQty': '19.89650000', 'status': 'FILLED', 'timeInForce': 'GTC', 'type': 'MARKET', 'side': 'BUY', 'fills': [{'price': '0.30610000', 'qty': '65.00000000', 'commission': '0.06500000', 'commissionAsset': 'REQ', 'tradeId': 10129535}]}\n",
            "26.0\n",
            "{'symbol': 'ZRXUSDT', 'orderId': 492161987, 'orderListId': -1, 'clientOrderId': 'qPM7ss91RAoq3yI5YRMS0Z', 'transactTime': 1641563233945, 'price': '0.00000000', 'origQty': '26.00000000', 'executedQty': '26.00000000', 'cummulativeQuoteQty': '19.07620000', 'status': 'FILLED', 'timeInForce': 'GTC', 'type': 'MARKET', 'side': 'BUY', 'fills': [{'price': '0.73370000', 'qty': '26.00000000', 'commission': '0.02600000', 'commissionAsset': 'ZRX', 'tradeId': 24040233}]}\n",
            "5.0\n",
            "{'symbol': 'XTZUSDT', 'orderId': 1066933135, 'orderListId': -1, 'clientOrderId': 'jhplzyVCiT7y7bOrtMGivv', 'transactTime': 1641563234430, 'price': '0.00000000', 'origQty': '5.00000000', 'executedQty': '5.00000000', 'cummulativeQuoteQty': '20.79000000', 'status': 'FILLED', 'timeInForce': 'GTC', 'type': 'MARKET', 'side': 'BUY', 'fills': [{'price': '4.15800000', 'qty': '5.00000000', 'commission': '0.00500000', 'commissionAsset': 'XTZ', 'tradeId': 74531246}]}\n",
            "8.0\n",
            "{'symbol': 'LITUSDT', 'orderId': 273288695, 'orderListId': -1, 'clientOrderId': 'mwfwcLiMuQVnyqn3Cszh0g', 'transactTime': 1641563234914, 'price': '0.00000000', 'origQty': '8.00000000', 'executedQty': '8.00000000', 'cummulativeQuoteQty': '20.53600000', 'status': 'FILLED', 'timeInForce': 'GTC', 'type': 'MARKET', 'side': 'BUY', 'fills': [{'price': '2.56700000', 'qty': '8.00000000', 'commission': '0.00800000', 'commissionAsset': 'LIT', 'tradeId': 36316197}]}\n"
          ]
        }
      ]
    },
    {
      "cell_type": "markdown",
      "source": [
        "CONCLUSION : Nous avons réussi à nous appuyer sur un indicateur de tokens étant bullish sur twitter et à confirmer ou infirmer ces tendances de marché en lui apposant un index de confiance (nb d'apparition, positivité ou negativité). Nous avons ensuite pu utiliser l'api de coingecko pour récupérer des données utiles sur les tokens en question. Nous avons ensuite utilisé l'api de binance pour market sell et/ou market buy les tokens sélectionnés en fonction de notre propre indicateur technique. \n",
        "\n",
        "\n",
        "Mais cet algo est-il rentable ? Va t-il vous rendre millionaire ? C'est maintenant à vous de le tester ser.... \n",
        "Je vais personnellement l'améliorer (voir perspectives d'évolution ci-dessous) et le laisser tourner voir si cet algorithme fait maison peut rivaliser avec des traders experimentés !"
      ],
      "metadata": {
        "id": "tFrcjT5hY0Iv"
      }
    },
    {
      "cell_type": "markdown",
      "source": [
        "Perspectives d'évolution :\n",
        "\n",
        "*   Côté technique : Il me faut implémenter un Index historique, cad créer un index qui recense les performances passées de chaque token cité sur le bot twitter et assigne un index en fonction de son côté 'gainer' ou non.\n",
        "*   Côté tendance : Il me faut ajuster le coeff attribué à chacun des indexs pour optimiser historiquement le rendement en fonction des paramètres de tendance. Je voudrais aussi implémenter un autre index qui se fie a la capitalisation en question du token et qui donc attribue un index plus haut à une petite capitalisation (car plus gros potentiel de faire des grosses bougies).\n",
        "\n",
        "*   Côté implémentation : La version qui vous est présentée est une version fonctionnelle. Cependant elle n'est pas optimale car il faut relancer l'algo toutes les 15 minutes. Pour que l'algo soit réellement un bot sans aide exterieure, il faut que je réagence mon code et que je lie chacun des blocs que je peux appeler en une seule commande. Et j'appellerai ensuite cette commande toutes les 15 minutes (ou dès qu'un nouveau tweet du \n",
        "\n",
        "Merci de nous avoir lu. \n",
        "Travail réalisé par Ines Guitton et Axel Battut. \n",
        "\n",
        "\n",
        "\n",
        "\n",
        "\n",
        "\n",
        "\n"
      ],
      "metadata": {
        "id": "R4eliQ44Omw5"
      }
    }
  ]
}