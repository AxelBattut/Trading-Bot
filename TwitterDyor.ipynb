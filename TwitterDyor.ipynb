{
  "nbformat": 4,
  "nbformat_minor": 0,
  "metadata": {
    "colab": {
      "name": "TwitterDyor.ipynb",
      "provenance": [],
      "collapsed_sections": [],
      "include_colab_link": true
    },
    "kernelspec": {
      "name": "python3",
      "display_name": "Python 3"
    },
    "language_info": {
      "name": "python"
    }
  },
  "cells": [
    {
      "cell_type": "markdown",
      "metadata": {
        "id": "view-in-github",
        "colab_type": "text"
      },
      "source": [
        "<a href=\"https://colab.research.google.com/github/AxelBattut/Trading-Bot/blob/main/TwitterDyor.ipynb\" target=\"_parent\"><img src=\"https://colab.research.google.com/assets/colab-badge.svg\" alt=\"Open In Colab\"/></a>"
      ]
    },
    {
      "cell_type": "markdown",
      "source": [
        "Notre objectif initial est de développer un bot de trading en y implémentant une analyse technique (fournie par un bot sur twitter ainsi que notre propre calcul, à voir plus tard) et une analyse de tendance (de la même manière fournie par un bot sur twitter et ajustée avec nos paramètres).\n",
        "\n",
        "\n",
        "Nous commencons donc par installer les librairies dont nous avons besoin, cad les libraires twitter, binance, requests (pour utiliser des get sur coingecko) textblob pour des utilisations de graphiques."
      ],
      "metadata": {
        "id": "3xIjYNqu3VXM"
      }
    },
    {
      "cell_type": "code",
      "source": [
        "!pip install twitter\n",
        "!pip install requests\n",
        "!pip install python-binance\n",
        "!pip install tweepy\n",
        "!pip install textblob\n",
        "!pip install pycoingecko\n"
      ],
      "metadata": {
        "colab": {
          "base_uri": "https://localhost:8080/"
        },
        "id": "47di9JwLWnl6",
        "outputId": "909de470-c0ac-41eb-a741-c97ff768b7ad"
      },
      "execution_count": null,
      "outputs": [
        {
          "output_type": "stream",
          "name": "stdout",
          "text": [
            "Requirement already satisfied: twitter in /usr/local/lib/python3.7/dist-packages (1.19.3)\n",
            "Requirement already satisfied: requests in /usr/local/lib/python3.7/dist-packages (2.23.0)\n",
            "Requirement already satisfied: idna<3,>=2.5 in /usr/local/lib/python3.7/dist-packages (from requests) (2.10)\n",
            "Requirement already satisfied: certifi>=2017.4.17 in /usr/local/lib/python3.7/dist-packages (from requests) (2021.10.8)\n",
            "Requirement already satisfied: urllib3!=1.25.0,!=1.25.1,<1.26,>=1.21.1 in /usr/local/lib/python3.7/dist-packages (from requests) (1.24.3)\n",
            "Requirement already satisfied: chardet<4,>=3.0.2 in /usr/local/lib/python3.7/dist-packages (from requests) (3.0.4)\n",
            "Requirement already satisfied: python-binance in /usr/local/lib/python3.7/dist-packages (1.0.15)\n",
            "Requirement already satisfied: websockets==9.1 in /usr/local/lib/python3.7/dist-packages (from python-binance) (9.1)\n",
            "Requirement already satisfied: ujson in /usr/local/lib/python3.7/dist-packages (from python-binance) (5.1.0)\n",
            "Requirement already satisfied: dateparser in /usr/local/lib/python3.7/dist-packages (from python-binance) (1.1.0)\n",
            "Requirement already satisfied: requests in /usr/local/lib/python3.7/dist-packages (from python-binance) (2.23.0)\n",
            "Requirement already satisfied: aiohttp in /usr/local/lib/python3.7/dist-packages (from python-binance) (3.8.1)\n",
            "Requirement already satisfied: six in /usr/local/lib/python3.7/dist-packages (from python-binance) (1.15.0)\n",
            "Requirement already satisfied: multidict<7.0,>=4.5 in /usr/local/lib/python3.7/dist-packages (from aiohttp->python-binance) (5.2.0)\n",
            "Requirement already satisfied: asynctest==0.13.0 in /usr/local/lib/python3.7/dist-packages (from aiohttp->python-binance) (0.13.0)\n",
            "Requirement already satisfied: typing-extensions>=3.7.4 in /usr/local/lib/python3.7/dist-packages (from aiohttp->python-binance) (3.10.0.2)\n",
            "Requirement already satisfied: attrs>=17.3.0 in /usr/local/lib/python3.7/dist-packages (from aiohttp->python-binance) (21.2.0)\n",
            "Requirement already satisfied: aiosignal>=1.1.2 in /usr/local/lib/python3.7/dist-packages (from aiohttp->python-binance) (1.2.0)\n",
            "Requirement already satisfied: frozenlist>=1.1.1 in /usr/local/lib/python3.7/dist-packages (from aiohttp->python-binance) (1.2.0)\n",
            "Requirement already satisfied: async-timeout<5.0,>=4.0.0a3 in /usr/local/lib/python3.7/dist-packages (from aiohttp->python-binance) (4.0.2)\n",
            "Requirement already satisfied: yarl<2.0,>=1.0 in /usr/local/lib/python3.7/dist-packages (from aiohttp->python-binance) (1.7.2)\n",
            "Requirement already satisfied: charset-normalizer<3.0,>=2.0 in /usr/local/lib/python3.7/dist-packages (from aiohttp->python-binance) (2.0.9)\n",
            "Requirement already satisfied: idna>=2.0 in /usr/local/lib/python3.7/dist-packages (from yarl<2.0,>=1.0->aiohttp->python-binance) (2.10)\n",
            "Requirement already satisfied: tzlocal in /usr/local/lib/python3.7/dist-packages (from dateparser->python-binance) (1.5.1)\n",
            "Requirement already satisfied: regex!=2019.02.19,!=2021.8.27 in /usr/local/lib/python3.7/dist-packages (from dateparser->python-binance) (2019.12.20)\n",
            "Requirement already satisfied: pytz in /usr/local/lib/python3.7/dist-packages (from dateparser->python-binance) (2018.9)\n",
            "Requirement already satisfied: python-dateutil in /usr/local/lib/python3.7/dist-packages (from dateparser->python-binance) (2.8.2)\n",
            "Requirement already satisfied: chardet<4,>=3.0.2 in /usr/local/lib/python3.7/dist-packages (from requests->python-binance) (3.0.4)\n",
            "Requirement already satisfied: certifi>=2017.4.17 in /usr/local/lib/python3.7/dist-packages (from requests->python-binance) (2021.10.8)\n",
            "Requirement already satisfied: urllib3!=1.25.0,!=1.25.1,<1.26,>=1.21.1 in /usr/local/lib/python3.7/dist-packages (from requests->python-binance) (1.24.3)\n",
            "Requirement already satisfied: tweepy in /usr/local/lib/python3.7/dist-packages (3.10.0)\n",
            "Requirement already satisfied: requests-oauthlib>=0.7.0 in /usr/local/lib/python3.7/dist-packages (from tweepy) (1.3.0)\n",
            "Requirement already satisfied: requests[socks]>=2.11.1 in /usr/local/lib/python3.7/dist-packages (from tweepy) (2.23.0)\n",
            "Requirement already satisfied: six>=1.10.0 in /usr/local/lib/python3.7/dist-packages (from tweepy) (1.15.0)\n",
            "Requirement already satisfied: oauthlib>=3.0.0 in /usr/local/lib/python3.7/dist-packages (from requests-oauthlib>=0.7.0->tweepy) (3.1.1)\n",
            "Requirement already satisfied: idna<3,>=2.5 in /usr/local/lib/python3.7/dist-packages (from requests[socks]>=2.11.1->tweepy) (2.10)\n",
            "Requirement already satisfied: urllib3!=1.25.0,!=1.25.1,<1.26,>=1.21.1 in /usr/local/lib/python3.7/dist-packages (from requests[socks]>=2.11.1->tweepy) (1.24.3)\n",
            "Requirement already satisfied: certifi>=2017.4.17 in /usr/local/lib/python3.7/dist-packages (from requests[socks]>=2.11.1->tweepy) (2021.10.8)\n",
            "Requirement already satisfied: chardet<4,>=3.0.2 in /usr/local/lib/python3.7/dist-packages (from requests[socks]>=2.11.1->tweepy) (3.0.4)\n",
            "Requirement already satisfied: PySocks!=1.5.7,>=1.5.6 in /usr/local/lib/python3.7/dist-packages (from requests[socks]>=2.11.1->tweepy) (1.7.1)\n",
            "Requirement already satisfied: textblob in /usr/local/lib/python3.7/dist-packages (0.15.3)\n",
            "Requirement already satisfied: nltk>=3.1 in /usr/local/lib/python3.7/dist-packages (from textblob) (3.2.5)\n",
            "Requirement already satisfied: six in /usr/local/lib/python3.7/dist-packages (from nltk>=3.1->textblob) (1.15.0)\n",
            "Requirement already satisfied: pycoingecko in /usr/local/lib/python3.7/dist-packages (2.2.0)\n",
            "Requirement already satisfied: requests in /usr/local/lib/python3.7/dist-packages (from pycoingecko) (2.23.0)\n",
            "Requirement already satisfied: urllib3!=1.25.0,!=1.25.1,<1.26,>=1.21.1 in /usr/local/lib/python3.7/dist-packages (from requests->pycoingecko) (1.24.3)\n",
            "Requirement already satisfied: idna<3,>=2.5 in /usr/local/lib/python3.7/dist-packages (from requests->pycoingecko) (2.10)\n",
            "Requirement already satisfied: certifi>=2017.4.17 in /usr/local/lib/python3.7/dist-packages (from requests->pycoingecko) (2021.10.8)\n",
            "Requirement already satisfied: chardet<4,>=3.0.2 in /usr/local/lib/python3.7/dist-packages (from requests->pycoingecko) (3.0.4)\n"
          ]
        }
      ]
    },
    {
      "cell_type": "markdown",
      "source": [
        "Notre objectif initial est de récupérer les informations données par @DYORCryptoBot. Ce bot sur twitter est un bot non-open source qui s'appuie (selon sa doc) sur ses propres indicateurs techniques et de tendance pour proposer 5 tokens bullish et 5 tokens en tendance renversement bullish (etaient bearish, ont un potentiel bullish) toutes les 15 minutes. Un token se dit bullish s'il voit son cours être apprécié (positif). Un token se dit bearish s'il voit son cours être déprécié (négatif). Nous partons de l'hypothèse que ces résultats sont cohérents et nous verrons plus tard comment nous allons confirmer ou infirmer ces tendances. Nous avons délibérement fait le choix de ne pas faire notre propre analyse de tous les tokens listés sur une plateforme étant donné que l'api de twitter accepte un nombre de requêtes limitées tout comme binance. On a donc dans ce cas un problème : \n",
        "1. de nombre de requêtes trop multiples\n",
        "2. de traitement d'un trop grand nombre de données donc d'une attente trop longue pour obtenir des résultats et \"timer\" notre trading sur les coins en question.\n",
        "\n",
        "En résumé, nous allons acheter des tokens qui nous sont indiqués comme bullish par notre bot, nous allons les revendre en espèrant avoir fait un profit, et nous allons répéter cette manoeuvre indéfiniment (toutes les 15 minutes en question).\n",
        "\n",
        "Juste avant de rentrer dans le dur du sujet, faisons un exemple de ce qui peut être fait avec l'API de Twitter. On déclare d'abord notre API."
      ],
      "metadata": {
        "id": "T7LI4XFo7VPy"
      }
    },
    {
      "cell_type": "code",
      "source": [
        "import tweepy \n",
        "import pandas as pd\n",
        "\n",
        "\n",
        "consumer_key = \"xxx\"\n",
        "consumer_secret = \"xxx\"\n",
        "access_token = \"xxx\"\n",
        "access_token_secret = \"xxx\"\n",
        "\n",
        "auth = tweepy.OAuthHandler(consumer_key, consumer_secret)\n",
        "auth.set_access_token(access_token,access_token_secret)\n",
        "api = tweepy.API(auth)"
      ],
      "metadata": {
        "id": "WP4JZHHzZLNT"
      },
      "execution_count": null,
      "outputs": []
    },
    {
      "cell_type": "markdown",
      "source": [
        "Si vous voulez pouvoir run vous même ces lignes, vous avez besoin d'avoir créer une API Twitter, pour ce faire vous pouvez vous rendre sur https://developer.twitter.com/apps et cliquer sur le bouton \"Create an app\". Vous obtiendrez ensuite vos keys que vous pouvez renseigner juste en haut."
      ],
      "metadata": {
        "id": "Gz_vzwfZZwpk"
      }
    },
    {
      "cell_type": "markdown",
      "source": [
        "On peut ensuite utiliser l'API de twitter pour toute sorte de requêtes, ici on voit que l'on peut retourner le texte du dernier tweet du compte @0xJokeIsHere"
      ],
      "metadata": {
        "id": "DSX__Nau9NmQ"
      }
    },
    {
      "cell_type": "code",
      "source": [
        "cursor = tweepy.Cursor(api.user_timeline, id='0xJokeIsHere', tweet_mode=\"extended\").items(1)\n",
        "for i in cursor:\n",
        "  #print(dir(i))\n",
        "  print(i.full_text)"
      ],
      "metadata": {
        "colab": {
          "base_uri": "https://localhost:8080/"
        },
        "id": "aIWEK8HQagGP",
        "outputId": "1fc27267-7767-4539-8918-831430c30dd7"
      },
      "execution_count": null,
      "outputs": [
        {
          "output_type": "stream",
          "name": "stdout",
          "text": [
            "@Apedignio Évitez @crypto_futur @CryptoMatrix2 vous êtes débutants, vous gagnerez du temps\n"
          ]
        }
      ]
    },
    {
      "cell_type": "markdown",
      "source": [
        "Fini la démonstration, on peut maintenant commencer à s'intéresser à notre cas d'étude. On importe ici toutes les librairies que l'on utilisera par la suite et on redéclare notre API."
      ],
      "metadata": {
        "id": "tUNGJpWYSvpw"
      }
    },
    {
      "cell_type": "code",
      "source": [
        "import tweepy \n",
        "import pandas as pd\n",
        "import csv\n",
        "from datetime import datetime\n",
        "from datetime import date, timedelta\n",
        "import numpy as np\n",
        "import requests\n",
        "import json\n",
        "from textblob import TextBlob\n",
        "\n",
        "\n",
        "#Renseignez vos keys ici\n",
        "consumer_key = \"xxx\"\n",
        "consumer_secret = \"xxx\"\n",
        "access_token = \"xxx\"\n",
        "access_token_secret = \"xxx\"\n",
        "\n",
        "auth = tweepy.OAuthHandler(consumer_key, consumer_secret)\n",
        "auth.set_access_token(access_token,access_token_secret)\n",
        "api = tweepy.API(auth)\n",
        "#api = tweepy.API(auth, wait_on_rate_limit=True)\n",
        "\n",
        "api = tweepy.API(auth, wait_on_rate_limit=True, wait_on_rate_limit_notify=True) #pour empecher que l'erreur 429 se produise, attention ce n'est pas optimal, le programme va simplement se lancer lorsque mon api aura des crédits donc autant limiter directement son nombre de requetes"
      ],
      "metadata": {
        "id": "p_eW07vGWf-O"
      },
      "execution_count": null,
      "outputs": []
    },
    {
      "cell_type": "markdown",
      "source": [
        "On récupère donc les 15 derniers tweets du bot twitter. Pourquoi ca ? Je vous rappelle que notre objectif est d'acheter les tokens proposés par le bot de twitter de les revendre au bout de 15 minutes et d'acheter la nouvelle liste proposée."
      ],
      "metadata": {
        "id": "kbckZQUK_HOd"
      }
    },
    {
      "cell_type": "code",
      "source": [
        "\n",
        "\n",
        "\n",
        "number_of_tweets = 15 \n",
        "#attention, ici on peut etre tenté d'en mettre un seul parce que l'on veut accèder\n",
        "# seulement à un seul tweet (binance usdt pair) mais cela ne veut pas dire que ce tweet est forcement celui souhaité\n",
        "#on en prend donc 15 pour se hedge\n",
        "tweets = []\n",
        "likes = []\n",
        "time=[]\n",
        "\n",
        "for i in tweepy.Cursor(api.user_timeline, id=\"DYORCryptoBot\", tweet_mode=\"extended\").items(number_of_tweets):\n",
        "  tweets.append(i.full_text)\n",
        "  likes.append(i.favorite_count)\n",
        "  time.append(i.created_at)\n",
        "  \n",
        "\n",
        "df = pd.DataFrame({'tweets':tweets, 'likes':likes, 'time':time})\n",
        "\n",
        "#Voila l'utilité d'avoir récupéré 15 tweets, ici nous supprimons tous les tweets qui concernent des tendances bullish sur des\n",
        "#plateformes différents de binance et sur une paire différente que USDT\n",
        "df = df[~df.tweets.str.contains(\"FTX\")]\n",
        "df = df[~df.tweets.str.contains(\"KuCoin\")]\n",
        "df = df[~df.tweets.str.contains(\"#BTC\")]\n",
        "df = df[~df.tweets.str.contains(\"#Bitcoin\")]\n",
        "df = df[~df.tweets.str.contains(\"4h\")]\n",
        "df = df.reset_index(drop=True)\n",
        "\n",
        "df\n",
        "\n",
        "\n",
        "\n",
        "\n"
      ],
      "metadata": {
        "id": "4PGKG7JOS524",
        "colab": {
          "base_uri": "https://localhost:8080/",
          "height": 112
        },
        "outputId": "5b84a694-6704-47f6-a0b1-9dd625d30409"
      },
      "execution_count": null,
      "outputs": [
        {
          "output_type": "execute_result",
          "data": {
            "text/html": [
              "\n",
              "  <div id=\"df-2c9af7fa-24ae-475c-a68d-f3ec2588498e\">\n",
              "    <div class=\"colab-df-container\">\n",
              "      <div>\n",
              "<style scoped>\n",
              "    .dataframe tbody tr th:only-of-type {\n",
              "        vertical-align: middle;\n",
              "    }\n",
              "\n",
              "    .dataframe tbody tr th {\n",
              "        vertical-align: top;\n",
              "    }\n",
              "\n",
              "    .dataframe thead th {\n",
              "        text-align: right;\n",
              "    }\n",
              "</style>\n",
              "<table border=\"1\" class=\"dataframe\">\n",
              "  <thead>\n",
              "    <tr style=\"text-align: right;\">\n",
              "      <th></th>\n",
              "      <th>tweets</th>\n",
              "      <th>likes</th>\n",
              "      <th>time</th>\n",
              "    </tr>\n",
              "  </thead>\n",
              "  <tbody>\n",
              "    <tr>\n",
              "      <th>0</th>\n",
              "      <td>[SCAN RESULTS - 15m - #USDT PAIR]\\n\\nExchange:...</td>\n",
              "      <td>0</td>\n",
              "      <td>2022-01-07 12:15:59</td>\n",
              "    </tr>\n",
              "    <tr>\n",
              "      <th>1</th>\n",
              "      <td>[SCAN RESULTS - 15m - #USDT PAIR]\\n\\nExchange:...</td>\n",
              "      <td>1</td>\n",
              "      <td>2022-01-07 11:45:59</td>\n",
              "    </tr>\n",
              "  </tbody>\n",
              "</table>\n",
              "</div>\n",
              "      <button class=\"colab-df-convert\" onclick=\"convertToInteractive('df-2c9af7fa-24ae-475c-a68d-f3ec2588498e')\"\n",
              "              title=\"Convert this dataframe to an interactive table.\"\n",
              "              style=\"display:none;\">\n",
              "        \n",
              "  <svg xmlns=\"http://www.w3.org/2000/svg\" height=\"24px\"viewBox=\"0 0 24 24\"\n",
              "       width=\"24px\">\n",
              "    <path d=\"M0 0h24v24H0V0z\" fill=\"none\"/>\n",
              "    <path d=\"M18.56 5.44l.94 2.06.94-2.06 2.06-.94-2.06-.94-.94-2.06-.94 2.06-2.06.94zm-11 1L8.5 8.5l.94-2.06 2.06-.94-2.06-.94L8.5 2.5l-.94 2.06-2.06.94zm10 10l.94 2.06.94-2.06 2.06-.94-2.06-.94-.94-2.06-.94 2.06-2.06.94z\"/><path d=\"M17.41 7.96l-1.37-1.37c-.4-.4-.92-.59-1.43-.59-.52 0-1.04.2-1.43.59L10.3 9.45l-7.72 7.72c-.78.78-.78 2.05 0 2.83L4 21.41c.39.39.9.59 1.41.59.51 0 1.02-.2 1.41-.59l7.78-7.78 2.81-2.81c.8-.78.8-2.07 0-2.86zM5.41 20L4 18.59l7.72-7.72 1.47 1.35L5.41 20z\"/>\n",
              "  </svg>\n",
              "      </button>\n",
              "      \n",
              "  <style>\n",
              "    .colab-df-container {\n",
              "      display:flex;\n",
              "      flex-wrap:wrap;\n",
              "      gap: 12px;\n",
              "    }\n",
              "\n",
              "    .colab-df-convert {\n",
              "      background-color: #E8F0FE;\n",
              "      border: none;\n",
              "      border-radius: 50%;\n",
              "      cursor: pointer;\n",
              "      display: none;\n",
              "      fill: #1967D2;\n",
              "      height: 32px;\n",
              "      padding: 0 0 0 0;\n",
              "      width: 32px;\n",
              "    }\n",
              "\n",
              "    .colab-df-convert:hover {\n",
              "      background-color: #E2EBFA;\n",
              "      box-shadow: 0px 1px 2px rgba(60, 64, 67, 0.3), 0px 1px 3px 1px rgba(60, 64, 67, 0.15);\n",
              "      fill: #174EA6;\n",
              "    }\n",
              "\n",
              "    [theme=dark] .colab-df-convert {\n",
              "      background-color: #3B4455;\n",
              "      fill: #D2E3FC;\n",
              "    }\n",
              "\n",
              "    [theme=dark] .colab-df-convert:hover {\n",
              "      background-color: #434B5C;\n",
              "      box-shadow: 0px 1px 3px 1px rgba(0, 0, 0, 0.15);\n",
              "      filter: drop-shadow(0px 1px 2px rgba(0, 0, 0, 0.3));\n",
              "      fill: #FFFFFF;\n",
              "    }\n",
              "  </style>\n",
              "\n",
              "      <script>\n",
              "        const buttonEl =\n",
              "          document.querySelector('#df-2c9af7fa-24ae-475c-a68d-f3ec2588498e button.colab-df-convert');\n",
              "        buttonEl.style.display =\n",
              "          google.colab.kernel.accessAllowed ? 'block' : 'none';\n",
              "\n",
              "        async function convertToInteractive(key) {\n",
              "          const element = document.querySelector('#df-2c9af7fa-24ae-475c-a68d-f3ec2588498e');\n",
              "          const dataTable =\n",
              "            await google.colab.kernel.invokeFunction('convertToInteractive',\n",
              "                                                     [key], {});\n",
              "          if (!dataTable) return;\n",
              "\n",
              "          const docLinkHtml = 'Like what you see? Visit the ' +\n",
              "            '<a target=\"_blank\" href=https://colab.research.google.com/notebooks/data_table.ipynb>data table notebook</a>'\n",
              "            + ' to learn more about interactive tables.';\n",
              "          element.innerHTML = '';\n",
              "          dataTable['output_type'] = 'display_data';\n",
              "          await google.colab.output.renderOutput(dataTable, element);\n",
              "          const docLink = document.createElement('div');\n",
              "          docLink.innerHTML = docLinkHtml;\n",
              "          element.appendChild(docLink);\n",
              "        }\n",
              "      </script>\n",
              "    </div>\n",
              "  </div>\n",
              "  "
            ],
            "text/plain": [
              "                                              tweets  likes                time\n",
              "0  [SCAN RESULTS - 15m - #USDT PAIR]\\n\\nExchange:...      0 2022-01-07 12:15:59\n",
              "1  [SCAN RESULTS - 15m - #USDT PAIR]\\n\\nExchange:...      1 2022-01-07 11:45:59"
            ]
          },
          "metadata": {},
          "execution_count": 9
        }
      ]
    },
    {
      "cell_type": "markdown",
      "source": [
        "On a donc récupéré 2 tweets correspondant à notre recherche. On ne se servira que du dernier. On en profite pour afficher le tweet le plus liké."
      ],
      "metadata": {
        "id": "79dbyreuBAP_"
      }
    },
    {
      "cell_type": "code",
      "source": [
        "mostlike =df.loc[df.likes.nlargest(5).index]\n",
        "mostlike"
      ],
      "metadata": {
        "colab": {
          "base_uri": "https://localhost:8080/",
          "height": 112
        },
        "id": "4rUhyioofhQC",
        "outputId": "b40984d8-e28f-40cf-9720-b4594d8ada29"
      },
      "execution_count": null,
      "outputs": [
        {
          "output_type": "execute_result",
          "data": {
            "text/html": [
              "\n",
              "  <div id=\"df-030e3bd5-0303-4a85-b3e9-38c60ecb5488\">\n",
              "    <div class=\"colab-df-container\">\n",
              "      <div>\n",
              "<style scoped>\n",
              "    .dataframe tbody tr th:only-of-type {\n",
              "        vertical-align: middle;\n",
              "    }\n",
              "\n",
              "    .dataframe tbody tr th {\n",
              "        vertical-align: top;\n",
              "    }\n",
              "\n",
              "    .dataframe thead th {\n",
              "        text-align: right;\n",
              "    }\n",
              "</style>\n",
              "<table border=\"1\" class=\"dataframe\">\n",
              "  <thead>\n",
              "    <tr style=\"text-align: right;\">\n",
              "      <th></th>\n",
              "      <th>tweets</th>\n",
              "      <th>likes</th>\n",
              "      <th>time</th>\n",
              "    </tr>\n",
              "  </thead>\n",
              "  <tbody>\n",
              "    <tr>\n",
              "      <th>1</th>\n",
              "      <td>[SCAN RESULTS - 15m - #USDT PAIR]\\n\\nExchange:...</td>\n",
              "      <td>1</td>\n",
              "      <td>2022-01-07 11:45:59</td>\n",
              "    </tr>\n",
              "    <tr>\n",
              "      <th>0</th>\n",
              "      <td>[SCAN RESULTS - 15m - #USDT PAIR]\\n\\nExchange:...</td>\n",
              "      <td>0</td>\n",
              "      <td>2022-01-07 12:15:59</td>\n",
              "    </tr>\n",
              "  </tbody>\n",
              "</table>\n",
              "</div>\n",
              "      <button class=\"colab-df-convert\" onclick=\"convertToInteractive('df-030e3bd5-0303-4a85-b3e9-38c60ecb5488')\"\n",
              "              title=\"Convert this dataframe to an interactive table.\"\n",
              "              style=\"display:none;\">\n",
              "        \n",
              "  <svg xmlns=\"http://www.w3.org/2000/svg\" height=\"24px\"viewBox=\"0 0 24 24\"\n",
              "       width=\"24px\">\n",
              "    <path d=\"M0 0h24v24H0V0z\" fill=\"none\"/>\n",
              "    <path d=\"M18.56 5.44l.94 2.06.94-2.06 2.06-.94-2.06-.94-.94-2.06-.94 2.06-2.06.94zm-11 1L8.5 8.5l.94-2.06 2.06-.94-2.06-.94L8.5 2.5l-.94 2.06-2.06.94zm10 10l.94 2.06.94-2.06 2.06-.94-2.06-.94-.94-2.06-.94 2.06-2.06.94z\"/><path d=\"M17.41 7.96l-1.37-1.37c-.4-.4-.92-.59-1.43-.59-.52 0-1.04.2-1.43.59L10.3 9.45l-7.72 7.72c-.78.78-.78 2.05 0 2.83L4 21.41c.39.39.9.59 1.41.59.51 0 1.02-.2 1.41-.59l7.78-7.78 2.81-2.81c.8-.78.8-2.07 0-2.86zM5.41 20L4 18.59l7.72-7.72 1.47 1.35L5.41 20z\"/>\n",
              "  </svg>\n",
              "      </button>\n",
              "      \n",
              "  <style>\n",
              "    .colab-df-container {\n",
              "      display:flex;\n",
              "      flex-wrap:wrap;\n",
              "      gap: 12px;\n",
              "    }\n",
              "\n",
              "    .colab-df-convert {\n",
              "      background-color: #E8F0FE;\n",
              "      border: none;\n",
              "      border-radius: 50%;\n",
              "      cursor: pointer;\n",
              "      display: none;\n",
              "      fill: #1967D2;\n",
              "      height: 32px;\n",
              "      padding: 0 0 0 0;\n",
              "      width: 32px;\n",
              "    }\n",
              "\n",
              "    .colab-df-convert:hover {\n",
              "      background-color: #E2EBFA;\n",
              "      box-shadow: 0px 1px 2px rgba(60, 64, 67, 0.3), 0px 1px 3px 1px rgba(60, 64, 67, 0.15);\n",
              "      fill: #174EA6;\n",
              "    }\n",
              "\n",
              "    [theme=dark] .colab-df-convert {\n",
              "      background-color: #3B4455;\n",
              "      fill: #D2E3FC;\n",
              "    }\n",
              "\n",
              "    [theme=dark] .colab-df-convert:hover {\n",
              "      background-color: #434B5C;\n",
              "      box-shadow: 0px 1px 3px 1px rgba(0, 0, 0, 0.15);\n",
              "      filter: drop-shadow(0px 1px 2px rgba(0, 0, 0, 0.3));\n",
              "      fill: #FFFFFF;\n",
              "    }\n",
              "  </style>\n",
              "\n",
              "      <script>\n",
              "        const buttonEl =\n",
              "          document.querySelector('#df-030e3bd5-0303-4a85-b3e9-38c60ecb5488 button.colab-df-convert');\n",
              "        buttonEl.style.display =\n",
              "          google.colab.kernel.accessAllowed ? 'block' : 'none';\n",
              "\n",
              "        async function convertToInteractive(key) {\n",
              "          const element = document.querySelector('#df-030e3bd5-0303-4a85-b3e9-38c60ecb5488');\n",
              "          const dataTable =\n",
              "            await google.colab.kernel.invokeFunction('convertToInteractive',\n",
              "                                                     [key], {});\n",
              "          if (!dataTable) return;\n",
              "\n",
              "          const docLinkHtml = 'Like what you see? Visit the ' +\n",
              "            '<a target=\"_blank\" href=https://colab.research.google.com/notebooks/data_table.ipynb>data table notebook</a>'\n",
              "            + ' to learn more about interactive tables.';\n",
              "          element.innerHTML = '';\n",
              "          dataTable['output_type'] = 'display_data';\n",
              "          await google.colab.output.renderOutput(dataTable, element);\n",
              "          const docLink = document.createElement('div');\n",
              "          docLink.innerHTML = docLinkHtml;\n",
              "          element.appendChild(docLink);\n",
              "        }\n",
              "      </script>\n",
              "    </div>\n",
              "  </div>\n",
              "  "
            ],
            "text/plain": [
              "                                              tweets  likes                time\n",
              "1  [SCAN RESULTS - 15m - #USDT PAIR]\\n\\nExchange:...      1 2022-01-07 11:45:59\n",
              "0  [SCAN RESULTS - 15m - #USDT PAIR]\\n\\nExchange:...      0 2022-01-07 12:15:59"
            ]
          },
          "metadata": {},
          "execution_count": 10
        }
      ]
    },
    {
      "cell_type": "markdown",
      "source": [
        "On récupère maintenant les assets mentionnés dans la liste results"
      ],
      "metadata": {
        "id": "lzKV8kWiBOrJ"
      }
    },
    {
      "cell_type": "code",
      "source": [
        "import re \n",
        "line_of_sentences = [sentence for sentence in df.tweets]\n",
        "\n",
        "lines = []\n",
        "for sentence in line_of_sentences:\n",
        "  words =sentence.split()\n",
        "  for w in words:\n",
        "    lines.append(w)\n",
        "#j'ai split mes elements de df en une liste de words \n",
        "#print(lines[1:])\n",
        "results = []\n",
        "for element in lines:\n",
        "    for x in element:\n",
        "        if x == '$':\n",
        "            x =  element.index('$')\n",
        "            results.append(element[x+1:])\n",
        "results\n",
        "#results est bel et bien la liste de mot que pourrai utiliser par la suite (pour index pas tant que ca mais surtout pour mon csv a renseigner pour binance)"
      ],
      "metadata": {
        "colab": {
          "base_uri": "https://localhost:8080/"
        },
        "id": "GNPcvqkef55c",
        "outputId": "ea8b1bb3-6914-4bfa-ed83-53832b2807cd"
      },
      "execution_count": null,
      "outputs": [
        {
          "output_type": "execute_result",
          "data": {
            "text/plain": [
              "['FXS',\n",
              " 'C98',\n",
              " 'IRIS',\n",
              " 'ATOM',\n",
              " 'ONE',\n",
              " 'REQ',\n",
              " 'ZRX',\n",
              " 'XTZ',\n",
              " 'LIT',\n",
              " 'DYDX',\n",
              " 'UTK',\n",
              " 'ATOM',\n",
              " 'FXS',\n",
              " 'ONE',\n",
              " 'IRIS',\n",
              " 'PAXG',\n",
              " 'IRIS',\n",
              " 'NMR',\n",
              " 'KP3R',\n",
              " 'PORTO']"
            ]
          },
          "metadata": {},
          "execution_count": 11
        }
      ]
    },
    {
      "cell_type": "markdown",
      "source": [
        "On a maintenant une liste de tous les tokens mentionnés. On utilisera uniquement les 10 derniers car ce sont les 10 mentionnés dans le dernier tweet."
      ],
      "metadata": {
        "id": "cqdbCrtOBVMW"
      }
    },
    {
      "cell_type": "markdown",
      "source": [
        "Un peu de ML maintenant, on cherche maintenant à partir de nos tokens à savoir lequel est le plus mentionné sur twitter dans les derniers moments. On associera alors un index de tendance sur chacun des tokens en fonction de leur nombre d'apparitions respectives.\n",
        "En résultat on affiche respectivement le nombre d'apparition respective, le token en question, le pourcentage d'apparition global."
      ],
      "metadata": {
        "id": "yL_KDZxIiMTI"
      }
    },
    {
      "cell_type": "code",
      "source": [
        "\n",
        "nombre_apparition_token = []\n",
        "tokens = []\n",
        "entropytoken = []\n",
        "for w in range(10):\n",
        "\n",
        "  number_of_tweets = 40 \n",
        "  tweets = []\n",
        "  likes = []\n",
        "  time=[]\n",
        "\n",
        "  for i in tweepy.Cursor(api.search, q=results[w], tweet_mode=\"extended\").items(number_of_tweets):\n",
        "    tweets.append(i.full_text)\n",
        "    likes.append(i.favorite_count)\n",
        "    time.append(i.created_at)\n",
        "\n",
        "\n",
        "\n",
        "  df = pd.DataFrame({'tweets':tweets, 'likes':likes, 'time':time})\n",
        "\n",
        "  now = datetime.now()\n",
        "\n",
        "  #yesterday = now - datetime.timedelta(days=1)\n",
        "\n",
        "  dt_string = (now- timedelta(0.002)).strftime(\"%Y-%m-%d %H:%M:%S\") #0.04 = 1h\n",
        "  #print(\"date and time =\", dt_string)\n",
        "  df = df[~(df['time'] < dt_string)]\n",
        "\n",
        "  df = df[~df.tweets.str.contains(\"RT\")]\n",
        "  df = df.reset_index(drop=True)\n",
        "\n",
        "  #df\n",
        "\n",
        "  #total_rows = df.count\n",
        "  #print(total_rows)\n",
        "  #print(len(df.index))\n",
        "\n",
        "  nombre_apparition_token.append(len(df.index))\n",
        "  tokens.append(results[w])\n",
        "\n",
        "\n",
        "print(nombre_apparition_token)\n",
        "print(tokens)\n",
        "\n",
        "\n",
        "somme_apparition_tokens = 0\n",
        "for f in range(9):\n",
        "  somme_apparition_tokens = somme_apparition_tokens + nombre_apparition_token[f]\n",
        "\n",
        "print(\"Les 10 assets ont été mentionnés un total de \", somme_apparition_tokens)\n",
        "\n",
        "for h in range(10):\n",
        "  nb_non_weighted = nombre_apparition_token[h] / somme_apparition_tokens\n",
        "  entropytoken.append(nb_non_weighted)\n",
        "print(entropytoken)\n",
        "\n",
        "\n",
        "\n",
        "\n"
      ],
      "metadata": {
        "colab": {
          "base_uri": "https://localhost:8080/"
        },
        "id": "nv-ZhK43iLpa",
        "outputId": "23491d22-414a-4b58-bf37-d34ba5717184"
      },
      "execution_count": null,
      "outputs": [
        {
          "output_type": "stream",
          "name": "stdout",
          "text": [
            "[1, 0, 32, 15, 12, 33, 0, 11, 21, 1]\n",
            "['FXS', 'C98', 'IRIS', 'ATOM', 'ONE', 'REQ', 'ZRX', 'XTZ', 'LIT', 'DYDX']\n",
            "Les 10 assets ont été mentionnés un total de  125\n",
            "[0.008, 0.0, 0.256, 0.12, 0.096, 0.264, 0.0, 0.088, 0.168, 0.008]\n"
          ]
        }
      ]
    },
    {
      "cell_type": "markdown",
      "source": [
        "Ici notre majeur problème a été l'erreur 429, trop de requêtes pour l'api. Le contourner ? Faire un echantillon sur une période plus courte : 3 minutes et rechercher moins de tweets maximum : 100. Pb : peut etre moins représentatif de la tendance generale. Pour autant le plus important est d'avoir un bot fonctionnel 24/24 donc concession prise"
      ],
      "metadata": {
        "id": "sNMz7nwVjaJI"
      }
    },
    {
      "cell_type": "markdown",
      "source": [
        "On souhaite maintenant créer un index pour chaque token. On va tout simplement normaliser son pourcentage d'apparition pour que le coefficient multiplicateur soit compris entre 0,5 et 1.5 (choisi arbitrairement). Liste en question : entropytoken_around_one"
      ],
      "metadata": {
        "id": "f3Vyygj9C9VR"
      }
    },
    {
      "cell_type": "code",
      "source": [
        "entropytoken_around_one = []\n",
        "for u in range(len(entropytoken)):\n",
        "  entropytoken_around_one.append( (entropytoken[u] - np.min(entropytoken)) / (np.max(entropytoken) - np.min(entropytoken)) + 0.5) #on a centré nos valeurs entre 0.5 et 1.5\n",
        "\n",
        "print(entropytoken_around_one)\n",
        "for y in range(len(entropytoken_around_one)):\n",
        "  if(entropytoken_around_one[y] <1):\n",
        "    entropytoken_around_one[y] = entropytoken_around_one[y] + entropytoken_around_one[y] * 0.2\n",
        "  else:\n",
        "    entropytoken_around_one[y] = entropytoken_around_one[y] - entropytoken_around_one[y] * 0.2\n",
        "\n",
        "#on a davantage centré nos valeurs autour de 1\n",
        "print(entropytoken_around_one)\n",
        "\n",
        "#moyenne = np.mean(entropytoken)\n",
        "#def NormalizeData(data):\n",
        "#    return (data - np.min(data)) / (np.max(data) - np.min(data))"
      ],
      "metadata": {
        "colab": {
          "base_uri": "https://localhost:8080/"
        },
        "id": "G2UQ7FyEnrGW",
        "outputId": "de138d96-e93e-4917-f4c6-5d6db752658c"
      },
      "execution_count": null,
      "outputs": [
        {
          "output_type": "stream",
          "name": "stdout",
          "text": [
            "[0.5303030303030303, 0.5, 1.4696969696969697, 0.9545454545454546, 0.8636363636363636, 1.5, 0.5, 0.8333333333333333, 1.1363636363636362, 0.5303030303030303]\n",
            "[0.6363636363636364, 0.6, 1.1757575757575758, 1.1454545454545455, 1.0363636363636364, 1.2, 0.6, 0.9999999999999999, 0.909090909090909, 0.6363636363636364]\n"
          ]
        }
      ]
    },
    {
      "cell_type": "markdown",
      "source": [
        "On visualise nos données "
      ],
      "metadata": {
        "id": "a2bDa8lkDsVc"
      }
    },
    {
      "cell_type": "code",
      "source": [
        "import plotly.express as px\n",
        "import numpy\n",
        " \n",
        "fig = px.pie(values=nombre_apparition_token, names=tokens, color_discrete_sequence=px.colors.sequential.RdBu, title=\"Répartition du nombre de tweets citant un token dans les dernières 3 minutes\")\n",
        "fig.show()"
      ],
      "metadata": {
        "colab": {
          "base_uri": "https://localhost:8080/",
          "height": 542
        },
        "id": "FEvu82hMll-K",
        "outputId": "cf6267c2-673c-44e1-a2e0-7d257d6daf9e"
      },
      "execution_count": null,
      "outputs": [
        {
          "output_type": "display_data",
          "data": {
            "text/html": [
              "<html>\n",
              "<head><meta charset=\"utf-8\" /></head>\n",
              "<body>\n",
              "    <div>\n",
              "            <script src=\"https://cdnjs.cloudflare.com/ajax/libs/mathjax/2.7.5/MathJax.js?config=TeX-AMS-MML_SVG\"></script><script type=\"text/javascript\">if (window.MathJax) {MathJax.Hub.Config({SVG: {font: \"STIX-Web\"}});}</script>\n",
              "                <script type=\"text/javascript\">window.PlotlyConfig = {MathJaxConfig: 'local'};</script>\n",
              "        <script src=\"https://cdn.plot.ly/plotly-latest.min.js\"></script>    \n",
              "            <div id=\"f72c74e8-af34-43a4-ade6-0337f32c9b5b\" class=\"plotly-graph-div\" style=\"height:525px; width:100%;\"></div>\n",
              "            <script type=\"text/javascript\">\n",
              "                \n",
              "                    window.PLOTLYENV=window.PLOTLYENV || {};\n",
              "                    \n",
              "                if (document.getElementById(\"f72c74e8-af34-43a4-ade6-0337f32c9b5b\")) {\n",
              "                    Plotly.newPlot(\n",
              "                        'f72c74e8-af34-43a4-ade6-0337f32c9b5b',\n",
              "                        [{\"domain\": {\"x\": [0.0, 1.0], \"y\": [0.0, 1.0]}, \"hoverlabel\": {\"namelength\": 0}, \"hovertemplate\": \"label=%{label}<br>value=%{value}\", \"labels\": [\"FXS\", \"C98\", \"IRIS\", \"ATOM\", \"ONE\", \"REQ\", \"ZRX\", \"XTZ\", \"LIT\"], \"legendgroup\": \"\", \"name\": \"\", \"showlegend\": true, \"type\": \"pie\", \"values\": [1, 0, 28, 17, 16, 33, 3, 20, 23]}],\n",
              "                        {\"legend\": {\"tracegroupgap\": 0}, \"piecolorway\": [\"rgb(103,0,31)\", \"rgb(178,24,43)\", \"rgb(214,96,77)\", \"rgb(244,165,130)\", \"rgb(253,219,199)\", \"rgb(247,247,247)\", \"rgb(209,229,240)\", \"rgb(146,197,222)\", \"rgb(67,147,195)\", \"rgb(33,102,172)\", \"rgb(5,48,97)\"], \"template\": {\"data\": {\"bar\": [{\"error_x\": {\"color\": \"#2a3f5f\"}, \"error_y\": {\"color\": \"#2a3f5f\"}, \"marker\": {\"line\": {\"color\": \"#E5ECF6\", \"width\": 0.5}}, \"type\": \"bar\"}], \"barpolar\": [{\"marker\": {\"line\": {\"color\": \"#E5ECF6\", \"width\": 0.5}}, \"type\": \"barpolar\"}], \"carpet\": [{\"aaxis\": {\"endlinecolor\": \"#2a3f5f\", \"gridcolor\": \"white\", \"linecolor\": \"white\", \"minorgridcolor\": \"white\", \"startlinecolor\": \"#2a3f5f\"}, \"baxis\": {\"endlinecolor\": \"#2a3f5f\", \"gridcolor\": \"white\", \"linecolor\": \"white\", \"minorgridcolor\": \"white\", \"startlinecolor\": \"#2a3f5f\"}, \"type\": \"carpet\"}], \"choropleth\": [{\"colorbar\": {\"outlinewidth\": 0, \"ticks\": \"\"}, \"type\": \"choropleth\"}], \"contour\": [{\"colorbar\": {\"outlinewidth\": 0, \"ticks\": \"\"}, \"colorscale\": [[0.0, \"#0d0887\"], [0.1111111111111111, \"#46039f\"], [0.2222222222222222, \"#7201a8\"], [0.3333333333333333, \"#9c179e\"], [0.4444444444444444, \"#bd3786\"], [0.5555555555555556, \"#d8576b\"], [0.6666666666666666, \"#ed7953\"], [0.7777777777777778, \"#fb9f3a\"], [0.8888888888888888, \"#fdca26\"], [1.0, \"#f0f921\"]], \"type\": \"contour\"}], \"contourcarpet\": [{\"colorbar\": {\"outlinewidth\": 0, \"ticks\": \"\"}, \"type\": \"contourcarpet\"}], \"heatmap\": [{\"colorbar\": {\"outlinewidth\": 0, \"ticks\": \"\"}, \"colorscale\": [[0.0, \"#0d0887\"], [0.1111111111111111, \"#46039f\"], [0.2222222222222222, \"#7201a8\"], [0.3333333333333333, \"#9c179e\"], [0.4444444444444444, \"#bd3786\"], [0.5555555555555556, \"#d8576b\"], [0.6666666666666666, \"#ed7953\"], [0.7777777777777778, \"#fb9f3a\"], [0.8888888888888888, \"#fdca26\"], [1.0, \"#f0f921\"]], \"type\": \"heatmap\"}], \"heatmapgl\": [{\"colorbar\": {\"outlinewidth\": 0, \"ticks\": \"\"}, \"colorscale\": [[0.0, \"#0d0887\"], [0.1111111111111111, \"#46039f\"], [0.2222222222222222, \"#7201a8\"], [0.3333333333333333, \"#9c179e\"], [0.4444444444444444, \"#bd3786\"], [0.5555555555555556, \"#d8576b\"], [0.6666666666666666, \"#ed7953\"], [0.7777777777777778, \"#fb9f3a\"], [0.8888888888888888, \"#fdca26\"], [1.0, \"#f0f921\"]], \"type\": \"heatmapgl\"}], \"histogram\": [{\"marker\": {\"colorbar\": {\"outlinewidth\": 0, \"ticks\": \"\"}}, \"type\": \"histogram\"}], \"histogram2d\": [{\"colorbar\": {\"outlinewidth\": 0, \"ticks\": \"\"}, \"colorscale\": [[0.0, \"#0d0887\"], [0.1111111111111111, \"#46039f\"], [0.2222222222222222, \"#7201a8\"], [0.3333333333333333, \"#9c179e\"], [0.4444444444444444, \"#bd3786\"], [0.5555555555555556, \"#d8576b\"], [0.6666666666666666, \"#ed7953\"], [0.7777777777777778, \"#fb9f3a\"], [0.8888888888888888, \"#fdca26\"], [1.0, \"#f0f921\"]], \"type\": \"histogram2d\"}], \"histogram2dcontour\": [{\"colorbar\": {\"outlinewidth\": 0, \"ticks\": \"\"}, \"colorscale\": [[0.0, \"#0d0887\"], [0.1111111111111111, \"#46039f\"], [0.2222222222222222, \"#7201a8\"], [0.3333333333333333, \"#9c179e\"], [0.4444444444444444, \"#bd3786\"], [0.5555555555555556, \"#d8576b\"], [0.6666666666666666, \"#ed7953\"], [0.7777777777777778, \"#fb9f3a\"], [0.8888888888888888, \"#fdca26\"], [1.0, \"#f0f921\"]], \"type\": \"histogram2dcontour\"}], \"mesh3d\": [{\"colorbar\": {\"outlinewidth\": 0, \"ticks\": \"\"}, \"type\": \"mesh3d\"}], \"parcoords\": [{\"line\": {\"colorbar\": {\"outlinewidth\": 0, \"ticks\": \"\"}}, \"type\": \"parcoords\"}], \"pie\": [{\"automargin\": true, \"type\": \"pie\"}], \"scatter\": [{\"marker\": {\"colorbar\": {\"outlinewidth\": 0, \"ticks\": \"\"}}, \"type\": \"scatter\"}], \"scatter3d\": [{\"line\": {\"colorbar\": {\"outlinewidth\": 0, \"ticks\": \"\"}}, \"marker\": {\"colorbar\": {\"outlinewidth\": 0, \"ticks\": \"\"}}, \"type\": \"scatter3d\"}], \"scattercarpet\": [{\"marker\": {\"colorbar\": {\"outlinewidth\": 0, \"ticks\": \"\"}}, \"type\": \"scattercarpet\"}], \"scattergeo\": [{\"marker\": {\"colorbar\": {\"outlinewidth\": 0, \"ticks\": \"\"}}, \"type\": \"scattergeo\"}], \"scattergl\": [{\"marker\": {\"colorbar\": {\"outlinewidth\": 0, \"ticks\": \"\"}}, \"type\": \"scattergl\"}], \"scattermapbox\": [{\"marker\": {\"colorbar\": {\"outlinewidth\": 0, \"ticks\": \"\"}}, \"type\": \"scattermapbox\"}], \"scatterpolar\": [{\"marker\": {\"colorbar\": {\"outlinewidth\": 0, \"ticks\": \"\"}}, \"type\": \"scatterpolar\"}], \"scatterpolargl\": [{\"marker\": {\"colorbar\": {\"outlinewidth\": 0, \"ticks\": \"\"}}, \"type\": \"scatterpolargl\"}], \"scatterternary\": [{\"marker\": {\"colorbar\": {\"outlinewidth\": 0, \"ticks\": \"\"}}, \"type\": \"scatterternary\"}], \"surface\": [{\"colorbar\": {\"outlinewidth\": 0, \"ticks\": \"\"}, \"colorscale\": [[0.0, \"#0d0887\"], [0.1111111111111111, \"#46039f\"], [0.2222222222222222, \"#7201a8\"], [0.3333333333333333, \"#9c179e\"], [0.4444444444444444, \"#bd3786\"], [0.5555555555555556, \"#d8576b\"], [0.6666666666666666, \"#ed7953\"], [0.7777777777777778, \"#fb9f3a\"], [0.8888888888888888, \"#fdca26\"], [1.0, \"#f0f921\"]], \"type\": \"surface\"}], \"table\": [{\"cells\": {\"fill\": {\"color\": \"#EBF0F8\"}, \"line\": {\"color\": \"white\"}}, \"header\": {\"fill\": {\"color\": \"#C8D4E3\"}, \"line\": {\"color\": \"white\"}}, \"type\": \"table\"}]}, \"layout\": {\"annotationdefaults\": {\"arrowcolor\": \"#2a3f5f\", \"arrowhead\": 0, \"arrowwidth\": 1}, \"coloraxis\": {\"colorbar\": {\"outlinewidth\": 0, \"ticks\": \"\"}}, \"colorscale\": {\"diverging\": [[0, \"#8e0152\"], [0.1, \"#c51b7d\"], [0.2, \"#de77ae\"], [0.3, \"#f1b6da\"], [0.4, \"#fde0ef\"], [0.5, \"#f7f7f7\"], [0.6, \"#e6f5d0\"], [0.7, \"#b8e186\"], [0.8, \"#7fbc41\"], [0.9, \"#4d9221\"], [1, \"#276419\"]], \"sequential\": [[0.0, \"#0d0887\"], [0.1111111111111111, \"#46039f\"], [0.2222222222222222, \"#7201a8\"], [0.3333333333333333, \"#9c179e\"], [0.4444444444444444, \"#bd3786\"], [0.5555555555555556, \"#d8576b\"], [0.6666666666666666, \"#ed7953\"], [0.7777777777777778, \"#fb9f3a\"], [0.8888888888888888, \"#fdca26\"], [1.0, \"#f0f921\"]], \"sequentialminus\": [[0.0, \"#0d0887\"], [0.1111111111111111, \"#46039f\"], [0.2222222222222222, \"#7201a8\"], [0.3333333333333333, \"#9c179e\"], [0.4444444444444444, \"#bd3786\"], [0.5555555555555556, \"#d8576b\"], [0.6666666666666666, \"#ed7953\"], [0.7777777777777778, \"#fb9f3a\"], [0.8888888888888888, \"#fdca26\"], [1.0, \"#f0f921\"]]}, \"colorway\": [\"#636efa\", \"#EF553B\", \"#00cc96\", \"#ab63fa\", \"#FFA15A\", \"#19d3f3\", \"#FF6692\", \"#B6E880\", \"#FF97FF\", \"#FECB52\"], \"font\": {\"color\": \"#2a3f5f\"}, \"geo\": {\"bgcolor\": \"white\", \"lakecolor\": \"white\", \"landcolor\": \"#E5ECF6\", \"showlakes\": true, \"showland\": true, \"subunitcolor\": \"white\"}, \"hoverlabel\": {\"align\": \"left\"}, \"hovermode\": \"closest\", \"mapbox\": {\"style\": \"light\"}, \"paper_bgcolor\": \"white\", \"plot_bgcolor\": \"#E5ECF6\", \"polar\": {\"angularaxis\": {\"gridcolor\": \"white\", \"linecolor\": \"white\", \"ticks\": \"\"}, \"bgcolor\": \"#E5ECF6\", \"radialaxis\": {\"gridcolor\": \"white\", \"linecolor\": \"white\", \"ticks\": \"\"}}, \"scene\": {\"xaxis\": {\"backgroundcolor\": \"#E5ECF6\", \"gridcolor\": \"white\", \"gridwidth\": 2, \"linecolor\": \"white\", \"showbackground\": true, \"ticks\": \"\", \"zerolinecolor\": \"white\"}, \"yaxis\": {\"backgroundcolor\": \"#E5ECF6\", \"gridcolor\": \"white\", \"gridwidth\": 2, \"linecolor\": \"white\", \"showbackground\": true, \"ticks\": \"\", \"zerolinecolor\": \"white\"}, \"zaxis\": {\"backgroundcolor\": \"#E5ECF6\", \"gridcolor\": \"white\", \"gridwidth\": 2, \"linecolor\": \"white\", \"showbackground\": true, \"ticks\": \"\", \"zerolinecolor\": \"white\"}}, \"shapedefaults\": {\"line\": {\"color\": \"#2a3f5f\"}}, \"ternary\": {\"aaxis\": {\"gridcolor\": \"white\", \"linecolor\": \"white\", \"ticks\": \"\"}, \"baxis\": {\"gridcolor\": \"white\", \"linecolor\": \"white\", \"ticks\": \"\"}, \"bgcolor\": \"#E5ECF6\", \"caxis\": {\"gridcolor\": \"white\", \"linecolor\": \"white\", \"ticks\": \"\"}}, \"title\": {\"x\": 0.05}, \"xaxis\": {\"automargin\": true, \"gridcolor\": \"white\", \"linecolor\": \"white\", \"ticks\": \"\", \"title\": {\"standoff\": 15}, \"zerolinecolor\": \"white\", \"zerolinewidth\": 2}, \"yaxis\": {\"automargin\": true, \"gridcolor\": \"white\", \"linecolor\": \"white\", \"ticks\": \"\", \"title\": {\"standoff\": 15}, \"zerolinecolor\": \"white\", \"zerolinewidth\": 2}}}, \"title\": {\"text\": \"R\\u00e9partition du nombre de tweets citant un token dans les derni\\u00e8res 3 minutes\"}},\n",
              "                        {\"responsive\": true}\n",
              "                    ).then(function(){\n",
              "                            \n",
              "var gd = document.getElementById('f72c74e8-af34-43a4-ade6-0337f32c9b5b');\n",
              "var x = new MutationObserver(function (mutations, observer) {{\n",
              "        var display = window.getComputedStyle(gd).display;\n",
              "        if (!display || display === 'none') {{\n",
              "            console.log([gd, 'removed!']);\n",
              "            Plotly.purge(gd);\n",
              "            observer.disconnect();\n",
              "        }}\n",
              "}});\n",
              "\n",
              "// Listen for the removal of the full notebook cells\n",
              "var notebookContainer = gd.closest('#notebook-container');\n",
              "if (notebookContainer) {{\n",
              "    x.observe(notebookContainer, {childList: true});\n",
              "}}\n",
              "\n",
              "// Listen for the clearing of the current output cell\n",
              "var outputEl = gd.closest('.output');\n",
              "if (outputEl) {{\n",
              "    x.observe(outputEl, {childList: true});\n",
              "}}\n",
              "\n",
              "                        })\n",
              "                };\n",
              "                \n",
              "            </script>\n",
              "        </div>\n",
              "</body>\n",
              "</html>"
            ]
          },
          "metadata": {}
        }
      ]
    },
    {
      "cell_type": "markdown",
      "source": [
        "On en profite pour faire un cas d'étude du top 3 des plus mentionnées de ces cryptos depuis 300j en résumant l'appréciation du token dans un graphique. "
      ],
      "metadata": {
        "id": "8dYIYRLoQayM"
      }
    },
    {
      "cell_type": "code",
      "source": [
        "\n",
        "from pycoingecko import CoinGeckoAPI\n",
        "\n",
        "#On récupère notre les 3 tokens les plus cités\n",
        "\n",
        "dict_from_list = dict(zip(tokens, nombre_apparition_token)) #On crée un dictionnaire avec les tokens comme clés, et le nombra d'apparition du token pour valeur\n",
        "dict_tokens=sorted(dict_from_list.items(), key=lambda t: t[1], reverse=True) #On trie notre dictionnaire par ordre decroissant\n",
        "lst=dict_tokens[:3] \n",
        "keys = [*dict(lst)]\n",
        "keys\n",
        "\n",
        "list = []\n",
        "for i in keys:\n",
        "\n",
        "  list.append(i.lower())\n",
        "\n",
        "print(list) #On passe la liste en minuscule\n",
        "\n",
        "#Sur CoinGecko chaque token a un ID bien specifique l'acronyme en majuscule n'est donc pas reconnue, \n",
        "#on replace donc les tokens de notre liste par leur ID equivalent dans l'API CoinGecko\n",
        "gecko_list = []\n",
        "for l in list :\n",
        "    for token in retour:\n",
        "        if token[\"symbol\"] == l:\n",
        "            l = token['id']\n",
        "            gecko_list.append(l)\n",
        "\n",
        "print(gecko_list)\n",
        "\n",
        "#On affiche alors l'evolution du prix en dollar 3 tokens selectionnés sur les derniers 300 jours\n",
        "cg = CoinGeckoAPI()\n",
        "timePeriod = 300\n",
        "\n",
        "data = {}\n",
        "for coin in gecko_list:\n",
        "    try:\n",
        "        nested_lists = cg.get_coin_market_chart_by_id(\n",
        "            id=coin, vs_currency=\"usd\", days=timePeriod\n",
        "        )[\"prices\"]\n",
        "        data[coin] = {}\n",
        "        data[coin][\"timestamps\"], data[coin][\"values\"] = zip(*nested_lists)\n",
        "\n",
        "    except Exception as e:\n",
        "        print(e)\n",
        "        print(\"coin: \" + coin)\n",
        "\n",
        "historique = [\n",
        "    pd.DataFrame(data[coin][\"values\"], index=data[coin][\"timestamps\"], columns=[coin])\n",
        "    for coin in gecko_list\n",
        "    if coin in data\n",
        "]\n",
        "print(historique)\n",
        "\n",
        "df_cryptocurrency = pd.concat(historique, axis=1).sort_index()\n",
        "df_cryptocurrency.plot(title=\"Aperçu de l'évolution en dollar des 3 monnaies les plus tweetées depuis 300 jours \")\n",
        "\n",
        "df_cryptocurrency[\"datetime\"] = pd.to_datetime(df_cryptocurrency.index, unit=\"ms\")\n",
        "df_cryptocurrency[\"date\"] = df_cryptocurrency[\"datetime\"].dt.date\n",
        "df_cryptocurrency[\"hour\"] = df_cryptocurrency[\"datetime\"].dt.hour\n",
        "\n",
        "df_cryptocurrency = df_cryptocurrency.melt(\n",
        "    id_vars=[\"datetime\", \"date\", \"hour\"], var_name=\"currency_name\"\n",
        ")\n",
        "df_cryptocurrency.head(-5)"
      ],
      "metadata": {
        "colab": {
          "base_uri": "https://localhost:8080/",
          "height": 1000
        },
        "id": "i4keyqEFHWAw",
        "outputId": "7e476352-b1e1-4c96-ea15-aa7f3eae5efa"
      },
      "execution_count": null,
      "outputs": [
        {
          "output_type": "stream",
          "name": "stdout",
          "text": [
            "['req', 'iris', 'lit']\n",
            "['request-network', 'iris-network', 'litentry']\n",
            "[               request-network\n",
            "1615680000000         0.115487\n",
            "1615766400000         0.114584\n",
            "1615852800000         0.121422\n",
            "1615939200000         0.123575\n",
            "1616025600000         0.148154\n",
            "...                        ...\n",
            "1641254400000         0.370057\n",
            "1641340800000         0.359523\n",
            "1641427200000         0.326624\n",
            "1641513600000         0.319080\n",
            "1641579377000         0.303292\n",
            "\n",
            "[301 rows x 1 columns],                iris-network\n",
            "1615680000000      0.175500\n",
            "1615766400000      0.167065\n",
            "1615852800000      0.196324\n",
            "1615939200000      0.213839\n",
            "1616025600000      0.239662\n",
            "...                     ...\n",
            "1641254400000      0.091272\n",
            "1641340800000      0.095373\n",
            "1641427200000      0.086571\n",
            "1641513600000      0.085807\n",
            "1641579328000      0.136123\n",
            "\n",
            "[301 rows x 1 columns],                 litentry\n",
            "1615680000000   9.949856\n",
            "1615766400000  11.222526\n",
            "1615852800000  10.342591\n",
            "1615939200000  11.487363\n",
            "1616025600000  10.882027\n",
            "...                  ...\n",
            "1641254400000   3.101675\n",
            "1641340800000   3.093065\n",
            "1641427200000   2.889603\n",
            "1641513600000   2.795964\n",
            "1641579153000   2.636331\n",
            "\n",
            "[301 rows x 1 columns]]\n"
          ]
        },
        {
          "output_type": "execute_result",
          "data": {
            "text/html": [
              "\n",
              "  <div id=\"df-97dd252d-b769-4609-8bc4-3734b4b47922\">\n",
              "    <div class=\"colab-df-container\">\n",
              "      <div>\n",
              "<style scoped>\n",
              "    .dataframe tbody tr th:only-of-type {\n",
              "        vertical-align: middle;\n",
              "    }\n",
              "\n",
              "    .dataframe tbody tr th {\n",
              "        vertical-align: top;\n",
              "    }\n",
              "\n",
              "    .dataframe thead th {\n",
              "        text-align: right;\n",
              "    }\n",
              "</style>\n",
              "<table border=\"1\" class=\"dataframe\">\n",
              "  <thead>\n",
              "    <tr style=\"text-align: right;\">\n",
              "      <th></th>\n",
              "      <th>datetime</th>\n",
              "      <th>date</th>\n",
              "      <th>hour</th>\n",
              "      <th>currency_name</th>\n",
              "      <th>value</th>\n",
              "    </tr>\n",
              "  </thead>\n",
              "  <tbody>\n",
              "    <tr>\n",
              "      <th>0</th>\n",
              "      <td>2021-03-14</td>\n",
              "      <td>2021-03-14</td>\n",
              "      <td>0</td>\n",
              "      <td>request-network</td>\n",
              "      <td>0.115487</td>\n",
              "    </tr>\n",
              "    <tr>\n",
              "      <th>1</th>\n",
              "      <td>2021-03-15</td>\n",
              "      <td>2021-03-15</td>\n",
              "      <td>0</td>\n",
              "      <td>request-network</td>\n",
              "      <td>0.114584</td>\n",
              "    </tr>\n",
              "    <tr>\n",
              "      <th>2</th>\n",
              "      <td>2021-03-16</td>\n",
              "      <td>2021-03-16</td>\n",
              "      <td>0</td>\n",
              "      <td>request-network</td>\n",
              "      <td>0.121422</td>\n",
              "    </tr>\n",
              "    <tr>\n",
              "      <th>3</th>\n",
              "      <td>2021-03-17</td>\n",
              "      <td>2021-03-17</td>\n",
              "      <td>0</td>\n",
              "      <td>request-network</td>\n",
              "      <td>0.123575</td>\n",
              "    </tr>\n",
              "    <tr>\n",
              "      <th>4</th>\n",
              "      <td>2021-03-18</td>\n",
              "      <td>2021-03-18</td>\n",
              "      <td>0</td>\n",
              "      <td>request-network</td>\n",
              "      <td>0.148154</td>\n",
              "    </tr>\n",
              "    <tr>\n",
              "      <th>...</th>\n",
              "      <td>...</td>\n",
              "      <td>...</td>\n",
              "      <td>...</td>\n",
              "      <td>...</td>\n",
              "      <td>...</td>\n",
              "    </tr>\n",
              "    <tr>\n",
              "      <th>899</th>\n",
              "      <td>2022-01-01</td>\n",
              "      <td>2022-01-01</td>\n",
              "      <td>0</td>\n",
              "      <td>litentry</td>\n",
              "      <td>2.962963</td>\n",
              "    </tr>\n",
              "    <tr>\n",
              "      <th>900</th>\n",
              "      <td>2022-01-02</td>\n",
              "      <td>2022-01-02</td>\n",
              "      <td>0</td>\n",
              "      <td>litentry</td>\n",
              "      <td>3.116728</td>\n",
              "    </tr>\n",
              "    <tr>\n",
              "      <th>901</th>\n",
              "      <td>2022-01-03</td>\n",
              "      <td>2022-01-03</td>\n",
              "      <td>0</td>\n",
              "      <td>litentry</td>\n",
              "      <td>3.186888</td>\n",
              "    </tr>\n",
              "    <tr>\n",
              "      <th>902</th>\n",
              "      <td>2022-01-04</td>\n",
              "      <td>2022-01-04</td>\n",
              "      <td>0</td>\n",
              "      <td>litentry</td>\n",
              "      <td>3.101675</td>\n",
              "    </tr>\n",
              "    <tr>\n",
              "      <th>903</th>\n",
              "      <td>2022-01-05</td>\n",
              "      <td>2022-01-05</td>\n",
              "      <td>0</td>\n",
              "      <td>litentry</td>\n",
              "      <td>3.093065</td>\n",
              "    </tr>\n",
              "  </tbody>\n",
              "</table>\n",
              "<p>904 rows × 5 columns</p>\n",
              "</div>\n",
              "      <button class=\"colab-df-convert\" onclick=\"convertToInteractive('df-97dd252d-b769-4609-8bc4-3734b4b47922')\"\n",
              "              title=\"Convert this dataframe to an interactive table.\"\n",
              "              style=\"display:none;\">\n",
              "        \n",
              "  <svg xmlns=\"http://www.w3.org/2000/svg\" height=\"24px\"viewBox=\"0 0 24 24\"\n",
              "       width=\"24px\">\n",
              "    <path d=\"M0 0h24v24H0V0z\" fill=\"none\"/>\n",
              "    <path d=\"M18.56 5.44l.94 2.06.94-2.06 2.06-.94-2.06-.94-.94-2.06-.94 2.06-2.06.94zm-11 1L8.5 8.5l.94-2.06 2.06-.94-2.06-.94L8.5 2.5l-.94 2.06-2.06.94zm10 10l.94 2.06.94-2.06 2.06-.94-2.06-.94-.94-2.06-.94 2.06-2.06.94z\"/><path d=\"M17.41 7.96l-1.37-1.37c-.4-.4-.92-.59-1.43-.59-.52 0-1.04.2-1.43.59L10.3 9.45l-7.72 7.72c-.78.78-.78 2.05 0 2.83L4 21.41c.39.39.9.59 1.41.59.51 0 1.02-.2 1.41-.59l7.78-7.78 2.81-2.81c.8-.78.8-2.07 0-2.86zM5.41 20L4 18.59l7.72-7.72 1.47 1.35L5.41 20z\"/>\n",
              "  </svg>\n",
              "      </button>\n",
              "      \n",
              "  <style>\n",
              "    .colab-df-container {\n",
              "      display:flex;\n",
              "      flex-wrap:wrap;\n",
              "      gap: 12px;\n",
              "    }\n",
              "\n",
              "    .colab-df-convert {\n",
              "      background-color: #E8F0FE;\n",
              "      border: none;\n",
              "      border-radius: 50%;\n",
              "      cursor: pointer;\n",
              "      display: none;\n",
              "      fill: #1967D2;\n",
              "      height: 32px;\n",
              "      padding: 0 0 0 0;\n",
              "      width: 32px;\n",
              "    }\n",
              "\n",
              "    .colab-df-convert:hover {\n",
              "      background-color: #E2EBFA;\n",
              "      box-shadow: 0px 1px 2px rgba(60, 64, 67, 0.3), 0px 1px 3px 1px rgba(60, 64, 67, 0.15);\n",
              "      fill: #174EA6;\n",
              "    }\n",
              "\n",
              "    [theme=dark] .colab-df-convert {\n",
              "      background-color: #3B4455;\n",
              "      fill: #D2E3FC;\n",
              "    }\n",
              "\n",
              "    [theme=dark] .colab-df-convert:hover {\n",
              "      background-color: #434B5C;\n",
              "      box-shadow: 0px 1px 3px 1px rgba(0, 0, 0, 0.15);\n",
              "      filter: drop-shadow(0px 1px 2px rgba(0, 0, 0, 0.3));\n",
              "      fill: #FFFFFF;\n",
              "    }\n",
              "  </style>\n",
              "\n",
              "      <script>\n",
              "        const buttonEl =\n",
              "          document.querySelector('#df-97dd252d-b769-4609-8bc4-3734b4b47922 button.colab-df-convert');\n",
              "        buttonEl.style.display =\n",
              "          google.colab.kernel.accessAllowed ? 'block' : 'none';\n",
              "\n",
              "        async function convertToInteractive(key) {\n",
              "          const element = document.querySelector('#df-97dd252d-b769-4609-8bc4-3734b4b47922');\n",
              "          const dataTable =\n",
              "            await google.colab.kernel.invokeFunction('convertToInteractive',\n",
              "                                                     [key], {});\n",
              "          if (!dataTable) return;\n",
              "\n",
              "          const docLinkHtml = 'Like what you see? Visit the ' +\n",
              "            '<a target=\"_blank\" href=https://colab.research.google.com/notebooks/data_table.ipynb>data table notebook</a>'\n",
              "            + ' to learn more about interactive tables.';\n",
              "          element.innerHTML = '';\n",
              "          dataTable['output_type'] = 'display_data';\n",
              "          await google.colab.output.renderOutput(dataTable, element);\n",
              "          const docLink = document.createElement('div');\n",
              "          docLink.innerHTML = docLinkHtml;\n",
              "          element.appendChild(docLink);\n",
              "        }\n",
              "      </script>\n",
              "    </div>\n",
              "  </div>\n",
              "  "
            ],
            "text/plain": [
              "      datetime        date  hour    currency_name     value\n",
              "0   2021-03-14  2021-03-14     0  request-network  0.115487\n",
              "1   2021-03-15  2021-03-15     0  request-network  0.114584\n",
              "2   2021-03-16  2021-03-16     0  request-network  0.121422\n",
              "3   2021-03-17  2021-03-17     0  request-network  0.123575\n",
              "4   2021-03-18  2021-03-18     0  request-network  0.148154\n",
              "..         ...         ...   ...              ...       ...\n",
              "899 2022-01-01  2022-01-01     0         litentry  2.962963\n",
              "900 2022-01-02  2022-01-02     0         litentry  3.116728\n",
              "901 2022-01-03  2022-01-03     0         litentry  3.186888\n",
              "902 2022-01-04  2022-01-04     0         litentry  3.101675\n",
              "903 2022-01-05  2022-01-05     0         litentry  3.093065\n",
              "\n",
              "[904 rows x 5 columns]"
            ]
          },
          "metadata": {},
          "execution_count": 121
        },
        {
          "output_type": "display_data",
          "data": {
            "image/png": "[encoded data removed]",
            "text/plain": [
              "<Figure size 432x288 with 1 Axes>"
            ]
          },
          "metadata": {}
        }
      ]
    },
    {
      "cell_type": "markdown",
      "source": [
        "Maintenant que l'on a un index correspondant à une performance d'apparition dans twitter, on veut s'assurer que cette tendance est positive. Pour ce faire on utilise la bibliothèque TextBlob qui, à partir d'un texte définit si ce texte est plutot positif ou négatif."
      ],
      "metadata": {
        "id": "zaPINnxeDySv"
      }
    },
    {
      "cell_type": "code",
      "source": [
        "def get_related_tweets(key_word):\n",
        "    twitter_users = []\n",
        "    tweet_time = []\n",
        "    tweet_string = [] \n",
        "    for tweet in tweepy.Cursor(api.search,q=key_word, count=100).items(100):\n",
        "            if (not tweet.retweeted) and ('RT @' not in tweet.text):\n",
        "                if tweet.lang == \"en\":\n",
        "                    twitter_users.append(tweet.user.name)\n",
        "                    tweet_time.append(tweet.created_at)\n",
        "                    tweet_string.append(tweet.text)\n",
        "                    #print([tweet.user.name,tweet.created_at,tweet.text])\n",
        "    df = pd.DataFrame({'name':twitter_users, 'time': tweet_time, 'tweet': tweet_string})\n",
        "    \n",
        "    return df\n",
        "\n",
        "#get_related_tweets(\"Dragon\")"
      ],
      "metadata": {
        "id": "NEKzwUpnnIu5"
      },
      "execution_count": null,
      "outputs": []
    },
    {
      "cell_type": "code",
      "source": [
        "\n",
        "\n",
        "\n",
        "import seaborn as sns\n",
        "import matplotlib.pyplot as plt\n",
        "def get_sentiment(key_word):\n",
        "    df = get_related_tweets(key_word)\n",
        "    df['sentiment'] = df['tweet'].apply(lambda tweet: TextBlob(tweet).sentiment.polarity)\n",
        "    df_pos = df[df['sentiment'] > 0.0]\n",
        "    df_neg = df[df['sentiment'] < 0.0]\n",
        "    \n",
        "    print(\"Number of Positive Tweets about {}\".format(key_word), len(df_pos))\n",
        "    print(\"Number of Negative Tweets about {}\".format(key_word), len(df_neg))\n",
        "    sns.set()\n",
        "    labels = ['Positive', 'Negative']\n",
        "    heights = [len(df_pos), len(df_neg)]\n",
        "    plt.bar(labels, heights, color = 'navy')\n",
        "    plt.title(key_word)\n",
        "    return (len(df_pos)/(len(df_neg)+1))\n",
        "    \n",
        "\n",
        "#get_sentiment(\"$BTC\")\n",
        "#return (len(df_pos)/len(df_neg))\n",
        "list_index_humeur_asset = []\n",
        "\n",
        "for i in range(1,11):\n",
        "  \n",
        "  plt.subplot(2, 5, i) \n",
        "  plt.subplots_adjust(left=0.125,\n",
        "                    bottom=0.1, \n",
        "                    right=1.6, \n",
        "                    top=1.2, \n",
        "                    wspace=0.2, \n",
        "                    hspace=0.35)\n",
        "  list_index_humeur_asset.append(get_sentiment(results[i]))\n",
        "\n"
      ],
      "metadata": {
        "colab": {
          "base_uri": "https://localhost:8080/",
          "height": 746
        },
        "id": "kcdQ6oWCpQpu",
        "outputId": "8a04d257-06b5-47d8-cb23-8d455e1a18f2"
      },
      "execution_count": 123,
      "outputs": [
        {
          "output_type": "stream",
          "name": "stdout",
          "text": [
            "Number of Positive Tweets about C98 13\n",
            "Number of Negative Tweets about C98 3\n",
            "Number of Positive Tweets about IRIS 12\n",
            "Number of Negative Tweets about IRIS 1\n",
            "Number of Positive Tweets about ATOM 9\n",
            "Number of Negative Tweets about ATOM 3\n",
            "Number of Positive Tweets about ONE 11\n",
            "Number of Negative Tweets about ONE 4\n",
            "Number of Positive Tweets about REQ 17\n",
            "Number of Negative Tweets about REQ 1\n",
            "Number of Positive Tweets about ZRX 18\n",
            "Number of Negative Tweets about ZRX 3\n",
            "Number of Positive Tweets about XTZ 11\n",
            "Number of Negative Tweets about XTZ 1\n",
            "Number of Positive Tweets about LIT 8\n",
            "Number of Negative Tweets about LIT 5\n",
            "Number of Positive Tweets about DYDX 21\n",
            "Number of Negative Tweets about DYDX 1\n",
            "Number of Positive Tweets about UTK 1\n",
            "Number of Negative Tweets about UTK 0\n"
          ]
        },
        {
          "output_type": "display_data",
          "data": {
            "image/png": "[encoded data removed]",
            "text/plain": [
              "<Figure size 432x288 with 10 Axes>"
            ]
          },
          "metadata": {}
        }
      ]
    },
    {
      "cell_type": "markdown",
      "source": [
        "On affiche le graphe de dernier token mentionné, juste pour avoir une représentation graphique"
      ],
      "metadata": {
        "id": "axbdMTuc1Ajz"
      }
    },
    {
      "cell_type": "markdown",
      "source": [
        "On a finalement récupéré dans notre liste \"list_index_humeur_asset\" le rapport positif/negatif qui nous retourne un second indice de performance.\n"
      ],
      "metadata": {
        "id": "l3TZ8fSFKvsN"
      }
    },
    {
      "cell_type": "code",
      "source": [
        "print(list_index_humeur_asset)"
      ],
      "metadata": {
        "colab": {
          "base_uri": "https://localhost:8080/"
        },
        "id": "ZzVamRKNK9D6",
        "outputId": "c96ffe97-8050-4ed6-b6a8-bec402d7a847"
      },
      "execution_count": null,
      "outputs": [
        {
          "output_type": "stream",
          "name": "stdout",
          "text": [
            "[10.666666666666666, 3.5, 1.3333333333333333, 5.5, 3.3333333333333335, 1.6666666666666667, 0.8333333333333334, 9.666666666666666, 4.0, 0.8]\n"
          ]
        }
      ]
    },
    {
      "cell_type": "markdown",
      "source": [
        "Et je rappelle que l'on a aussi notre index de performance en fonction du nombre d'appartion du token sur twitter ((entropytoken_around_one)."
      ],
      "metadata": {
        "id": "lhjTvUMvLDpL"
      }
    },
    {
      "cell_type": "code",
      "source": [
        "print(entropytoken_around_one)"
      ],
      "metadata": {
        "colab": {
          "base_uri": "https://localhost:8080/"
        },
        "id": "bTRsBMcgLYOU",
        "outputId": "01e95695-4738-4f58-801d-bc4793cf9266"
      },
      "execution_count": null,
      "outputs": [
        {
          "output_type": "stream",
          "name": "stdout",
          "text": [
            "[0.6363636363636364, 0.6, 1.1757575757575758, 1.1454545454545455, 1.0363636363636364, 1.2, 0.6, 0.9999999999999999, 0.909090909090909, 0.6363636363636364]\n"
          ]
        }
      ]
    },
    {
      "cell_type": "markdown",
      "source": [
        "On en a finir pour la partie twitter. On recupere maintenant le prix actuel de notre asset pour savoir combien de cet asset va t'on acheter (attention de bien avoir un nombre rond). Pour ce faire on fait appel à l'api de coingecko qui nous retourne le prix d'un asset à un moment donné. Problème il faut renseigner le nom du token et non pas le symbole donc je dois d'abord associer le symbole au nom en faisant un premier appel sur coingecko. On obtient alors notre liste \"nb_assets_achat\" qui correspond au nombre de tokens respectifs que l'on va acheter pour chaque token. On a pris dans cet exemple qu'on allait acheter 20 USD de chaque token (minimum 10.3 USD pour un ordre d'achat sur binance)."
      ],
      "metadata": {
        "id": "Y1bn04FTwXN0"
      }
    },
    {
      "cell_type": "code",
      "source": [
        "import requests\n",
        "\n",
        "r = requests.get(\"https://api.coingecko.com/api/v3/coins/list\")\n",
        "retour = r.json()\n",
        "list1 =[\"btc\",\"eth\",\"link\",\"bch\",\"vet\",\"ada\",\"strax\",\"ada\",\"mbl\",'gxs']\n",
        "list2 = results[:10]\n",
        "\n",
        "list = []\n",
        "for i in list2:\n",
        "\n",
        "  list.append(i.lower())\n",
        "\n",
        "print(list)\n",
        "\n",
        "listId=[]\n",
        "for l in list :\n",
        "    for token in retour:\n",
        "        if token[\"symbol\"] == l:\n",
        "            l = token['id']\n",
        "            listId.append(l)\n",
        "\n",
        "print(listId)\n",
        "base_url = \"https://api.coingecko.com/api/v3\"\n",
        "liste_prix_assets = []\n",
        "for u in listId:\n",
        "\n",
        "  url = base_url + f\"/simple/price?ids={u}&vs_currencies=usd\"\n",
        "  r = requests.get(url)\n",
        "  #print(r.json())\n",
        "  #print(r.json()[ids]['usd']) #on affiche sa valeur \n",
        "  liste_prix_assets.append(r.json()[u]['usd'])\n",
        "\n",
        "print(liste_prix_assets)\n",
        "\n",
        "\n",
        "\n",
        "\n",
        "nb_assets_achat = []\n",
        "for d in liste_prix_assets:\n",
        "  nb_assets_achat.append(20/d) #on allocate 20 usd pour chacun des 10 tokens\n",
        "\n",
        "#print(nb_assets_achat)\n",
        "\n",
        "\n",
        "\n",
        "\n",
        "\n"
      ],
      "metadata": {
        "colab": {
          "base_uri": "https://localhost:8080/"
        },
        "id": "9kSgPkRjY90B",
        "outputId": "fcad5f09-dbfa-41ae-cd24-80875a00ebdc"
      },
      "execution_count": null,
      "outputs": [
        {
          "output_type": "stream",
          "name": "stdout",
          "text": [
            "['fxs', 'c98', 'iris', 'atom', 'one', 'req', 'zrx', 'xtz', 'lit', 'dydx']\n",
            "['frax-share', 'coin98', 'iris-network', 'cosmos', 'harmony', 'request-network', '0x', 'tezos', 'litentry', 'dydx']\n",
            "[37.99, 2.51, 0.120789, 43.57, 0.318749, 0.301463, 0.740034, 4.24, 2.6, 7.06]\n"
          ]
        }
      ]
    },
    {
      "cell_type": "markdown",
      "source": [
        "Pour autant, nous allons modifier cette quantité de 20 USD puisque nous avons justement défini des indexs de performance pour optimiser nos investissements en fonction de nos indices."
      ],
      "metadata": {
        "id": "j5On0h16MfM4"
      }
    },
    {
      "cell_type": "code",
      "source": [
        "nb_assets_achat_weighted = []\n",
        "for i in range(len(nb_assets_achat)):\n",
        "  nbr = nb_assets_achat[i] * 0.4 * list_index_humeur_asset[i]  *entropytoken_around_one[i]\n",
        "  nb_assets_achat_weighted.append(nbr)\n",
        "\n",
        "print(nb_assets_achat)\n",
        "print(nb_assets_achat_weighted)"
      ],
      "metadata": {
        "id": "ubzR0rfVNDYS",
        "colab": {
          "base_uri": "https://localhost:8080/"
        },
        "outputId": "8c6aa88d-a2cf-4044-f8ed-e4beff7a8e9a"
      },
      "execution_count": null,
      "outputs": [
        {
          "output_type": "stream",
          "name": "stdout",
          "text": [
            "[0.5264543300868649, 7.9681274900398416, 165.57799137338665, 0.4590314436538903, 62.74529488719965, 66.34313331984357, 27.025785301756407, 4.716981132075471, 7.692307692307692, 2.8328611898017]\n",
            "[1.429403271993427, 6.693227091633467, 103.829108125857, 1.1567592380078038, 86.70258929867589, 53.07450665587486, 5.405157060351282, 18.23899371069182, 11.188811188811187, 0.5768735513778008]\n"
          ]
        }
      ]
    },
    {
      "cell_type": "markdown",
      "source": [
        "Vous voyez que cette fois-ci on obtient une liste avec un nombre d'assets différents à acheter, ce nombre d'assets correspond au nombre optimal defini en fonction de nos indexs de tendance."
      ],
      "metadata": {
        "id": "uCs3XtCNPP_Q"
      }
    },
    {
      "cell_type": "markdown",
      "source": [
        "On peut maintenant renseigner l'ensemble des informations (le token à acheter et le nombre d'assets de ce token à acheter) dont on avait besoin pour faire fonctionner notre bot de trading sur binance dans un fichier csv."
      ],
      "metadata": {
        "id": "q5KvMJfxRFOD"
      }
    },
    {
      "cell_type": "code",
      "source": [
        "\n",
        "#ON ECRIT DANS NOTRE FICHIER CSV\n",
        "quantite_calculee = nb_assets_achat_weighted\n",
        "#quantite_calculee = retour_nb_assets_achat()\n",
        "#print(quantite_calculee)\n",
        "\n",
        "file = open(\"position.csv\", \"w\")\n",
        "writer = csv.writer(file)\n",
        "\n",
        "\n",
        "token = []\n",
        "usdtpair = \"USDT\"\n",
        "lastlistedtokens = results[:10] #nos 20 derniers resultats ouai on prend du large\n",
        "for x in range(len(lastlistedtokens)):\n",
        "  token.append(lastlistedtokens[x] + 'USDT') #on cree la paire qui doit etre respectee\n",
        "\n",
        "position = [0,0,0,0,0,0,0,0,0,0]\n",
        "quantite = []\n",
        "for c in quantite_calculee:\n",
        "  quantite.append(round(c, 8))\n",
        "\n",
        "print(quantite)\n",
        "\n",
        "colonne3 = ['quantity']\n",
        "colonne2 = ['position']\n",
        "colonne1 = ['Currency']\n",
        "for w in range(1):\n",
        "  writer.writerow([colonne1[w], colonne2[w],colonne3[w]])\n",
        "  #writer.writerow(['Currency'],['position'],['quantity'])\n",
        "#print(len(token))\n",
        "#print(len(position))\n",
        "#print(len(quantite))\n",
        "for w in range(len(token)):\n",
        "  \n",
        "  writer.writerow([token[w], position[w],round(quantite[w], 3)]) #on remplit direct le doc\n",
        "\n",
        "file.close()"
      ],
      "metadata": {
        "colab": {
          "base_uri": "https://localhost:8080/"
        },
        "id": "ZDsKT-z-MDZ4",
        "outputId": "29cc3cb8-d53d-4d76-8555-1b9327b1fca9"
      },
      "execution_count": null,
      "outputs": [
        {
          "output_type": "stream",
          "name": "stdout",
          "text": [
            "[1.42940327, 6.69322709, 103.82910813, 1.15675924, 86.7025893, 53.07450666, 5.40515706, 18.23899371, 11.18881119, 0.57687355]\n"
          ]
        }
      ]
    },
    {
      "cell_type": "markdown",
      "source": [
        "On peut maintenant passer à l'implémentation de notre bot binance qui nous permettra de market buy et market sell les tokens souhaités automatiquement. \n",
        "Pour ce faire, nous devons créer une API Binance, vous pouvez vous créer un compte et une API dans Profil->Gestion API et modifier les restrictions en cliquant sur \"Activer le trading au comptant et sur marge\". Attention, ces clés sont privées, ne les partagez à personne."
      ],
      "metadata": {
        "id": "HL15yBRTeV_X"
      }
    },
    {
      "cell_type": "code",
      "source": [
        "from binance.client import Client\n",
        "import pandas as pd\n",
        "client = Client('xxx','xxx')"
      ],
      "metadata": {
        "id": "418i4Z2df9SF"
      },
      "execution_count": null,
      "outputs": []
    },
    {
      "cell_type": "code",
      "source": [
        "import pandas as pd\n",
        "from google.colab import files\n",
        "#uploaded = files.upload()\n",
        "import io\n",
        "#posframe = pd.read_csv(io.BytesIO(uploaded['position.csv']))\n",
        "\n",
        "posframe = pd.read_csv('position.csv')\n",
        "\n",
        "\n",
        "#posframe = pd.read_csv('position')\n",
        "posframe"
      ],
      "metadata": {
        "colab": {
          "base_uri": "https://localhost:8080/",
          "height": 331
        },
        "id": "P1hJqxzbgJfe",
        "outputId": "90aadc1c-40f8-4218-dfbc-8328ea641761"
      },
      "execution_count": null,
      "outputs": [
        {
          "output_type": "execute_result",
          "data": {
            "text/html": [
              "\n",
              "  <div id=\"df-8928f20f-5947-4813-8d5b-30ed2b34a219\">\n",
              "    <div class=\"colab-df-container\">\n",
              "      <div>\n",
              "<style scoped>\n",
              "    .dataframe tbody tr th:only-of-type {\n",
              "        vertical-align: middle;\n",
              "    }\n",
              "\n",
              "    .dataframe tbody tr th {\n",
              "        vertical-align: top;\n",
              "    }\n",
              "\n",
              "    .dataframe thead th {\n",
              "        text-align: right;\n",
              "    }\n",
              "</style>\n",
              "<table border=\"1\" class=\"dataframe\">\n",
              "  <thead>\n",
              "    <tr style=\"text-align: right;\">\n",
              "      <th></th>\n",
              "      <th>Currency</th>\n",
              "      <th>position</th>\n",
              "      <th>quantity</th>\n",
              "    </tr>\n",
              "  </thead>\n",
              "  <tbody>\n",
              "    <tr>\n",
              "      <th>0</th>\n",
              "      <td>FXSUSDT</td>\n",
              "      <td>0</td>\n",
              "      <td>0.528</td>\n",
              "    </tr>\n",
              "    <tr>\n",
              "      <th>1</th>\n",
              "      <td>C98USDT</td>\n",
              "      <td>0</td>\n",
              "      <td>8.163</td>\n",
              "    </tr>\n",
              "    <tr>\n",
              "      <th>2</th>\n",
              "      <td>IRISUSDT</td>\n",
              "      <td>0</td>\n",
              "      <td>192.829</td>\n",
              "    </tr>\n",
              "    <tr>\n",
              "      <th>3</th>\n",
              "      <td>ATOMUSDT</td>\n",
              "      <td>0</td>\n",
              "      <td>0.472</td>\n",
              "    </tr>\n",
              "    <tr>\n",
              "      <th>4</th>\n",
              "      <td>ONEUSDT</td>\n",
              "      <td>0</td>\n",
              "      <td>63.821</td>\n",
              "    </tr>\n",
              "    <tr>\n",
              "      <th>5</th>\n",
              "      <td>REQUSDT</td>\n",
              "      <td>0</td>\n",
              "      <td>65.662</td>\n",
              "    </tr>\n",
              "    <tr>\n",
              "      <th>6</th>\n",
              "      <td>ZRXUSDT</td>\n",
              "      <td>0</td>\n",
              "      <td>27.125</td>\n",
              "    </tr>\n",
              "    <tr>\n",
              "      <th>7</th>\n",
              "      <td>XTZUSDT</td>\n",
              "      <td>0</td>\n",
              "      <td>4.773</td>\n",
              "    </tr>\n",
              "    <tr>\n",
              "      <th>8</th>\n",
              "      <td>LITUSDT</td>\n",
              "      <td>0</td>\n",
              "      <td>7.722</td>\n",
              "    </tr>\n",
              "  </tbody>\n",
              "</table>\n",
              "</div>\n",
              "      <button class=\"colab-df-convert\" onclick=\"convertToInteractive('df-8928f20f-5947-4813-8d5b-30ed2b34a219')\"\n",
              "              title=\"Convert this dataframe to an interactive table.\"\n",
              "              style=\"display:none;\">\n",
              "        \n",
              "  <svg xmlns=\"http://www.w3.org/2000/svg\" height=\"24px\"viewBox=\"0 0 24 24\"\n",
              "       width=\"24px\">\n",
              "    <path d=\"M0 0h24v24H0V0z\" fill=\"none\"/>\n",
              "    <path d=\"M18.56 5.44l.94 2.06.94-2.06 2.06-.94-2.06-.94-.94-2.06-.94 2.06-2.06.94zm-11 1L8.5 8.5l.94-2.06 2.06-.94-2.06-.94L8.5 2.5l-.94 2.06-2.06.94zm10 10l.94 2.06.94-2.06 2.06-.94-2.06-.94-.94-2.06-.94 2.06-2.06.94z\"/><path d=\"M17.41 7.96l-1.37-1.37c-.4-.4-.92-.59-1.43-.59-.52 0-1.04.2-1.43.59L10.3 9.45l-7.72 7.72c-.78.78-.78 2.05 0 2.83L4 21.41c.39.39.9.59 1.41.59.51 0 1.02-.2 1.41-.59l7.78-7.78 2.81-2.81c.8-.78.8-2.07 0-2.86zM5.41 20L4 18.59l7.72-7.72 1.47 1.35L5.41 20z\"/>\n",
              "  </svg>\n",
              "      </button>\n",
              "      \n",
              "  <style>\n",
              "    .colab-df-container {\n",
              "      display:flex;\n",
              "      flex-wrap:wrap;\n",
              "      gap: 12px;\n",
              "    }\n",
              "\n",
              "    .colab-df-convert {\n",
              "      background-color: #E8F0FE;\n",
              "      border: none;\n",
              "      border-radius: 50%;\n",
              "      cursor: pointer;\n",
              "      display: none;\n",
              "      fill: #1967D2;\n",
              "      height: 32px;\n",
              "      padding: 0 0 0 0;\n",
              "      width: 32px;\n",
              "    }\n",
              "\n",
              "    .colab-df-convert:hover {\n",
              "      background-color: #E2EBFA;\n",
              "      box-shadow: 0px 1px 2px rgba(60, 64, 67, 0.3), 0px 1px 3px 1px rgba(60, 64, 67, 0.15);\n",
              "      fill: #174EA6;\n",
              "    }\n",
              "\n",
              "    [theme=dark] .colab-df-convert {\n",
              "      background-color: #3B4455;\n",
              "      fill: #D2E3FC;\n",
              "    }\n",
              "\n",
              "    [theme=dark] .colab-df-convert:hover {\n",
              "      background-color: #434B5C;\n",
              "      box-shadow: 0px 1px 3px 1px rgba(0, 0, 0, 0.15);\n",
              "      filter: drop-shadow(0px 1px 2px rgba(0, 0, 0, 0.3));\n",
              "      fill: #FFFFFF;\n",
              "    }\n",
              "  </style>\n",
              "\n",
              "      <script>\n",
              "        const buttonEl =\n",
              "          document.querySelector('#df-8928f20f-5947-4813-8d5b-30ed2b34a219 button.colab-df-convert');\n",
              "        buttonEl.style.display =\n",
              "          google.colab.kernel.accessAllowed ? 'block' : 'none';\n",
              "\n",
              "        async function convertToInteractive(key) {\n",
              "          const element = document.querySelector('#df-8928f20f-5947-4813-8d5b-30ed2b34a219');\n",
              "          const dataTable =\n",
              "            await google.colab.kernel.invokeFunction('convertToInteractive',\n",
              "                                                     [key], {});\n",
              "          if (!dataTable) return;\n",
              "\n",
              "          const docLinkHtml = 'Like what you see? Visit the ' +\n",
              "            '<a target=\"_blank\" href=https://colab.research.google.com/notebooks/data_table.ipynb>data table notebook</a>'\n",
              "            + ' to learn more about interactive tables.';\n",
              "          element.innerHTML = '';\n",
              "          dataTable['output_type'] = 'display_data';\n",
              "          await google.colab.output.renderOutput(dataTable, element);\n",
              "          const docLink = document.createElement('div');\n",
              "          docLink.innerHTML = docLinkHtml;\n",
              "          element.appendChild(docLink);\n",
              "        }\n",
              "      </script>\n",
              "    </div>\n",
              "  </div>\n",
              "  "
            ],
            "text/plain": [
              "   Currency  position  quantity\n",
              "0   FXSUSDT         0     0.528\n",
              "1   C98USDT         0     8.163\n",
              "2  IRISUSDT         0   192.829\n",
              "3  ATOMUSDT         0     0.472\n",
              "4   ONEUSDT         0    63.821\n",
              "5   REQUSDT         0    65.662\n",
              "6   ZRXUSDT         0    27.125\n",
              "7   XTZUSDT         0     4.773\n",
              "8   LITUSDT         0     7.722"
            ]
          },
          "metadata": {},
          "execution_count": 94
        }
      ]
    },
    {
      "cell_type": "markdown",
      "source": [
        "On a affiché notre fichier avec la bibliotheque panda. Vous remarquez que l'on utilise une colonne position. Elle sert en cas de récurrence d'un token. Le 0 devient un 1 si l'on a market buy la paire à l'aide de la fonction ci-dessous."
      ],
      "metadata": {
        "id": "nMrJ3iFkTrm9"
      }
    },
    {
      "cell_type": "code",
      "source": [
        "def changepos(curr, buy=True):\n",
        "  if buy:\n",
        "    posframe.loc[posframe.Currency == curr, 'position'] =1 #positionnement achat ou non\n",
        "  else:\n",
        "    posframe.loc[posframe.Currency == curr, 'position'] =0\n",
        "\n",
        "  posframe.to_csv('position', index=False) #tjrs actualiser notre dataset en mettant l'index comme une non colonne"
      ],
      "metadata": {
        "id": "gyilrwSMkUAR"
      },
      "execution_count": null,
      "outputs": []
    },
    {
      "cell_type": "markdown",
      "source": [
        "On récupére les données utile d'un token a l'aide de la fonction ci-dessous"
      ],
      "metadata": {
        "id": "5sC9-zVTXZb0"
      }
    },
    {
      "cell_type": "code",
      "source": [
        "def gethourlydata(symbol):\n",
        "  #klines = client.get_historical_klines(symbol, Client.KLINE_INTERVAL_1MINUTE, \"1 day ago UTC\")\n",
        "  #framebis = client.get_historical_klines(symbol, '1 hour ago UTC', '25 hours ago UTC')\n",
        "  frame = pd.DataFrame(client.get_historical_klines(symbol, '1h', '25 hours ago UTC')) #1h for the fast sma, 25h for the slow sma\n",
        "\n",
        "  frame =frame.iloc[:,:5] #only the five first columns\n",
        "  frame.columns = ['Time','Open','High','Low','Close'] #rename it\n",
        "  frame[['Open','High','Low','Close']] = frame[['Open','High','Low','Close']].astype(float)\n",
        "  frame.Time = pd.to_datetime(frame.Time, unit='ms')\n",
        "\n",
        "  return frame"
      ],
      "metadata": {
        "id": "7c_sIaYHkXwI"
      },
      "execution_count": null,
      "outputs": []
    },
    {
      "cell_type": "markdown",
      "source": [
        "On définit maintenant les valeurs de Fast Moving Average et de Slow Moving Average."
      ],
      "metadata": {
        "id": "PssnNLzzXwX5"
      }
    },
    {
      "cell_type": "code",
      "source": [
        "df = gethourlydata(\"BTCUSDT\")\n",
        "\n",
        "def applytechnicals(df): #on cherche a savoir si Fastsma \n",
        "  df['FastSMA'] = df.Close.rolling(7).mean()\n",
        "  df['SlowSMA'] = df.Close.rolling(25).mean() #25 timesteps\n",
        "\n",
        "applytechnicals(df)\n",
        "df\n"
      ],
      "metadata": {
        "colab": {
          "base_uri": "https://localhost:8080/",
          "height": 1000
        },
        "id": "yJSBfCC_kcCL",
        "outputId": "3d92d383-dfa0-4e0f-c217-c7b98c6faea0"
      },
      "execution_count": null,
      "outputs": [
        {
          "output_type": "execute_result",
          "data": {
            "text/html": [
              "\n",
              "  <div id=\"df-034016a5-2b16-4df1-8c65-33c829a16e3b\">\n",
              "    <div class=\"colab-df-container\">\n",
              "      <div>\n",
              "<style scoped>\n",
              "    .dataframe tbody tr th:only-of-type {\n",
              "        vertical-align: middle;\n",
              "    }\n",
              "\n",
              "    .dataframe tbody tr th {\n",
              "        vertical-align: top;\n",
              "    }\n",
              "\n",
              "    .dataframe thead th {\n",
              "        text-align: right;\n",
              "    }\n",
              "</style>\n",
              "<table border=\"1\" class=\"dataframe\">\n",
              "  <thead>\n",
              "    <tr style=\"text-align: right;\">\n",
              "      <th></th>\n",
              "      <th>Time</th>\n",
              "      <th>Open</th>\n",
              "      <th>High</th>\n",
              "      <th>Low</th>\n",
              "      <th>Close</th>\n",
              "      <th>FastSMA</th>\n",
              "      <th>SlowSMA</th>\n",
              "    </tr>\n",
              "  </thead>\n",
              "  <tbody>\n",
              "    <tr>\n",
              "      <th>0</th>\n",
              "      <td>2022-01-06 12:00:00</td>\n",
              "      <td>42878.33</td>\n",
              "      <td>43077.00</td>\n",
              "      <td>42632.44</td>\n",
              "      <td>43062.76</td>\n",
              "      <td>NaN</td>\n",
              "      <td>NaN</td>\n",
              "    </tr>\n",
              "    <tr>\n",
              "      <th>1</th>\n",
              "      <td>2022-01-06 13:00:00</td>\n",
              "      <td>43062.77</td>\n",
              "      <td>43200.00</td>\n",
              "      <td>42900.00</td>\n",
              "      <td>43150.01</td>\n",
              "      <td>NaN</td>\n",
              "      <td>NaN</td>\n",
              "    </tr>\n",
              "    <tr>\n",
              "      <th>2</th>\n",
              "      <td>2022-01-06 14:00:00</td>\n",
              "      <td>43150.00</td>\n",
              "      <td>43267.09</td>\n",
              "      <td>42761.90</td>\n",
              "      <td>42805.50</td>\n",
              "      <td>NaN</td>\n",
              "      <td>NaN</td>\n",
              "    </tr>\n",
              "    <tr>\n",
              "      <th>3</th>\n",
              "      <td>2022-01-06 15:00:00</td>\n",
              "      <td>42805.50</td>\n",
              "      <td>43019.71</td>\n",
              "      <td>42666.00</td>\n",
              "      <td>42950.01</td>\n",
              "      <td>NaN</td>\n",
              "      <td>NaN</td>\n",
              "    </tr>\n",
              "    <tr>\n",
              "      <th>4</th>\n",
              "      <td>2022-01-06 16:00:00</td>\n",
              "      <td>42950.02</td>\n",
              "      <td>43131.76</td>\n",
              "      <td>42725.09</td>\n",
              "      <td>42882.22</td>\n",
              "      <td>NaN</td>\n",
              "      <td>NaN</td>\n",
              "    </tr>\n",
              "    <tr>\n",
              "      <th>5</th>\n",
              "      <td>2022-01-06 17:00:00</td>\n",
              "      <td>42882.23</td>\n",
              "      <td>43175.66</td>\n",
              "      <td>42790.89</td>\n",
              "      <td>43005.29</td>\n",
              "      <td>NaN</td>\n",
              "      <td>NaN</td>\n",
              "    </tr>\n",
              "    <tr>\n",
              "      <th>6</th>\n",
              "      <td>2022-01-06 18:00:00</td>\n",
              "      <td>43005.30</td>\n",
              "      <td>43400.00</td>\n",
              "      <td>42982.05</td>\n",
              "      <td>43369.04</td>\n",
              "      <td>43032.118571</td>\n",
              "      <td>NaN</td>\n",
              "    </tr>\n",
              "    <tr>\n",
              "      <th>7</th>\n",
              "      <td>2022-01-06 19:00:00</td>\n",
              "      <td>43369.04</td>\n",
              "      <td>43508.78</td>\n",
              "      <td>43224.73</td>\n",
              "      <td>43438.10</td>\n",
              "      <td>43085.738571</td>\n",
              "      <td>NaN</td>\n",
              "    </tr>\n",
              "    <tr>\n",
              "      <th>8</th>\n",
              "      <td>2022-01-06 20:00:00</td>\n",
              "      <td>43438.11</td>\n",
              "      <td>43581.30</td>\n",
              "      <td>43111.57</td>\n",
              "      <td>43221.50</td>\n",
              "      <td>43095.951429</td>\n",
              "      <td>NaN</td>\n",
              "    </tr>\n",
              "    <tr>\n",
              "      <th>9</th>\n",
              "      <td>2022-01-06 21:00:00</td>\n",
              "      <td>43221.50</td>\n",
              "      <td>43253.29</td>\n",
              "      <td>43066.04</td>\n",
              "      <td>43120.64</td>\n",
              "      <td>43140.971429</td>\n",
              "      <td>NaN</td>\n",
              "    </tr>\n",
              "    <tr>\n",
              "      <th>10</th>\n",
              "      <td>2022-01-06 22:00:00</td>\n",
              "      <td>43120.63</td>\n",
              "      <td>43236.73</td>\n",
              "      <td>43007.81</td>\n",
              "      <td>43180.97</td>\n",
              "      <td>43173.965714</td>\n",
              "      <td>NaN</td>\n",
              "    </tr>\n",
              "    <tr>\n",
              "      <th>11</th>\n",
              "      <td>2022-01-06 23:00:00</td>\n",
              "      <td>43180.96</td>\n",
              "      <td>43241.41</td>\n",
              "      <td>43053.94</td>\n",
              "      <td>43082.31</td>\n",
              "      <td>43202.550000</td>\n",
              "      <td>NaN</td>\n",
              "    </tr>\n",
              "    <tr>\n",
              "      <th>12</th>\n",
              "      <td>2022-01-07 00:00:00</td>\n",
              "      <td>43082.30</td>\n",
              "      <td>43145.83</td>\n",
              "      <td>42738.00</td>\n",
              "      <td>42788.15</td>\n",
              "      <td>43171.530000</td>\n",
              "      <td>NaN</td>\n",
              "    </tr>\n",
              "    <tr>\n",
              "      <th>13</th>\n",
              "      <td>2022-01-07 01:00:00</td>\n",
              "      <td>42788.15</td>\n",
              "      <td>43030.50</td>\n",
              "      <td>42785.56</td>\n",
              "      <td>43008.90</td>\n",
              "      <td>43120.081429</td>\n",
              "      <td>NaN</td>\n",
              "    </tr>\n",
              "    <tr>\n",
              "      <th>14</th>\n",
              "      <td>2022-01-07 02:00:00</td>\n",
              "      <td>43008.90</td>\n",
              "      <td>43030.00</td>\n",
              "      <td>42771.59</td>\n",
              "      <td>42799.13</td>\n",
              "      <td>43028.800000</td>\n",
              "      <td>NaN</td>\n",
              "    </tr>\n",
              "    <tr>\n",
              "      <th>15</th>\n",
              "      <td>2022-01-07 03:00:00</td>\n",
              "      <td>42799.12</td>\n",
              "      <td>42827.07</td>\n",
              "      <td>41577.77</td>\n",
              "      <td>41803.11</td>\n",
              "      <td>42826.172857</td>\n",
              "      <td>NaN</td>\n",
              "    </tr>\n",
              "    <tr>\n",
              "      <th>16</th>\n",
              "      <td>2022-01-07 04:00:00</td>\n",
              "      <td>41803.11</td>\n",
              "      <td>41909.23</td>\n",
              "      <td>41000.00</td>\n",
              "      <td>41700.33</td>\n",
              "      <td>42623.271429</td>\n",
              "      <td>NaN</td>\n",
              "    </tr>\n",
              "    <tr>\n",
              "      <th>17</th>\n",
              "      <td>2022-01-07 05:00:00</td>\n",
              "      <td>41700.33</td>\n",
              "      <td>41950.00</td>\n",
              "      <td>41524.94</td>\n",
              "      <td>41851.33</td>\n",
              "      <td>42433.322857</td>\n",
              "      <td>NaN</td>\n",
              "    </tr>\n",
              "    <tr>\n",
              "      <th>18</th>\n",
              "      <td>2022-01-07 06:00:00</td>\n",
              "      <td>41851.33</td>\n",
              "      <td>41853.19</td>\n",
              "      <td>41409.95</td>\n",
              "      <td>41529.14</td>\n",
              "      <td>42211.441429</td>\n",
              "      <td>NaN</td>\n",
              "    </tr>\n",
              "    <tr>\n",
              "      <th>19</th>\n",
              "      <td>2022-01-07 07:00:00</td>\n",
              "      <td>41529.15</td>\n",
              "      <td>41731.36</td>\n",
              "      <td>41206.90</td>\n",
              "      <td>41706.71</td>\n",
              "      <td>42056.950000</td>\n",
              "      <td>NaN</td>\n",
              "    </tr>\n",
              "    <tr>\n",
              "      <th>20</th>\n",
              "      <td>2022-01-07 08:00:00</td>\n",
              "      <td>41706.71</td>\n",
              "      <td>42883.47</td>\n",
              "      <td>41607.50</td>\n",
              "      <td>42088.61</td>\n",
              "      <td>41925.480000</td>\n",
              "      <td>NaN</td>\n",
              "    </tr>\n",
              "    <tr>\n",
              "      <th>21</th>\n",
              "      <td>2022-01-07 09:00:00</td>\n",
              "      <td>42088.61</td>\n",
              "      <td>42628.34</td>\n",
              "      <td>42060.00</td>\n",
              "      <td>42422.56</td>\n",
              "      <td>41871.684286</td>\n",
              "      <td>NaN</td>\n",
              "    </tr>\n",
              "    <tr>\n",
              "      <th>22</th>\n",
              "      <td>2022-01-07 10:00:00</td>\n",
              "      <td>42422.57</td>\n",
              "      <td>42533.43</td>\n",
              "      <td>42168.00</td>\n",
              "      <td>42172.83</td>\n",
              "      <td>41924.501429</td>\n",
              "      <td>NaN</td>\n",
              "    </tr>\n",
              "    <tr>\n",
              "      <th>23</th>\n",
              "      <td>2022-01-07 11:00:00</td>\n",
              "      <td>42172.84</td>\n",
              "      <td>42350.73</td>\n",
              "      <td>42161.00</td>\n",
              "      <td>42258.62</td>\n",
              "      <td>42004.257143</td>\n",
              "      <td>NaN</td>\n",
              "    </tr>\n",
              "    <tr>\n",
              "      <th>24</th>\n",
              "      <td>2022-01-07 12:00:00</td>\n",
              "      <td>42258.62</td>\n",
              "      <td>42497.88</td>\n",
              "      <td>42258.62</td>\n",
              "      <td>42436.41</td>\n",
              "      <td>42087.840000</td>\n",
              "      <td>42633.3672</td>\n",
              "    </tr>\n",
              "  </tbody>\n",
              "</table>\n",
              "</div>\n",
              "      <button class=\"colab-df-convert\" onclick=\"convertToInteractive('df-034016a5-2b16-4df1-8c65-33c829a16e3b')\"\n",
              "              title=\"Convert this dataframe to an interactive table.\"\n",
              "              style=\"display:none;\">\n",
              "        \n",
              "  <svg xmlns=\"http://www.w3.org/2000/svg\" height=\"24px\"viewBox=\"0 0 24 24\"\n",
              "       width=\"24px\">\n",
              "    <path d=\"M0 0h24v24H0V0z\" fill=\"none\"/>\n",
              "    <path d=\"M18.56 5.44l.94 2.06.94-2.06 2.06-.94-2.06-.94-.94-2.06-.94 2.06-2.06.94zm-11 1L8.5 8.5l.94-2.06 2.06-.94-2.06-.94L8.5 2.5l-.94 2.06-2.06.94zm10 10l.94 2.06.94-2.06 2.06-.94-2.06-.94-.94-2.06-.94 2.06-2.06.94z\"/><path d=\"M17.41 7.96l-1.37-1.37c-.4-.4-.92-.59-1.43-.59-.52 0-1.04.2-1.43.59L10.3 9.45l-7.72 7.72c-.78.78-.78 2.05 0 2.83L4 21.41c.39.39.9.59 1.41.59.51 0 1.02-.2 1.41-.59l7.78-7.78 2.81-2.81c.8-.78.8-2.07 0-2.86zM5.41 20L4 18.59l7.72-7.72 1.47 1.35L5.41 20z\"/>\n",
              "  </svg>\n",
              "      </button>\n",
              "      \n",
              "  <style>\n",
              "    .colab-df-container {\n",
              "      display:flex;\n",
              "      flex-wrap:wrap;\n",
              "      gap: 12px;\n",
              "    }\n",
              "\n",
              "    .colab-df-convert {\n",
              "      background-color: #E8F0FE;\n",
              "      border: none;\n",
              "      border-radius: 50%;\n",
              "      cursor: pointer;\n",
              "      display: none;\n",
              "      fill: #1967D2;\n",
              "      height: 32px;\n",
              "      padding: 0 0 0 0;\n",
              "      width: 32px;\n",
              "    }\n",
              "\n",
              "    .colab-df-convert:hover {\n",
              "      background-color: #E2EBFA;\n",
              "      box-shadow: 0px 1px 2px rgba(60, 64, 67, 0.3), 0px 1px 3px 1px rgba(60, 64, 67, 0.15);\n",
              "      fill: #174EA6;\n",
              "    }\n",
              "\n",
              "    [theme=dark] .colab-df-convert {\n",
              "      background-color: #3B4455;\n",
              "      fill: #D2E3FC;\n",
              "    }\n",
              "\n",
              "    [theme=dark] .colab-df-convert:hover {\n",
              "      background-color: #434B5C;\n",
              "      box-shadow: 0px 1px 3px 1px rgba(0, 0, 0, 0.15);\n",
              "      filter: drop-shadow(0px 1px 2px rgba(0, 0, 0, 0.3));\n",
              "      fill: #FFFFFF;\n",
              "    }\n",
              "  </style>\n",
              "\n",
              "      <script>\n",
              "        const buttonEl =\n",
              "          document.querySelector('#df-034016a5-2b16-4df1-8c65-33c829a16e3b button.colab-df-convert');\n",
              "        buttonEl.style.display =\n",
              "          google.colab.kernel.accessAllowed ? 'block' : 'none';\n",
              "\n",
              "        async function convertToInteractive(key) {\n",
              "          const element = document.querySelector('#df-034016a5-2b16-4df1-8c65-33c829a16e3b');\n",
              "          const dataTable =\n",
              "            await google.colab.kernel.invokeFunction('convertToInteractive',\n",
              "                                                     [key], {});\n",
              "          if (!dataTable) return;\n",
              "\n",
              "          const docLinkHtml = 'Like what you see? Visit the ' +\n",
              "            '<a target=\"_blank\" href=https://colab.research.google.com/notebooks/data_table.ipynb>data table notebook</a>'\n",
              "            + ' to learn more about interactive tables.';\n",
              "          element.innerHTML = '';\n",
              "          dataTable['output_type'] = 'display_data';\n",
              "          await google.colab.output.renderOutput(dataTable, element);\n",
              "          const docLink = document.createElement('div');\n",
              "          docLink.innerHTML = docLinkHtml;\n",
              "          element.appendChild(docLink);\n",
              "        }\n",
              "      </script>\n",
              "    </div>\n",
              "  </div>\n",
              "  "
            ],
            "text/plain": [
              "                  Time      Open      High  ...     Close       FastSMA     SlowSMA\n",
              "0  2022-01-06 12:00:00  42878.33  43077.00  ...  43062.76           NaN         NaN\n",
              "1  2022-01-06 13:00:00  43062.77  43200.00  ...  43150.01           NaN         NaN\n",
              "2  2022-01-06 14:00:00  43150.00  43267.09  ...  42805.50           NaN         NaN\n",
              "3  2022-01-06 15:00:00  42805.50  43019.71  ...  42950.01           NaN         NaN\n",
              "4  2022-01-06 16:00:00  42950.02  43131.76  ...  42882.22           NaN         NaN\n",
              "5  2022-01-06 17:00:00  42882.23  43175.66  ...  43005.29           NaN         NaN\n",
              "6  2022-01-06 18:00:00  43005.30  43400.00  ...  43369.04  43032.118571         NaN\n",
              "7  2022-01-06 19:00:00  43369.04  43508.78  ...  43438.10  43085.738571         NaN\n",
              "8  2022-01-06 20:00:00  43438.11  43581.30  ...  43221.50  43095.951429         NaN\n",
              "9  2022-01-06 21:00:00  43221.50  43253.29  ...  43120.64  43140.971429         NaN\n",
              "10 2022-01-06 22:00:00  43120.63  43236.73  ...  43180.97  43173.965714         NaN\n",
              "11 2022-01-06 23:00:00  43180.96  43241.41  ...  43082.31  43202.550000         NaN\n",
              "12 2022-01-07 00:00:00  43082.30  43145.83  ...  42788.15  43171.530000         NaN\n",
              "13 2022-01-07 01:00:00  42788.15  43030.50  ...  43008.90  43120.081429         NaN\n",
              "14 2022-01-07 02:00:00  43008.90  43030.00  ...  42799.13  43028.800000         NaN\n",
              "15 2022-01-07 03:00:00  42799.12  42827.07  ...  41803.11  42826.172857         NaN\n",
              "16 2022-01-07 04:00:00  41803.11  41909.23  ...  41700.33  42623.271429         NaN\n",
              "17 2022-01-07 05:00:00  41700.33  41950.00  ...  41851.33  42433.322857         NaN\n",
              "18 2022-01-07 06:00:00  41851.33  41853.19  ...  41529.14  42211.441429         NaN\n",
              "19 2022-01-07 07:00:00  41529.15  41731.36  ...  41706.71  42056.950000         NaN\n",
              "20 2022-01-07 08:00:00  41706.71  42883.47  ...  42088.61  41925.480000         NaN\n",
              "21 2022-01-07 09:00:00  42088.61  42628.34  ...  42422.56  41871.684286         NaN\n",
              "22 2022-01-07 10:00:00  42422.57  42533.43  ...  42172.83  41924.501429         NaN\n",
              "23 2022-01-07 11:00:00  42172.84  42350.73  ...  42258.62  42004.257143         NaN\n",
              "24 2022-01-07 12:00:00  42258.62  42497.88  ...  42436.41  42087.840000  42633.3672\n",
              "\n",
              "[25 rows x 7 columns]"
            ]
          },
          "metadata": {},
          "execution_count": 21
        }
      ]
    },
    {
      "cell_type": "markdown",
      "source": [
        "On rentre maintenant concrètement dans le coeur de notre fonction. L'indicateur technique est le suivant : si la fastSMA > à la slowSMA, alors on a un indicateur technique bullish et on confirme que l'on veut market buy l'asset. Si ce n'est pas le cas, on ne fait rien. \n",
        "Si on a déjà acheté l'asset, alors on le market sell tout simplement."
      ],
      "metadata": {
        "id": "AfxoBZ9kX6yU"
      }
    },
    {
      "cell_type": "code",
      "source": [
        "def trader(curr):\n",
        "  firstqty = posframe[posframe.Currency == curr].quantity.values[0] #on va selectionner la valeur que l'on veut investir \n",
        "  #qty = float(round(firstqty, 6))\n",
        "  #print(qty)\n",
        "\n",
        "\n",
        "  df = gethourlydata(curr)\n",
        "  applytechnicals(df)\n",
        "  lastrow = df.iloc[-1] #on ne s'interesse qu'a la last row\n",
        "  if not posframe[posframe.Currency == curr].position.values[0]: #si l'on est pas en position\n",
        "    if lastrow.FastSMA < lastrow.SlowSMA:\n",
        "      print(round(firstqty,0))\n",
        "      order = client.create_order(symbol=curr,side='BUY',type='MARKET',quantity= (round(firstqty,0)))\n",
        "\n",
        "      print(order)\n",
        "      changepos(curr, buy=True)\n",
        "     \n",
        "    else:\n",
        "      print(f'Not in position {curr} but condition not fulfilled')\n",
        "  else: #si l'on est deja en position\n",
        "    print(f'Already in {curr} position')\n",
        "    if lastrow.SlowSMA > lastrow.FastSMA:\n",
        "      print(round(firstqty,6))\n",
        "      order = client.create_order(symbol=curr,side='SELL',type='MARKET',quantity= (round(firstqty,6)))\n",
        "\n",
        "      print(order)\n",
        "      changepos(curr, buy=False)\n",
        "\n"
      ],
      "metadata": {
        "id": "4QYStSYFkiCE"
      },
      "execution_count": null,
      "outputs": []
    },
    {
      "cell_type": "markdown",
      "source": [
        "Il nous reste plus qu'à lancer notre fonction pour chaque token que l'on va potentiellement market buy ou market sell. \n",
        "Vous pouvez voir que certains orders sont 'FILLED'. Cela veut bel et bien dire que l'ordre est passé sur binance. Mission réussie."
      ],
      "metadata": {
        "id": "vdxEjKjRYY22"
      }
    },
    {
      "cell_type": "code",
      "source": [
        "for coin in posframe.Currency:\n",
        "  trader(coin)"
      ],
      "metadata": {
        "colab": {
          "base_uri": "https://localhost:8080/"
        },
        "id": "RoDim2x2koSO",
        "outputId": "b739a069-1cda-4445-f66d-c33c51ce2f3c"
      },
      "execution_count": null,
      "outputs": [
        {
          "output_type": "stream",
          "name": "stdout",
          "text": [
            "Not in position FXSUSDT but condition not fulfilled\n",
            "Not in position C98USDT but condition not fulfilled\n",
            "Not in position IRISUSDT but condition not fulfilled\n",
            "Not in position ATOMUSDT but condition not fulfilled\n",
            "Not in position ONEUSDT but condition not fulfilled\n",
            "65.0\n",
            "{'symbol': 'REQUSDT', 'orderId': 51518223, 'orderListId': -1, 'clientOrderId': 'JWuqH3IigMoyRK50cqMzNV', 'transactTime': 1641563233131, 'price': '0.00000000', 'origQty': '65.00000000', 'executedQty': '65.00000000', 'cummulativeQuoteQty': '19.89650000', 'status': 'FILLED', 'timeInForce': 'GTC', 'type': 'MARKET', 'side': 'BUY', 'fills': [{'price': '0.30610000', 'qty': '65.00000000', 'commission': '0.06500000', 'commissionAsset': 'REQ', 'tradeId': 10129535}]}\n",
            "26.0\n",
            "{'symbol': 'ZRXUSDT', 'orderId': 492161987, 'orderListId': -1, 'clientOrderId': 'qPM7ss91RAoq3yI5YRMS0Z', 'transactTime': 1641563233945, 'price': '0.00000000', 'origQty': '26.00000000', 'executedQty': '26.00000000', 'cummulativeQuoteQty': '19.07620000', 'status': 'FILLED', 'timeInForce': 'GTC', 'type': 'MARKET', 'side': 'BUY', 'fills': [{'price': '0.73370000', 'qty': '26.00000000', 'commission': '0.02600000', 'commissionAsset': 'ZRX', 'tradeId': 24040233}]}\n",
            "5.0\n",
            "{'symbol': 'XTZUSDT', 'orderId': 1066933135, 'orderListId': -1, 'clientOrderId': 'jhplzyVCiT7y7bOrtMGivv', 'transactTime': 1641563234430, 'price': '0.00000000', 'origQty': '5.00000000', 'executedQty': '5.00000000', 'cummulativeQuoteQty': '20.79000000', 'status': 'FILLED', 'timeInForce': 'GTC', 'type': 'MARKET', 'side': 'BUY', 'fills': [{'price': '4.15800000', 'qty': '5.00000000', 'commission': '0.00500000', 'commissionAsset': 'XTZ', 'tradeId': 74531246}]}\n",
            "8.0\n",
            "{'symbol': 'LITUSDT', 'orderId': 273288695, 'orderListId': -1, 'clientOrderId': 'mwfwcLiMuQVnyqn3Cszh0g', 'transactTime': 1641563234914, 'price': '0.00000000', 'origQty': '8.00000000', 'executedQty': '8.00000000', 'cummulativeQuoteQty': '20.53600000', 'status': 'FILLED', 'timeInForce': 'GTC', 'type': 'MARKET', 'side': 'BUY', 'fills': [{'price': '2.56700000', 'qty': '8.00000000', 'commission': '0.00800000', 'commissionAsset': 'LIT', 'tradeId': 36316197}]}\n"
          ]
        }
      ]
    },
    {
      "cell_type": "markdown",
      "source": [
        "CONCLUSION : Nous avons réussi à nous appuyer sur un indicateur de tokens étant bullish sur twitter et à confirmer ou infirmer ces tendances de marché en lui apposant un index de confiance (nb d'apparition, positivité ou negativité). Nous avons ensuite pu utiliser l'api de coingecko pour récupérer des données utiles sur les tokens en question. Nous avons ensuite utilisé l'api de binance pour market sell et/ou market buy les tokens sélectionnés en fonction de notre propre indicateur technique. \n",
        "\n",
        "\n",
        "Mais cet algo est-il rentable ? Va t-il vous rendre millionaire ? C'est maintenant à vous de le tester ser.... \n",
        "Je vais personnellement l'améliorer (voir perspectives d'évolution ci-dessous) et le laisser tourner voir si cet algorithme fait maison peut rivaliser avec des traders experimentés !"
      ],
      "metadata": {
        "id": "tFrcjT5hY0Iv"
      }
    },
    {
      "cell_type": "markdown",
      "source": [
        "Perspectives d'évolution :\n",
        "\n",
        "*   Côté technique : Il me faut implémenter un Index historique, cad créer un index qui recense les performances passées de chaque token cité sur le bot twitter et assigne un index en fonction de son côté 'gainer' ou non.\n",
        "*   Côté tendance : Il me faut ajuster le coeff attribué à chacun des indexs pour optimiser historiquement le rendement en fonction des paramètres de tendance. Je voudrais aussi implémenter un autre index qui se fie a la capitalisation en question du token et qui donc attribue un index plus haut à une petite capitalisation (car plus gros potentiel de faire des grosses bougies).\n",
        "\n",
        "*   Côté implémentation : La version qui vous est présentée est une version fonctionnelle. Cependant elle n'est pas optimale car il faut relancer l'algo toutes les 15 minutes. Pour que l'algo soit réellement un bot sans aide exterieure, il faut que je réagence mon code et que je lie chacun des blocs que je peux appeler en une seule commande. Et j'appellerai ensuite cette commande toutes les 15 minutes (ou dès qu'un nouveau tweet du \n",
        "\n",
        "Merci de nous avoir lu. \n",
        "Travail réalisé par Ines Guitton et Axel Battut. \n",
        "\n",
        "\n",
        "\n",
        "\n",
        "\n",
        "\n",
        "\n"
      ],
      "metadata": {
        "id": "R4eliQ44Omw5"
      }
    }
  ]
}